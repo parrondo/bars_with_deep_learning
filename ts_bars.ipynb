{
 "nbformat": 4,
 "nbformat_minor": 2,
 "metadata": {
  "language_info": {
   "name": "python",
   "codemirror_mode": {
    "name": "ipython",
    "version": 3
   },
   "version": "3.7.7-final"
  },
  "orig_nbformat": 2,
  "file_extension": ".py",
  "mimetype": "text/x-python",
  "name": "python",
  "npconvert_exporter": "python",
  "pygments_lexer": "ipython3",
  "version": 3,
  "kernelspec": {
   "name": "python3",
   "display_name": "Python 3"
  }
 },
 "cells": [
  {
   "cell_type": "markdown",
   "metadata": {},
   "source": [
    "# Financial bars at the age of deep learning"
   ]
  },
  {
   "cell_type": "markdown",
   "metadata": {},
   "source": [
    "![candlestick_vs_tensor](visual/vsbar.jpg)"
   ]
  },
  {
   "cell_type": "markdown",
   "metadata": {},
   "source": [
    "At the age of machine learning and deep learning the representation of financial data needs new approaches. Candlesticks for example originated from Japanese rice merchants, and were first used in the 18th century. Obviously they wasn't developed for neural networks. They are very well suited to visualize the price movement, but hide possibly important information. Models process data differently, and they can \"understand\" features that is hard to apprehend in bulk by humans.\n",
    "\n",
    "We recognize patterns in images, neural networks recognise patterns in multidimensional datasets. Of course we can use the same OHLC data to display a bar chart and feed to our network, but we can derive very different additional information from the price movement other than the open, high, low and close price of the sampled bar.\n",
    "\n",
    "In this notebook I will share some ideas about the possibile data transformations for neural networks, and will flavor it with some sacrilege at the end, but there are plenty of other options worth to examine. Stationarity, homoscedacity or uncorrelated features are very important for some forecasting methods, but neural networks doesn't require such strong conditions. These conditions can improve the performance of some models, while others are built to deal with heteroscedastic data like the mixture density network in my earlier article.\n",
    "\n",
    "In the notebook we will use only ask price. Combining it with bid price, volume or other data could lead to many new features.\n",
    "\n",
    "This article insn't the implementation of the ideas in the book of Marcos Lopez de Prado. That is an awesome book, and you can find articles about the topics in it. For example this one from Maks Ivanov, which explanes time bars, tick bars, volume bars, dollar bars and the imbalance bars.\n",
    "\n",
    "We follow a different approach, but the ideas in this article can be mixed with the above mentined techniques. For simplicity we will use time bars, but for most examples any of the above mentioned alternative bar sampling could be used."
   ]
  },
  {
   "cell_type": "code",
   "execution_count": 43,
   "metadata": {},
   "outputs": [],
   "source": [
    "import pandas as pd\n",
    "import numpy as np\n",
    "import plotly.graph_objects as go\n",
    "from plotly.subplots import make_subplots\n",
    "from datetime import datetime\n",
    "from scipy.stats import spearmanr\n",
    "import seaborn as sns\n",
    "import os"
   ]
  },
  {
   "cell_type": "markdown",
   "metadata": {},
   "source": [
    "## Dataset"
   ]
  },
  {
   "cell_type": "markdown",
   "metadata": {},
   "source": [
    "Our raw data is the USD/JPY tick ask price from 2016. We will examine resampling and feature building teqhniques, but won't train a model, so we don't use large dataset. The source of the tick data is dukascopy.com."
   ]
  },
  {
   "cell_type": "code",
   "execution_count": 2,
   "metadata": {},
   "outputs": [],
   "source": [
    "# read tick data\n",
    "df = pd.read_csv('USDJPY_tick.csv', sep=\",\")"
   ]
  },
  {
   "cell_type": "code",
   "execution_count": 3,
   "metadata": {},
   "outputs": [
    {
     "output_type": "execute_result",
     "data": {
      "text/plain": "                     Ask price\nctime                         \n2016-01-03 22:00:01    120.233\n2016-01-03 22:00:02    120.233\n2016-01-03 22:00:04    120.232\n2016-01-03 22:00:11    120.233\n2016-01-03 22:00:25    120.230\n...                        ...\n2016-02-29 23:59:52    112.417\n2016-02-29 23:59:52    112.417\n2016-02-29 23:59:52    112.417\n2016-02-29 23:59:53    112.417\n2016-02-29 23:59:56    112.417\n\n[5089898 rows x 1 columns]",
      "text/html": "<div>\n<style scoped>\n    .dataframe tbody tr th:only-of-type {\n        vertical-align: middle;\n    }\n\n    .dataframe tbody tr th {\n        vertical-align: top;\n    }\n\n    .dataframe thead th {\n        text-align: right;\n    }\n</style>\n<table border=\"1\" class=\"dataframe\">\n  <thead>\n    <tr style=\"text-align: right;\">\n      <th></th>\n      <th>Ask price</th>\n    </tr>\n    <tr>\n      <th>ctime</th>\n      <th></th>\n    </tr>\n  </thead>\n  <tbody>\n    <tr>\n      <th>2016-01-03 22:00:01</th>\n      <td>120.233</td>\n    </tr>\n    <tr>\n      <th>2016-01-03 22:00:02</th>\n      <td>120.233</td>\n    </tr>\n    <tr>\n      <th>2016-01-03 22:00:04</th>\n      <td>120.232</td>\n    </tr>\n    <tr>\n      <th>2016-01-03 22:00:11</th>\n      <td>120.233</td>\n    </tr>\n    <tr>\n      <th>2016-01-03 22:00:25</th>\n      <td>120.230</td>\n    </tr>\n    <tr>\n      <th>...</th>\n      <td>...</td>\n    </tr>\n    <tr>\n      <th>2016-02-29 23:59:52</th>\n      <td>112.417</td>\n    </tr>\n    <tr>\n      <th>2016-02-29 23:59:52</th>\n      <td>112.417</td>\n    </tr>\n    <tr>\n      <th>2016-02-29 23:59:52</th>\n      <td>112.417</td>\n    </tr>\n    <tr>\n      <th>2016-02-29 23:59:53</th>\n      <td>112.417</td>\n    </tr>\n    <tr>\n      <th>2016-02-29 23:59:56</th>\n      <td>112.417</td>\n    </tr>\n  </tbody>\n</table>\n<p>5089898 rows × 1 columns</p>\n</div>"
     },
     "metadata": {},
     "execution_count": 3
    }
   ],
   "source": [
    "# time column to index\n",
    "df['ctime']  = pd.to_datetime(df['Timestamp'])\n",
    "df = df.set_index('ctime')\n",
    "df = df.drop(columns=['Timestamp'])\n",
    "df"
   ]
  },
  {
   "cell_type": "markdown",
   "metadata": {},
   "source": [
    "## Good old candlesticks"
   ]
  },
  {
   "cell_type": "markdown",
   "metadata": {},
   "source": [
    "Why we need bars at all? The main role of bars is to filter noise, compress information, and transform the data to a human or model comprehensible form. This is true to all bar types, not only candlesticks. Noise filtering and information compressing helps us (or doesn't) to see the price movement, recognize trends, support and resistance levels, volatile regions and candlestick patterns (what is in my opinion more misleading than useful). Unfortunatelly because of the filtering and compressing lots of important information vanishes, or we get false impressions. For example the candlestick tailes are much thiner than the body, what visualy implies that most of the price action happened in the region of the body, but it isn't always true, sometimes most of the price action happenes in the upper or lower tail or has multimodal distribution."
   ]
  },
  {
   "cell_type": "code",
   "execution_count": 4,
   "metadata": {},
   "outputs": [],
   "source": [
    "# resample 15 min data\n",
    "df_15 = df['Ask price'].resample('15Min').ohlc().iloc[100:150]"
   ]
  },
  {
   "cell_type": "code",
   "execution_count": 5,
   "metadata": {},
   "outputs": [
    {
     "output_type": "display_data",
     "data": {
      "application/vnd.plotly.v1+json": {
       "config": {
        "plotlyServerURL": "https://plot.ly"
       },
       "data": [
        {
         "close": [
          119.339,
          119.38799999999999,
          119.352,
          119.47399999999999,
          119.38600000000001,
          119.421,
          119.361,
          119.23,
          119.147,
          119.22399999999999,
          119.45100000000001,
          119.56700000000001,
          119.53,
          119.574,
          119.58,
          119.62899999999999,
          119.68,
          119.624,
          119.587,
          119.525,
          119.53,
          119.47399999999999,
          119.443,
          119.546,
          119.524,
          119.37299999999999,
          119.419,
          119.425,
          119.31200000000001,
          119.39299999999999,
          119.45,
          119.464,
          119.544,
          119.56,
          119.45200000000001,
          119.425,
          119.277,
          119.20200000000001,
          119.23,
          119.17299999999999,
          119.079,
          119.04299999999999,
          119.02799999999999,
          119.054,
          118.905,
          118.932,
          119.027,
          119.118,
          119.084,
          119.052
         ],
         "decreasing": {
          "line": {
           "color": "blue"
          }
         },
         "high": [
          119.36399999999999,
          119.389,
          119.399,
          119.475,
          119.53,
          119.448,
          119.435,
          119.36,
          119.281,
          119.32799999999999,
          119.48100000000001,
          119.609,
          119.586,
          119.57700000000001,
          119.64,
          119.631,
          119.699,
          119.694,
          119.63600000000001,
          119.594,
          119.566,
          119.54799999999999,
          119.47399999999999,
          119.56299999999999,
          119.57,
          119.525,
          119.427,
          119.435,
          119.46700000000001,
          119.40700000000001,
          119.48700000000001,
          119.469,
          119.546,
          119.56,
          119.583,
          119.484,
          119.443,
          119.301,
          119.23700000000001,
          119.27600000000001,
          119.17399999999999,
          119.088,
          119.119,
          119.11399999999999,
          119.053,
          118.962,
          119.052,
          119.137,
          119.167,
          119.137
         ],
         "increasing": {
          "line": {
           "color": "red"
          }
         },
         "low": [
          119.29299999999999,
          119.32,
          119.333,
          119.34700000000001,
          119.383,
          119.37299999999999,
          119.36,
          119.189,
          119.12899999999999,
          119.102,
          119.21600000000001,
          119.45200000000001,
          119.48200000000001,
          119.51899999999999,
          119.568,
          119.56,
          119.59100000000001,
          119.624,
          119.574,
          119.524,
          119.51,
          119.47,
          119.411,
          119.439,
          119.51,
          119.368,
          119.34100000000001,
          119.369,
          119.31200000000001,
          119.306,
          119.382,
          119.417,
          119.463,
          119.473,
          119.43700000000001,
          119.38600000000001,
          119.23899999999999,
          119.199,
          119.164,
          119.17,
          119.054,
          118.962,
          119.027,
          119.03,
          118.859,
          118.833,
          118.934,
          118.97200000000001,
          119.071,
          119.045
         ],
         "open": [
          119.318,
          119.34,
          119.389,
          119.353,
          119.477,
          119.387,
          119.42299999999999,
          119.36,
          119.23,
          119.147,
          119.223,
          119.45200000000001,
          119.586,
          119.529,
          119.574,
          119.579,
          119.62700000000001,
          119.68,
          119.62200000000001,
          119.586,
          119.525,
          119.53,
          119.47399999999999,
          119.444,
          119.546,
          119.524,
          119.37299999999999,
          119.419,
          119.42299999999999,
          119.311,
          119.39299999999999,
          119.449,
          119.464,
          119.546,
          119.55799999999999,
          119.45100000000001,
          119.427,
          119.27799999999999,
          119.20200000000001,
          119.23100000000001,
          119.17399999999999,
          119.079,
          119.044,
          119.03,
          119.053,
          118.905,
          118.934,
          119.02600000000001,
          119.119,
          119.084
         ],
         "type": "candlestick",
         "x": [
          "2016-01-04T23:00:00",
          "2016-01-04T23:15:00",
          "2016-01-04T23:30:00",
          "2016-01-04T23:45:00",
          "2016-01-05T00:00:00",
          "2016-01-05T00:15:00",
          "2016-01-05T00:30:00",
          "2016-01-05T00:45:00",
          "2016-01-05T01:00:00",
          "2016-01-05T01:15:00",
          "2016-01-05T01:30:00",
          "2016-01-05T01:45:00",
          "2016-01-05T02:00:00",
          "2016-01-05T02:15:00",
          "2016-01-05T02:30:00",
          "2016-01-05T02:45:00",
          "2016-01-05T03:00:00",
          "2016-01-05T03:15:00",
          "2016-01-05T03:30:00",
          "2016-01-05T03:45:00",
          "2016-01-05T04:00:00",
          "2016-01-05T04:15:00",
          "2016-01-05T04:30:00",
          "2016-01-05T04:45:00",
          "2016-01-05T05:00:00",
          "2016-01-05T05:15:00",
          "2016-01-05T05:30:00",
          "2016-01-05T05:45:00",
          "2016-01-05T06:00:00",
          "2016-01-05T06:15:00",
          "2016-01-05T06:30:00",
          "2016-01-05T06:45:00",
          "2016-01-05T07:00:00",
          "2016-01-05T07:15:00",
          "2016-01-05T07:30:00",
          "2016-01-05T07:45:00",
          "2016-01-05T08:00:00",
          "2016-01-05T08:15:00",
          "2016-01-05T08:30:00",
          "2016-01-05T08:45:00",
          "2016-01-05T09:00:00",
          "2016-01-05T09:15:00",
          "2016-01-05T09:30:00",
          "2016-01-05T09:45:00",
          "2016-01-05T10:00:00",
          "2016-01-05T10:15:00",
          "2016-01-05T10:30:00",
          "2016-01-05T10:45:00",
          "2016-01-05T11:00:00",
          "2016-01-05T11:15:00"
         ]
        }
       ],
       "layout": {
        "margin": {
         "b": 0,
         "l": 0,
         "r": 30,
         "t": 50
        },
        "template": {
         "data": {
          "bar": [
           {
            "error_x": {
             "color": "#2a3f5f"
            },
            "error_y": {
             "color": "#2a3f5f"
            },
            "marker": {
             "line": {
              "color": "#E5ECF6",
              "width": 0.5
             }
            },
            "type": "bar"
           }
          ],
          "barpolar": [
           {
            "marker": {
             "line": {
              "color": "#E5ECF6",
              "width": 0.5
             }
            },
            "type": "barpolar"
           }
          ],
          "carpet": [
           {
            "aaxis": {
             "endlinecolor": "#2a3f5f",
             "gridcolor": "white",
             "linecolor": "white",
             "minorgridcolor": "white",
             "startlinecolor": "#2a3f5f"
            },
            "baxis": {
             "endlinecolor": "#2a3f5f",
             "gridcolor": "white",
             "linecolor": "white",
             "minorgridcolor": "white",
             "startlinecolor": "#2a3f5f"
            },
            "type": "carpet"
           }
          ],
          "choropleth": [
           {
            "colorbar": {
             "outlinewidth": 0,
             "ticks": ""
            },
            "type": "choropleth"
           }
          ],
          "contour": [
           {
            "colorbar": {
             "outlinewidth": 0,
             "ticks": ""
            },
            "colorscale": [
             [
              0,
              "#0d0887"
             ],
             [
              0.1111111111111111,
              "#46039f"
             ],
             [
              0.2222222222222222,
              "#7201a8"
             ],
             [
              0.3333333333333333,
              "#9c179e"
             ],
             [
              0.4444444444444444,
              "#bd3786"
             ],
             [
              0.5555555555555556,
              "#d8576b"
             ],
             [
              0.6666666666666666,
              "#ed7953"
             ],
             [
              0.7777777777777778,
              "#fb9f3a"
             ],
             [
              0.8888888888888888,
              "#fdca26"
             ],
             [
              1,
              "#f0f921"
             ]
            ],
            "type": "contour"
           }
          ],
          "contourcarpet": [
           {
            "colorbar": {
             "outlinewidth": 0,
             "ticks": ""
            },
            "type": "contourcarpet"
           }
          ],
          "heatmap": [
           {
            "colorbar": {
             "outlinewidth": 0,
             "ticks": ""
            },
            "colorscale": [
             [
              0,
              "#0d0887"
             ],
             [
              0.1111111111111111,
              "#46039f"
             ],
             [
              0.2222222222222222,
              "#7201a8"
             ],
             [
              0.3333333333333333,
              "#9c179e"
             ],
             [
              0.4444444444444444,
              "#bd3786"
             ],
             [
              0.5555555555555556,
              "#d8576b"
             ],
             [
              0.6666666666666666,
              "#ed7953"
             ],
             [
              0.7777777777777778,
              "#fb9f3a"
             ],
             [
              0.8888888888888888,
              "#fdca26"
             ],
             [
              1,
              "#f0f921"
             ]
            ],
            "type": "heatmap"
           }
          ],
          "heatmapgl": [
           {
            "colorbar": {
             "outlinewidth": 0,
             "ticks": ""
            },
            "colorscale": [
             [
              0,
              "#0d0887"
             ],
             [
              0.1111111111111111,
              "#46039f"
             ],
             [
              0.2222222222222222,
              "#7201a8"
             ],
             [
              0.3333333333333333,
              "#9c179e"
             ],
             [
              0.4444444444444444,
              "#bd3786"
             ],
             [
              0.5555555555555556,
              "#d8576b"
             ],
             [
              0.6666666666666666,
              "#ed7953"
             ],
             [
              0.7777777777777778,
              "#fb9f3a"
             ],
             [
              0.8888888888888888,
              "#fdca26"
             ],
             [
              1,
              "#f0f921"
             ]
            ],
            "type": "heatmapgl"
           }
          ],
          "histogram": [
           {
            "marker": {
             "colorbar": {
              "outlinewidth": 0,
              "ticks": ""
             }
            },
            "type": "histogram"
           }
          ],
          "histogram2d": [
           {
            "colorbar": {
             "outlinewidth": 0,
             "ticks": ""
            },
            "colorscale": [
             [
              0,
              "#0d0887"
             ],
             [
              0.1111111111111111,
              "#46039f"
             ],
             [
              0.2222222222222222,
              "#7201a8"
             ],
             [
              0.3333333333333333,
              "#9c179e"
             ],
             [
              0.4444444444444444,
              "#bd3786"
             ],
             [
              0.5555555555555556,
              "#d8576b"
             ],
             [
              0.6666666666666666,
              "#ed7953"
             ],
             [
              0.7777777777777778,
              "#fb9f3a"
             ],
             [
              0.8888888888888888,
              "#fdca26"
             ],
             [
              1,
              "#f0f921"
             ]
            ],
            "type": "histogram2d"
           }
          ],
          "histogram2dcontour": [
           {
            "colorbar": {
             "outlinewidth": 0,
             "ticks": ""
            },
            "colorscale": [
             [
              0,
              "#0d0887"
             ],
             [
              0.1111111111111111,
              "#46039f"
             ],
             [
              0.2222222222222222,
              "#7201a8"
             ],
             [
              0.3333333333333333,
              "#9c179e"
             ],
             [
              0.4444444444444444,
              "#bd3786"
             ],
             [
              0.5555555555555556,
              "#d8576b"
             ],
             [
              0.6666666666666666,
              "#ed7953"
             ],
             [
              0.7777777777777778,
              "#fb9f3a"
             ],
             [
              0.8888888888888888,
              "#fdca26"
             ],
             [
              1,
              "#f0f921"
             ]
            ],
            "type": "histogram2dcontour"
           }
          ],
          "mesh3d": [
           {
            "colorbar": {
             "outlinewidth": 0,
             "ticks": ""
            },
            "type": "mesh3d"
           }
          ],
          "parcoords": [
           {
            "line": {
             "colorbar": {
              "outlinewidth": 0,
              "ticks": ""
             }
            },
            "type": "parcoords"
           }
          ],
          "pie": [
           {
            "automargin": true,
            "type": "pie"
           }
          ],
          "scatter": [
           {
            "marker": {
             "colorbar": {
              "outlinewidth": 0,
              "ticks": ""
             }
            },
            "type": "scatter"
           }
          ],
          "scatter3d": [
           {
            "line": {
             "colorbar": {
              "outlinewidth": 0,
              "ticks": ""
             }
            },
            "marker": {
             "colorbar": {
              "outlinewidth": 0,
              "ticks": ""
             }
            },
            "type": "scatter3d"
           }
          ],
          "scattercarpet": [
           {
            "marker": {
             "colorbar": {
              "outlinewidth": 0,
              "ticks": ""
             }
            },
            "type": "scattercarpet"
           }
          ],
          "scattergeo": [
           {
            "marker": {
             "colorbar": {
              "outlinewidth": 0,
              "ticks": ""
             }
            },
            "type": "scattergeo"
           }
          ],
          "scattergl": [
           {
            "marker": {
             "colorbar": {
              "outlinewidth": 0,
              "ticks": ""
             }
            },
            "type": "scattergl"
           }
          ],
          "scattermapbox": [
           {
            "marker": {
             "colorbar": {
              "outlinewidth": 0,
              "ticks": ""
             }
            },
            "type": "scattermapbox"
           }
          ],
          "scatterpolar": [
           {
            "marker": {
             "colorbar": {
              "outlinewidth": 0,
              "ticks": ""
             }
            },
            "type": "scatterpolar"
           }
          ],
          "scatterpolargl": [
           {
            "marker": {
             "colorbar": {
              "outlinewidth": 0,
              "ticks": ""
             }
            },
            "type": "scatterpolargl"
           }
          ],
          "scatterternary": [
           {
            "marker": {
             "colorbar": {
              "outlinewidth": 0,
              "ticks": ""
             }
            },
            "type": "scatterternary"
           }
          ],
          "surface": [
           {
            "colorbar": {
             "outlinewidth": 0,
             "ticks": ""
            },
            "colorscale": [
             [
              0,
              "#0d0887"
             ],
             [
              0.1111111111111111,
              "#46039f"
             ],
             [
              0.2222222222222222,
              "#7201a8"
             ],
             [
              0.3333333333333333,
              "#9c179e"
             ],
             [
              0.4444444444444444,
              "#bd3786"
             ],
             [
              0.5555555555555556,
              "#d8576b"
             ],
             [
              0.6666666666666666,
              "#ed7953"
             ],
             [
              0.7777777777777778,
              "#fb9f3a"
             ],
             [
              0.8888888888888888,
              "#fdca26"
             ],
             [
              1,
              "#f0f921"
             ]
            ],
            "type": "surface"
           }
          ],
          "table": [
           {
            "cells": {
             "fill": {
              "color": "#EBF0F8"
             },
             "line": {
              "color": "white"
             }
            },
            "header": {
             "fill": {
              "color": "#C8D4E3"
             },
             "line": {
              "color": "white"
             }
            },
            "type": "table"
           }
          ]
         },
         "layout": {
          "annotationdefaults": {
           "arrowcolor": "#2a3f5f",
           "arrowhead": 0,
           "arrowwidth": 1
          },
          "coloraxis": {
           "colorbar": {
            "outlinewidth": 0,
            "ticks": ""
           }
          },
          "colorscale": {
           "diverging": [
            [
             0,
             "#8e0152"
            ],
            [
             0.1,
             "#c51b7d"
            ],
            [
             0.2,
             "#de77ae"
            ],
            [
             0.3,
             "#f1b6da"
            ],
            [
             0.4,
             "#fde0ef"
            ],
            [
             0.5,
             "#f7f7f7"
            ],
            [
             0.6,
             "#e6f5d0"
            ],
            [
             0.7,
             "#b8e186"
            ],
            [
             0.8,
             "#7fbc41"
            ],
            [
             0.9,
             "#4d9221"
            ],
            [
             1,
             "#276419"
            ]
           ],
           "sequential": [
            [
             0,
             "#0d0887"
            ],
            [
             0.1111111111111111,
             "#46039f"
            ],
            [
             0.2222222222222222,
             "#7201a8"
            ],
            [
             0.3333333333333333,
             "#9c179e"
            ],
            [
             0.4444444444444444,
             "#bd3786"
            ],
            [
             0.5555555555555556,
             "#d8576b"
            ],
            [
             0.6666666666666666,
             "#ed7953"
            ],
            [
             0.7777777777777778,
             "#fb9f3a"
            ],
            [
             0.8888888888888888,
             "#fdca26"
            ],
            [
             1,
             "#f0f921"
            ]
           ],
           "sequentialminus": [
            [
             0,
             "#0d0887"
            ],
            [
             0.1111111111111111,
             "#46039f"
            ],
            [
             0.2222222222222222,
             "#7201a8"
            ],
            [
             0.3333333333333333,
             "#9c179e"
            ],
            [
             0.4444444444444444,
             "#bd3786"
            ],
            [
             0.5555555555555556,
             "#d8576b"
            ],
            [
             0.6666666666666666,
             "#ed7953"
            ],
            [
             0.7777777777777778,
             "#fb9f3a"
            ],
            [
             0.8888888888888888,
             "#fdca26"
            ],
            [
             1,
             "#f0f921"
            ]
           ]
          },
          "colorway": [
           "#636efa",
           "#EF553B",
           "#00cc96",
           "#ab63fa",
           "#FFA15A",
           "#19d3f3",
           "#FF6692",
           "#B6E880",
           "#FF97FF",
           "#FECB52"
          ],
          "font": {
           "color": "#2a3f5f"
          },
          "geo": {
           "bgcolor": "white",
           "lakecolor": "white",
           "landcolor": "#E5ECF6",
           "showlakes": true,
           "showland": true,
           "subunitcolor": "white"
          },
          "hoverlabel": {
           "align": "left"
          },
          "hovermode": "closest",
          "mapbox": {
           "style": "light"
          },
          "paper_bgcolor": "white",
          "plot_bgcolor": "#E5ECF6",
          "polar": {
           "angularaxis": {
            "gridcolor": "white",
            "linecolor": "white",
            "ticks": ""
           },
           "bgcolor": "#E5ECF6",
           "radialaxis": {
            "gridcolor": "white",
            "linecolor": "white",
            "ticks": ""
           }
          },
          "scene": {
           "xaxis": {
            "backgroundcolor": "#E5ECF6",
            "gridcolor": "white",
            "gridwidth": 2,
            "linecolor": "white",
            "showbackground": true,
            "ticks": "",
            "zerolinecolor": "white"
           },
           "yaxis": {
            "backgroundcolor": "#E5ECF6",
            "gridcolor": "white",
            "gridwidth": 2,
            "linecolor": "white",
            "showbackground": true,
            "ticks": "",
            "zerolinecolor": "white"
           },
           "zaxis": {
            "backgroundcolor": "#E5ECF6",
            "gridcolor": "white",
            "gridwidth": 2,
            "linecolor": "white",
            "showbackground": true,
            "ticks": "",
            "zerolinecolor": "white"
           }
          },
          "shapedefaults": {
           "line": {
            "color": "#2a3f5f"
           }
          },
          "ternary": {
           "aaxis": {
            "gridcolor": "white",
            "linecolor": "white",
            "ticks": ""
           },
           "baxis": {
            "gridcolor": "white",
            "linecolor": "white",
            "ticks": ""
           },
           "bgcolor": "#E5ECF6",
           "caxis": {
            "gridcolor": "white",
            "linecolor": "white",
            "ticks": ""
           }
          },
          "title": {
           "x": 0.05
          },
          "xaxis": {
           "automargin": true,
           "gridcolor": "white",
           "linecolor": "white",
           "ticks": "",
           "title": {
            "standoff": 15
           },
           "zerolinecolor": "white",
           "zerolinewidth": 2
          },
          "yaxis": {
           "automargin": true,
           "gridcolor": "white",
           "linecolor": "white",
           "ticks": "",
           "title": {
            "standoff": 15
           },
           "zerolinecolor": "white",
           "zerolinewidth": 2
          }
         }
        },
        "title": {
         "text": "15 min bars",
         "x": 0.5
        },
        "xaxis": {
         "rangeslider": {
          "visible": false
         },
         "title": {
          "text": "time"
         }
        },
        "yaxis": {
         "title": {
          "text": "USD/JPY"
         }
        }
       }
      }
     },
     "metadata": {}
    }
   ],
   "source": [
    "fig = go.Figure(data=[go.Candlestick(x=df_15.index,\n",
    "                open=df_15['open'],\n",
    "                high=df_15['high'],\n",
    "                low=df_15['low'],\n",
    "                close=df_15['close'],\n",
    "                increasing_line_color= 'red', decreasing_line_color= 'blue')])\n",
    "fig.update(layout_xaxis_rangeslider_visible=False)\n",
    "fig.update_layout(\n",
    "    xaxis_title=\"time\",\n",
    "    yaxis_title=\"USD/JPY\",\n",
    "    title_text='15 min bars', \n",
    "    title_x=0.5,\n",
    "    margin=dict(l=0,r=30,b=0,t=50))\n",
    "fig.show()"
   ]
  },
  {
   "cell_type": "code",
   "execution_count": 6,
   "metadata": {},
   "outputs": [],
   "source": [
    "# release df_15, will not use later\n",
    "del df_15"
   ]
  },
  {
   "cell_type": "markdown",
   "metadata": {},
   "source": [
    "## Bar tensors"
   ]
  },
  {
   "cell_type": "markdown",
   "metadata": {},
   "source": [
    "When we sample \"bars\" for models the main goal is similar to sampling bars for human visualization. Most of the times we want less noisy data, less data to speed up calculation, and features that we hope will improve our model's performance. Of course we can always use raw tick data, and I personally prefer tick charts to bars when watching shorter price movements. Why use bars then at all when training models?\n",
    "\n",
    "- One reason is the required computation power. Depending on the range of the bar and the number of parameters, bar data can be only a fraction in size of the original tick data.\n",
    "- Models based on LSTM layers have problems with long sequences, and the frequency of tick data is simply too much for them if the goal forecast timeframe is relativelly large. But even CNN based Wavenet models have limits.\n",
    "- We can produce features from tick data which can improve model performance.\n",
    "\n",
    "The number of features of a bar is arbitrary. We should consider the bars as tensors. We will use one dimensional vectors as bars, but it isn't difficult to make up multidimensional bars if we want, and our model is capable to utilize them. Just an example for a 2XN dimension bar: The N represents the number of features we derive from the tick data, and the two layers are the ask and bid data. Of course you need a proper model to use this arrangement of data, because the same data could have 1X2N dimension, where the features derived from ask and bid ticks are concatenated along the same axis. But if you use 2XN dimension input you can use a Conv1D layer over it similar to the Conv2D convolution of an RGB image. But we can expand our features in a very diferent dimension. We can use the last tick data as an anchor point, and instead of sampling only from one timeframe, we can use derived features or statistics of different timeframes ending at this anchor tick. When using deep learning models we should consider the layers of the model when building the bars, because different layers can explore different connections. \n",
    "\n",
    "What kind of new features can we add to our bar tensors? Any kind we can imagine and turns out to be useful. The open, high, low, close (first, max, last, min in the code) can remain among our features, why not, but if you don't care about slippage between bars you can even omit the open price. Of course if you resample daily stock prices you shouldn't drop it, but the open price of a 1 minute bar may be not so important. A feature can be the mean of the ticks in the bar range, or the volume weighted mean of the ticks. If we use time-based bars, then the number of ticks during the time-range can be an other feature. If we use tick bars, then the time-range of the ticks in the bar can be a feature. We can use the standard deviation of ticks in a bar to compare the volatility of bars and Pearson correlation between the price and the time axis to estimate the monotonity of the price movement. Log return can be an other feature, and we will calculate the quantiles to estimate the regions where the tick price resides in the bar. Of course we could generate other features. If you have something in mind you can share it in the comments or on Linkedin :)\n",
    "\n",
    "Ok, lets build our \"bars\"!:"
   ]
  },
  {
   "cell_type": "code",
   "execution_count": 7,
   "metadata": {},
   "outputs": [],
   "source": [
    "# instantiate 5 min resampler object\n",
    "rs_5m = df.resample('5min')"
   ]
  },
  {
   "cell_type": "code",
   "execution_count": 8,
   "metadata": {},
   "outputs": [],
   "source": [
    "# build sampler functions\n",
    "# instead of lambda function use normal function to have the same column name\n",
    "def bar_len(x): return len(x)\n",
    "\n",
    "def bar_quantile_25(x): return x.quantile(0.25)\n",
    "def bar_quantile_75(x): return x.quantile(0.75)\n",
    "def bar_spearman(x): \n",
    "    corr, p_value = spearmanr(x, np.arange(len(x)))\n",
    "    return corr"
   ]
  },
  {
   "cell_type": "code",
   "execution_count": 9,
   "metadata": {},
   "outputs": [],
   "source": [
    "# sample the 5 min dataset with the following columns:\n",
    "df_5m = rs_5m.agg({ 'Ask price':    ['first',           # open\n",
    "                                    'max',              # high\n",
    "                                    'min',              # low\n",
    "                                    'last',             # close\n",
    "                                    'mean',             # mean\n",
    "                                    'std',              # standard deviation\n",
    "                                    bar_len,            # number of ticks\n",
    "                                    bar_quantile_25,    # Q1\n",
    "                                    bar_quantile_75,    # Q3\n",
    "                                    bar_spearman]})     # Spearman correlation\n",
    "# simplify dataset as we use only the ask price                                  \n",
    "df_5m = df_5m['Ask price']"
   ]
  },
  {
   "cell_type": "code",
   "execution_count": 10,
   "metadata": {},
   "outputs": [
    {
     "output_type": "execute_result",
     "data": {
      "text/plain": "                       first      max      min     last        mean       std  \\\nctime                                                                           \n2016-01-03 22:00:00  120.233  120.234  120.227  120.228  120.231125  0.001963   \n2016-01-03 22:05:00  120.229  120.242  120.221  120.231  120.232787  0.005567   \n2016-01-03 22:10:00  120.233  120.244  120.221  120.234  120.233771  0.007161   \n2016-01-03 22:15:00  120.234  120.256  120.225  120.248  120.243313  0.006891   \n2016-01-03 22:20:00  120.248  120.266  120.243  120.257  120.250207  0.004880   \n...                      ...      ...      ...      ...         ...       ...   \n2016-02-29 23:35:00  112.382  112.445  112.382  112.433  112.411838  0.017112   \n2016-02-29 23:40:00  112.433  112.440  112.422  112.436  112.428974  0.005072   \n2016-02-29 23:45:00  112.436  112.443  112.358  112.403  112.395758  0.025452   \n2016-02-29 23:50:00  112.403  112.423  112.387  112.411  112.406352  0.007461   \n2016-02-29 23:55:00  112.411  112.447  112.411  112.417  112.437081  0.010234   \n\n                     bar_len  bar_quantile_25  bar_quantile_75  bar_spearman  \\\nctime                                                                          \n2016-01-03 22:00:00     24.0        120.23000        120.23300     -0.427193   \n2016-01-03 22:05:00     94.0        120.22900        120.23700      0.792465   \n2016-01-03 22:10:00     70.0        120.22650        120.23975     -0.653239   \n2016-01-03 22:15:00    144.0        120.24100        120.24800      0.549631   \n2016-01-03 22:20:00    150.0        120.24700        120.25200      0.550134   \n...                      ...              ...              ...           ...   \n2016-02-29 23:35:00    241.0        112.39700        112.42700      0.827126   \n2016-02-29 23:40:00    231.0        112.42500        112.43300      0.251933   \n2016-02-29 23:45:00    277.0        112.37200        112.41300     -0.636658   \n2016-02-29 23:50:00    244.0        112.40200        112.41000     -0.152562   \n2016-02-29 23:55:00    284.0        112.43275        112.44400      0.326996   \n\n                     bar_log_r  \nctime                           \n2016-01-03 22:00:00  -0.000042  \n2016-01-03 22:05:00   0.000017  \n2016-01-03 22:10:00   0.000008  \n2016-01-03 22:15:00   0.000116  \n2016-01-03 22:20:00   0.000075  \n...                        ...  \n2016-02-29 23:35:00   0.000454  \n2016-02-29 23:40:00   0.000027  \n2016-02-29 23:45:00  -0.000294  \n2016-02-29 23:50:00   0.000071  \n2016-02-29 23:55:00   0.000053  \n\n[16440 rows x 11 columns]",
      "text/html": "<div>\n<style scoped>\n    .dataframe tbody tr th:only-of-type {\n        vertical-align: middle;\n    }\n\n    .dataframe tbody tr th {\n        vertical-align: top;\n    }\n\n    .dataframe thead th {\n        text-align: right;\n    }\n</style>\n<table border=\"1\" class=\"dataframe\">\n  <thead>\n    <tr style=\"text-align: right;\">\n      <th></th>\n      <th>first</th>\n      <th>max</th>\n      <th>min</th>\n      <th>last</th>\n      <th>mean</th>\n      <th>std</th>\n      <th>bar_len</th>\n      <th>bar_quantile_25</th>\n      <th>bar_quantile_75</th>\n      <th>bar_spearman</th>\n      <th>bar_log_r</th>\n    </tr>\n    <tr>\n      <th>ctime</th>\n      <th></th>\n      <th></th>\n      <th></th>\n      <th></th>\n      <th></th>\n      <th></th>\n      <th></th>\n      <th></th>\n      <th></th>\n      <th></th>\n      <th></th>\n    </tr>\n  </thead>\n  <tbody>\n    <tr>\n      <th>2016-01-03 22:00:00</th>\n      <td>120.233</td>\n      <td>120.234</td>\n      <td>120.227</td>\n      <td>120.228</td>\n      <td>120.231125</td>\n      <td>0.001963</td>\n      <td>24.0</td>\n      <td>120.23000</td>\n      <td>120.23300</td>\n      <td>-0.427193</td>\n      <td>-0.000042</td>\n    </tr>\n    <tr>\n      <th>2016-01-03 22:05:00</th>\n      <td>120.229</td>\n      <td>120.242</td>\n      <td>120.221</td>\n      <td>120.231</td>\n      <td>120.232787</td>\n      <td>0.005567</td>\n      <td>94.0</td>\n      <td>120.22900</td>\n      <td>120.23700</td>\n      <td>0.792465</td>\n      <td>0.000017</td>\n    </tr>\n    <tr>\n      <th>2016-01-03 22:10:00</th>\n      <td>120.233</td>\n      <td>120.244</td>\n      <td>120.221</td>\n      <td>120.234</td>\n      <td>120.233771</td>\n      <td>0.007161</td>\n      <td>70.0</td>\n      <td>120.22650</td>\n      <td>120.23975</td>\n      <td>-0.653239</td>\n      <td>0.000008</td>\n    </tr>\n    <tr>\n      <th>2016-01-03 22:15:00</th>\n      <td>120.234</td>\n      <td>120.256</td>\n      <td>120.225</td>\n      <td>120.248</td>\n      <td>120.243313</td>\n      <td>0.006891</td>\n      <td>144.0</td>\n      <td>120.24100</td>\n      <td>120.24800</td>\n      <td>0.549631</td>\n      <td>0.000116</td>\n    </tr>\n    <tr>\n      <th>2016-01-03 22:20:00</th>\n      <td>120.248</td>\n      <td>120.266</td>\n      <td>120.243</td>\n      <td>120.257</td>\n      <td>120.250207</td>\n      <td>0.004880</td>\n      <td>150.0</td>\n      <td>120.24700</td>\n      <td>120.25200</td>\n      <td>0.550134</td>\n      <td>0.000075</td>\n    </tr>\n    <tr>\n      <th>...</th>\n      <td>...</td>\n      <td>...</td>\n      <td>...</td>\n      <td>...</td>\n      <td>...</td>\n      <td>...</td>\n      <td>...</td>\n      <td>...</td>\n      <td>...</td>\n      <td>...</td>\n      <td>...</td>\n    </tr>\n    <tr>\n      <th>2016-02-29 23:35:00</th>\n      <td>112.382</td>\n      <td>112.445</td>\n      <td>112.382</td>\n      <td>112.433</td>\n      <td>112.411838</td>\n      <td>0.017112</td>\n      <td>241.0</td>\n      <td>112.39700</td>\n      <td>112.42700</td>\n      <td>0.827126</td>\n      <td>0.000454</td>\n    </tr>\n    <tr>\n      <th>2016-02-29 23:40:00</th>\n      <td>112.433</td>\n      <td>112.440</td>\n      <td>112.422</td>\n      <td>112.436</td>\n      <td>112.428974</td>\n      <td>0.005072</td>\n      <td>231.0</td>\n      <td>112.42500</td>\n      <td>112.43300</td>\n      <td>0.251933</td>\n      <td>0.000027</td>\n    </tr>\n    <tr>\n      <th>2016-02-29 23:45:00</th>\n      <td>112.436</td>\n      <td>112.443</td>\n      <td>112.358</td>\n      <td>112.403</td>\n      <td>112.395758</td>\n      <td>0.025452</td>\n      <td>277.0</td>\n      <td>112.37200</td>\n      <td>112.41300</td>\n      <td>-0.636658</td>\n      <td>-0.000294</td>\n    </tr>\n    <tr>\n      <th>2016-02-29 23:50:00</th>\n      <td>112.403</td>\n      <td>112.423</td>\n      <td>112.387</td>\n      <td>112.411</td>\n      <td>112.406352</td>\n      <td>0.007461</td>\n      <td>244.0</td>\n      <td>112.40200</td>\n      <td>112.41000</td>\n      <td>-0.152562</td>\n      <td>0.000071</td>\n    </tr>\n    <tr>\n      <th>2016-02-29 23:55:00</th>\n      <td>112.411</td>\n      <td>112.447</td>\n      <td>112.411</td>\n      <td>112.417</td>\n      <td>112.437081</td>\n      <td>0.010234</td>\n      <td>284.0</td>\n      <td>112.43275</td>\n      <td>112.44400</td>\n      <td>0.326996</td>\n      <td>0.000053</td>\n    </tr>\n  </tbody>\n</table>\n<p>16440 rows × 11 columns</p>\n</div>"
     },
     "metadata": {},
     "execution_count": 10
    }
   ],
   "source": [
    "# logreturn of the bar\n",
    "df_5m['bar_log_r'] = np.log(df_5m['last']/df_5m['first']) # log return\n",
    "df_5m"
   ]
  },
  {
   "cell_type": "code",
   "execution_count": 11,
   "metadata": {},
   "outputs": [
    {
     "output_type": "display_data",
     "data": {
      "application/vnd.plotly.v1+json": {
       "config": {
        "plotlyServerURL": "https://plot.ly"
       },
       "data": [
        {
         "close": [
          116.915,
          116.97399999999999,
          116.93299999999999,
          116.939,
          116.88600000000001,
          116.868,
          116.889,
          116.896,
          116.90299999999999,
          116.90899999999999,
          116.89,
          116.831,
          116.80799999999999,
          116.82600000000001,
          116.844,
          116.80799999999999,
          116.774,
          116.719,
          116.738,
          116.79,
          116.751,
          116.809,
          116.87899999999999,
          116.902,
          116.956,
          116.948,
          116.954,
          116.898,
          116.99600000000001,
          117.07799999999999,
          117.124,
          117.113,
          117.303,
          117.391,
          117.26799999999999,
          117.199,
          117.181,
          117.001,
          117.042,
          116.935,
          117.07700000000001,
          117.095,
          117.169,
          117.17299999999999,
          117.171,
          117.071,
          117.04799999999999,
          116.99,
          117.009,
          117.03399999999999
         ],
         "decreasing": {
          "line": {
           "color": "blue"
          }
         },
         "high": [
          116.94,
          116.991,
          116.975,
          116.99700000000001,
          116.935,
          116.913,
          116.90700000000001,
          116.91,
          116.92200000000001,
          116.944,
          116.925,
          116.899,
          116.831,
          116.85,
          116.84899999999999,
          116.875,
          116.83,
          116.775,
          116.76899999999999,
          116.81,
          116.79700000000001,
          116.809,
          116.88799999999999,
          116.935,
          116.963,
          116.97399999999999,
          116.992,
          116.965,
          116.99600000000001,
          117.101,
          117.124,
          117.125,
          117.31700000000001,
          117.445,
          117.404,
          117.367,
          117.238,
          117.21799999999999,
          117.066,
          117.04,
          117.079,
          117.1,
          117.208,
          117.197,
          117.205,
          117.28200000000001,
          117.141,
          117.054,
          117.012,
          117.079
         ],
         "increasing": {
          "line": {
           "color": "red"
          }
         },
         "low": [
          116.89200000000001,
          116.915,
          116.92,
          116.931,
          116.868,
          116.844,
          116.86,
          116.875,
          116.895,
          116.899,
          116.86200000000001,
          116.821,
          116.803,
          116.809,
          116.802,
          116.79899999999999,
          116.771,
          116.714,
          116.719,
          116.738,
          116.726,
          116.745,
          116.807,
          116.78399999999999,
          116.90299999999999,
          116.914,
          116.92200000000001,
          116.882,
          116.86200000000001,
          116.992,
          117.059,
          117.08,
          117.06200000000001,
          117.277,
          117.211,
          117.193,
          117.12799999999999,
          116.949,
          116.977,
          116.895,
          116.90799999999999,
          117.044,
          117.088,
          117.101,
          117.037,
          117.071,
          117.024,
          116.946,
          116.947,
          116.994
         ],
         "name": "OHLC",
         "open": [
          116.902,
          116.916,
          116.975,
          116.934,
          116.935,
          116.887,
          116.868,
          116.889,
          116.895,
          116.90299999999999,
          116.90899999999999,
          116.88799999999999,
          116.83,
          116.809,
          116.825,
          116.845,
          116.80799999999999,
          116.775,
          116.72,
          116.73899999999999,
          116.789,
          116.75200000000001,
          116.81,
          116.87899999999999,
          116.90299999999999,
          116.95700000000001,
          116.947,
          116.955,
          116.9,
          116.99600000000001,
          117.07700000000001,
          117.125,
          117.11200000000001,
          117.304,
          117.396,
          117.26700000000001,
          117.2,
          117.18,
          117.00200000000001,
          117.04,
          116.93700000000001,
          117.07600000000001,
          117.094,
          117.17,
          117.16,
          117.17299999999999,
          117.075,
          117.051,
          116.991,
          117.009
         ],
         "type": "candlestick",
         "x": [
          "2016-01-21T10:50:00",
          "2016-01-21T10:55:00",
          "2016-01-21T11:00:00",
          "2016-01-21T11:05:00",
          "2016-01-21T11:10:00",
          "2016-01-21T11:15:00",
          "2016-01-21T11:20:00",
          "2016-01-21T11:25:00",
          "2016-01-21T11:30:00",
          "2016-01-21T11:35:00",
          "2016-01-21T11:40:00",
          "2016-01-21T11:45:00",
          "2016-01-21T11:50:00",
          "2016-01-21T11:55:00",
          "2016-01-21T12:00:00",
          "2016-01-21T12:05:00",
          "2016-01-21T12:10:00",
          "2016-01-21T12:15:00",
          "2016-01-21T12:20:00",
          "2016-01-21T12:25:00",
          "2016-01-21T12:30:00",
          "2016-01-21T12:35:00",
          "2016-01-21T12:40:00",
          "2016-01-21T12:45:00",
          "2016-01-21T12:50:00",
          "2016-01-21T12:55:00",
          "2016-01-21T13:00:00",
          "2016-01-21T13:05:00",
          "2016-01-21T13:10:00",
          "2016-01-21T13:15:00",
          "2016-01-21T13:20:00",
          "2016-01-21T13:25:00",
          "2016-01-21T13:30:00",
          "2016-01-21T13:35:00",
          "2016-01-21T13:40:00",
          "2016-01-21T13:45:00",
          "2016-01-21T13:50:00",
          "2016-01-21T13:55:00",
          "2016-01-21T14:00:00",
          "2016-01-21T14:05:00",
          "2016-01-21T14:10:00",
          "2016-01-21T14:15:00",
          "2016-01-21T14:20:00",
          "2016-01-21T14:25:00",
          "2016-01-21T14:30:00",
          "2016-01-21T14:35:00",
          "2016-01-21T14:40:00",
          "2016-01-21T14:45:00",
          "2016-01-21T14:50:00",
          "2016-01-21T14:55:00"
         ]
        },
        {
         "close": [
          116.913,
          116.941,
          116.939,
          116.955,
          116.88799999999999,
          116.85600000000001,
          116.88600000000001,
          116.885,
          116.90700000000001,
          116.911,
          116.875,
          116.84700000000001,
          116.80799999999999,
          116.815,
          116.816,
          116.81700000000001,
          116.804,
          116.728,
          116.74,
          116.772,
          116.74125000000001,
          116.76,
          116.833,
          116.83125,
          116.931,
          116.941,
          116.93799999999999,
          116.897,
          116.89200000000001,
          117.052,
          117.081,
          117.09299999999999,
          117.13,
          117.355,
          117.25200000000001,
          117.25,
          117.18299999999999,
          117.02600000000001,
          117.005,
          116.936,
          116.963,
          117.06299999999999,
          117.15899999999999,
          117.12799999999999,
          117.06200000000001,
          117.15299999999999,
          117.075,
          116.97,
          116.979,
          117.021
         ],
         "decreasing": {
          "line": {
           "color": "gray"
          }
         },
         "high": [
          116.929,
          116.963,
          116.955,
          116.971,
          116.912,
          116.897,
          116.896,
          116.90100000000001,
          116.916,
          116.931,
          116.895,
          116.863,
          116.821,
          116.83,
          116.82799999999999,
          116.865,
          116.818,
          116.76299999999999,
          116.756,
          116.8,
          116.772,
          116.77600000000001,
          116.855,
          116.90799999999999,
          116.947,
          116.954,
          116.961,
          116.93,
          116.96600000000001,
          117.083,
          117.102,
          117.10700000000001,
          117.257,
          117.399,
          117.3615,
          117.32600000000001,
          117.20100000000001,
          117.17399999999999,
          117.031,
          116.977,
          117.03200000000001,
          117.07799999999999,
          117.18700000000001,
          117.163,
          117.13775,
          117.238,
          117.10600000000001,
          117.021,
          117.001,
          117.056
         ],
         "increasing": {
          "line": {
           "color": "gray"
          }
         },
         "low": [
          116.913,
          116.941,
          116.939,
          116.955,
          116.88799999999999,
          116.85600000000001,
          116.88600000000001,
          116.885,
          116.90700000000001,
          116.911,
          116.875,
          116.84700000000001,
          116.80799999999999,
          116.815,
          116.816,
          116.81700000000001,
          116.804,
          116.728,
          116.74,
          116.772,
          116.74125000000001,
          116.76,
          116.833,
          116.83125,
          116.931,
          116.941,
          116.93799999999999,
          116.897,
          116.89200000000001,
          117.052,
          117.081,
          117.09299999999999,
          117.13,
          117.355,
          117.25200000000001,
          117.25,
          117.18299999999999,
          117.02600000000001,
          117.005,
          116.936,
          116.963,
          117.06299999999999,
          117.15899999999999,
          117.12799999999999,
          117.06200000000001,
          117.15299999999999,
          117.075,
          116.97,
          116.979,
          117.021
         ],
         "name": "25-75 quantiles",
         "open": [
          116.929,
          116.963,
          116.955,
          116.971,
          116.912,
          116.897,
          116.896,
          116.90100000000001,
          116.916,
          116.931,
          116.895,
          116.863,
          116.821,
          116.83,
          116.82799999999999,
          116.865,
          116.818,
          116.76299999999999,
          116.756,
          116.8,
          116.772,
          116.77600000000001,
          116.855,
          116.90799999999999,
          116.947,
          116.954,
          116.961,
          116.93,
          116.96600000000001,
          117.083,
          117.102,
          117.10700000000001,
          117.257,
          117.399,
          117.3615,
          117.32600000000001,
          117.20100000000001,
          117.17399999999999,
          117.031,
          116.977,
          117.03200000000001,
          117.07799999999999,
          117.18700000000001,
          117.163,
          117.13775,
          117.238,
          117.10600000000001,
          117.021,
          117.001,
          117.056
         ],
         "type": "candlestick",
         "x": [
          "2016-01-21T10:50:00",
          "2016-01-21T10:55:00",
          "2016-01-21T11:00:00",
          "2016-01-21T11:05:00",
          "2016-01-21T11:10:00",
          "2016-01-21T11:15:00",
          "2016-01-21T11:20:00",
          "2016-01-21T11:25:00",
          "2016-01-21T11:30:00",
          "2016-01-21T11:35:00",
          "2016-01-21T11:40:00",
          "2016-01-21T11:45:00",
          "2016-01-21T11:50:00",
          "2016-01-21T11:55:00",
          "2016-01-21T12:00:00",
          "2016-01-21T12:05:00",
          "2016-01-21T12:10:00",
          "2016-01-21T12:15:00",
          "2016-01-21T12:20:00",
          "2016-01-21T12:25:00",
          "2016-01-21T12:30:00",
          "2016-01-21T12:35:00",
          "2016-01-21T12:40:00",
          "2016-01-21T12:45:00",
          "2016-01-21T12:50:00",
          "2016-01-21T12:55:00",
          "2016-01-21T13:00:00",
          "2016-01-21T13:05:00",
          "2016-01-21T13:10:00",
          "2016-01-21T13:15:00",
          "2016-01-21T13:20:00",
          "2016-01-21T13:25:00",
          "2016-01-21T13:30:00",
          "2016-01-21T13:35:00",
          "2016-01-21T13:40:00",
          "2016-01-21T13:45:00",
          "2016-01-21T13:50:00",
          "2016-01-21T13:55:00",
          "2016-01-21T14:00:00",
          "2016-01-21T14:05:00",
          "2016-01-21T14:10:00",
          "2016-01-21T14:15:00",
          "2016-01-21T14:20:00",
          "2016-01-21T14:25:00",
          "2016-01-21T14:30:00",
          "2016-01-21T14:35:00",
          "2016-01-21T14:40:00",
          "2016-01-21T14:45:00",
          "2016-01-21T14:50:00",
          "2016-01-21T14:55:00"
         ]
        },
        {
         "name": "bar mean",
         "type": "scatter",
         "x": [
          "2016-01-21T10:50:00",
          "2016-01-21T10:55:00",
          "2016-01-21T11:00:00",
          "2016-01-21T11:05:00",
          "2016-01-21T11:10:00",
          "2016-01-21T11:15:00",
          "2016-01-21T11:20:00",
          "2016-01-21T11:25:00",
          "2016-01-21T11:30:00",
          "2016-01-21T11:35:00",
          "2016-01-21T11:40:00",
          "2016-01-21T11:45:00",
          "2016-01-21T11:50:00",
          "2016-01-21T11:55:00",
          "2016-01-21T12:00:00",
          "2016-01-21T12:05:00",
          "2016-01-21T12:10:00",
          "2016-01-21T12:15:00",
          "2016-01-21T12:20:00",
          "2016-01-21T12:25:00",
          "2016-01-21T12:30:00",
          "2016-01-21T12:35:00",
          "2016-01-21T12:40:00",
          "2016-01-21T12:45:00",
          "2016-01-21T12:50:00",
          "2016-01-21T12:55:00",
          "2016-01-21T13:00:00",
          "2016-01-21T13:05:00",
          "2016-01-21T13:10:00",
          "2016-01-21T13:15:00",
          "2016-01-21T13:20:00",
          "2016-01-21T13:25:00",
          "2016-01-21T13:30:00",
          "2016-01-21T13:35:00",
          "2016-01-21T13:40:00",
          "2016-01-21T13:45:00",
          "2016-01-21T13:50:00",
          "2016-01-21T13:55:00",
          "2016-01-21T14:00:00",
          "2016-01-21T14:05:00",
          "2016-01-21T14:10:00",
          "2016-01-21T14:15:00",
          "2016-01-21T14:20:00",
          "2016-01-21T14:25:00",
          "2016-01-21T14:30:00",
          "2016-01-21T14:35:00",
          "2016-01-21T14:40:00",
          "2016-01-21T14:45:00",
          "2016-01-21T14:50:00",
          "2016-01-21T14:55:00"
         ],
         "y": [
          116.92056776556777,
          116.9539928825622,
          116.94763636363645,
          116.96350265486718,
          116.89999398496217,
          116.87847524752497,
          116.88934222222228,
          116.89413286713273,
          116.91094957983195,
          116.9216391304346,
          116.88665637860052,
          116.85738200000013,
          116.81398128342259,
          116.82282697201042,
          116.82205241935515,
          116.83894444444445,
          116.80790232558144,
          116.74670909090916,
          116.74773469387749,
          116.78588357588346,
          116.75803846153822,
          116.76998454746145,
          116.84592505854818,
          116.87005380577409,
          116.93882269503551,
          116.94702333333332,
          116.95111730205282,
          116.91311953352765,
          116.93193449781661,
          117.06370611702138,
          117.09042780026992,
          117.0997509803923,
          117.18519573796394,
          117.37430676691726,
          117.30849522154647,
          117.29035457809708,
          117.19115232974896,
          117.10178613199668,
          117.01790900473934,
          116.95671049949031,
          116.99689563106782,
          117.07176541717055,
          117.16929079754591,
          117.14561820652189,
          117.09957917383825,
          117.19231566265057,
          117.08705871725405,
          116.99698046875014,
          116.9888315789472,
          117.03856485355647
         ]
        }
       ],
       "layout": {
        "autosize": false,
        "height": 600,
        "margin": {
         "b": 10,
         "l": 10,
         "r": 10,
         "t": 10
        },
        "template": {
         "data": {
          "bar": [
           {
            "error_x": {
             "color": "#2a3f5f"
            },
            "error_y": {
             "color": "#2a3f5f"
            },
            "marker": {
             "line": {
              "color": "#E5ECF6",
              "width": 0.5
             }
            },
            "type": "bar"
           }
          ],
          "barpolar": [
           {
            "marker": {
             "line": {
              "color": "#E5ECF6",
              "width": 0.5
             }
            },
            "type": "barpolar"
           }
          ],
          "carpet": [
           {
            "aaxis": {
             "endlinecolor": "#2a3f5f",
             "gridcolor": "white",
             "linecolor": "white",
             "minorgridcolor": "white",
             "startlinecolor": "#2a3f5f"
            },
            "baxis": {
             "endlinecolor": "#2a3f5f",
             "gridcolor": "white",
             "linecolor": "white",
             "minorgridcolor": "white",
             "startlinecolor": "#2a3f5f"
            },
            "type": "carpet"
           }
          ],
          "choropleth": [
           {
            "colorbar": {
             "outlinewidth": 0,
             "ticks": ""
            },
            "type": "choropleth"
           }
          ],
          "contour": [
           {
            "colorbar": {
             "outlinewidth": 0,
             "ticks": ""
            },
            "colorscale": [
             [
              0,
              "#0d0887"
             ],
             [
              0.1111111111111111,
              "#46039f"
             ],
             [
              0.2222222222222222,
              "#7201a8"
             ],
             [
              0.3333333333333333,
              "#9c179e"
             ],
             [
              0.4444444444444444,
              "#bd3786"
             ],
             [
              0.5555555555555556,
              "#d8576b"
             ],
             [
              0.6666666666666666,
              "#ed7953"
             ],
             [
              0.7777777777777778,
              "#fb9f3a"
             ],
             [
              0.8888888888888888,
              "#fdca26"
             ],
             [
              1,
              "#f0f921"
             ]
            ],
            "type": "contour"
           }
          ],
          "contourcarpet": [
           {
            "colorbar": {
             "outlinewidth": 0,
             "ticks": ""
            },
            "type": "contourcarpet"
           }
          ],
          "heatmap": [
           {
            "colorbar": {
             "outlinewidth": 0,
             "ticks": ""
            },
            "colorscale": [
             [
              0,
              "#0d0887"
             ],
             [
              0.1111111111111111,
              "#46039f"
             ],
             [
              0.2222222222222222,
              "#7201a8"
             ],
             [
              0.3333333333333333,
              "#9c179e"
             ],
             [
              0.4444444444444444,
              "#bd3786"
             ],
             [
              0.5555555555555556,
              "#d8576b"
             ],
             [
              0.6666666666666666,
              "#ed7953"
             ],
             [
              0.7777777777777778,
              "#fb9f3a"
             ],
             [
              0.8888888888888888,
              "#fdca26"
             ],
             [
              1,
              "#f0f921"
             ]
            ],
            "type": "heatmap"
           }
          ],
          "heatmapgl": [
           {
            "colorbar": {
             "outlinewidth": 0,
             "ticks": ""
            },
            "colorscale": [
             [
              0,
              "#0d0887"
             ],
             [
              0.1111111111111111,
              "#46039f"
             ],
             [
              0.2222222222222222,
              "#7201a8"
             ],
             [
              0.3333333333333333,
              "#9c179e"
             ],
             [
              0.4444444444444444,
              "#bd3786"
             ],
             [
              0.5555555555555556,
              "#d8576b"
             ],
             [
              0.6666666666666666,
              "#ed7953"
             ],
             [
              0.7777777777777778,
              "#fb9f3a"
             ],
             [
              0.8888888888888888,
              "#fdca26"
             ],
             [
              1,
              "#f0f921"
             ]
            ],
            "type": "heatmapgl"
           }
          ],
          "histogram": [
           {
            "marker": {
             "colorbar": {
              "outlinewidth": 0,
              "ticks": ""
             }
            },
            "type": "histogram"
           }
          ],
          "histogram2d": [
           {
            "colorbar": {
             "outlinewidth": 0,
             "ticks": ""
            },
            "colorscale": [
             [
              0,
              "#0d0887"
             ],
             [
              0.1111111111111111,
              "#46039f"
             ],
             [
              0.2222222222222222,
              "#7201a8"
             ],
             [
              0.3333333333333333,
              "#9c179e"
             ],
             [
              0.4444444444444444,
              "#bd3786"
             ],
             [
              0.5555555555555556,
              "#d8576b"
             ],
             [
              0.6666666666666666,
              "#ed7953"
             ],
             [
              0.7777777777777778,
              "#fb9f3a"
             ],
             [
              0.8888888888888888,
              "#fdca26"
             ],
             [
              1,
              "#f0f921"
             ]
            ],
            "type": "histogram2d"
           }
          ],
          "histogram2dcontour": [
           {
            "colorbar": {
             "outlinewidth": 0,
             "ticks": ""
            },
            "colorscale": [
             [
              0,
              "#0d0887"
             ],
             [
              0.1111111111111111,
              "#46039f"
             ],
             [
              0.2222222222222222,
              "#7201a8"
             ],
             [
              0.3333333333333333,
              "#9c179e"
             ],
             [
              0.4444444444444444,
              "#bd3786"
             ],
             [
              0.5555555555555556,
              "#d8576b"
             ],
             [
              0.6666666666666666,
              "#ed7953"
             ],
             [
              0.7777777777777778,
              "#fb9f3a"
             ],
             [
              0.8888888888888888,
              "#fdca26"
             ],
             [
              1,
              "#f0f921"
             ]
            ],
            "type": "histogram2dcontour"
           }
          ],
          "mesh3d": [
           {
            "colorbar": {
             "outlinewidth": 0,
             "ticks": ""
            },
            "type": "mesh3d"
           }
          ],
          "parcoords": [
           {
            "line": {
             "colorbar": {
              "outlinewidth": 0,
              "ticks": ""
             }
            },
            "type": "parcoords"
           }
          ],
          "pie": [
           {
            "automargin": true,
            "type": "pie"
           }
          ],
          "scatter": [
           {
            "marker": {
             "colorbar": {
              "outlinewidth": 0,
              "ticks": ""
             }
            },
            "type": "scatter"
           }
          ],
          "scatter3d": [
           {
            "line": {
             "colorbar": {
              "outlinewidth": 0,
              "ticks": ""
             }
            },
            "marker": {
             "colorbar": {
              "outlinewidth": 0,
              "ticks": ""
             }
            },
            "type": "scatter3d"
           }
          ],
          "scattercarpet": [
           {
            "marker": {
             "colorbar": {
              "outlinewidth": 0,
              "ticks": ""
             }
            },
            "type": "scattercarpet"
           }
          ],
          "scattergeo": [
           {
            "marker": {
             "colorbar": {
              "outlinewidth": 0,
              "ticks": ""
             }
            },
            "type": "scattergeo"
           }
          ],
          "scattergl": [
           {
            "marker": {
             "colorbar": {
              "outlinewidth": 0,
              "ticks": ""
             }
            },
            "type": "scattergl"
           }
          ],
          "scattermapbox": [
           {
            "marker": {
             "colorbar": {
              "outlinewidth": 0,
              "ticks": ""
             }
            },
            "type": "scattermapbox"
           }
          ],
          "scatterpolar": [
           {
            "marker": {
             "colorbar": {
              "outlinewidth": 0,
              "ticks": ""
             }
            },
            "type": "scatterpolar"
           }
          ],
          "scatterpolargl": [
           {
            "marker": {
             "colorbar": {
              "outlinewidth": 0,
              "ticks": ""
             }
            },
            "type": "scatterpolargl"
           }
          ],
          "scatterternary": [
           {
            "marker": {
             "colorbar": {
              "outlinewidth": 0,
              "ticks": ""
             }
            },
            "type": "scatterternary"
           }
          ],
          "surface": [
           {
            "colorbar": {
             "outlinewidth": 0,
             "ticks": ""
            },
            "colorscale": [
             [
              0,
              "#0d0887"
             ],
             [
              0.1111111111111111,
              "#46039f"
             ],
             [
              0.2222222222222222,
              "#7201a8"
             ],
             [
              0.3333333333333333,
              "#9c179e"
             ],
             [
              0.4444444444444444,
              "#bd3786"
             ],
             [
              0.5555555555555556,
              "#d8576b"
             ],
             [
              0.6666666666666666,
              "#ed7953"
             ],
             [
              0.7777777777777778,
              "#fb9f3a"
             ],
             [
              0.8888888888888888,
              "#fdca26"
             ],
             [
              1,
              "#f0f921"
             ]
            ],
            "type": "surface"
           }
          ],
          "table": [
           {
            "cells": {
             "fill": {
              "color": "#EBF0F8"
             },
             "line": {
              "color": "white"
             }
            },
            "header": {
             "fill": {
              "color": "#C8D4E3"
             },
             "line": {
              "color": "white"
             }
            },
            "type": "table"
           }
          ]
         },
         "layout": {
          "annotationdefaults": {
           "arrowcolor": "#2a3f5f",
           "arrowhead": 0,
           "arrowwidth": 1
          },
          "coloraxis": {
           "colorbar": {
            "outlinewidth": 0,
            "ticks": ""
           }
          },
          "colorscale": {
           "diverging": [
            [
             0,
             "#8e0152"
            ],
            [
             0.1,
             "#c51b7d"
            ],
            [
             0.2,
             "#de77ae"
            ],
            [
             0.3,
             "#f1b6da"
            ],
            [
             0.4,
             "#fde0ef"
            ],
            [
             0.5,
             "#f7f7f7"
            ],
            [
             0.6,
             "#e6f5d0"
            ],
            [
             0.7,
             "#b8e186"
            ],
            [
             0.8,
             "#7fbc41"
            ],
            [
             0.9,
             "#4d9221"
            ],
            [
             1,
             "#276419"
            ]
           ],
           "sequential": [
            [
             0,
             "#0d0887"
            ],
            [
             0.1111111111111111,
             "#46039f"
            ],
            [
             0.2222222222222222,
             "#7201a8"
            ],
            [
             0.3333333333333333,
             "#9c179e"
            ],
            [
             0.4444444444444444,
             "#bd3786"
            ],
            [
             0.5555555555555556,
             "#d8576b"
            ],
            [
             0.6666666666666666,
             "#ed7953"
            ],
            [
             0.7777777777777778,
             "#fb9f3a"
            ],
            [
             0.8888888888888888,
             "#fdca26"
            ],
            [
             1,
             "#f0f921"
            ]
           ],
           "sequentialminus": [
            [
             0,
             "#0d0887"
            ],
            [
             0.1111111111111111,
             "#46039f"
            ],
            [
             0.2222222222222222,
             "#7201a8"
            ],
            [
             0.3333333333333333,
             "#9c179e"
            ],
            [
             0.4444444444444444,
             "#bd3786"
            ],
            [
             0.5555555555555556,
             "#d8576b"
            ],
            [
             0.6666666666666666,
             "#ed7953"
            ],
            [
             0.7777777777777778,
             "#fb9f3a"
            ],
            [
             0.8888888888888888,
             "#fdca26"
            ],
            [
             1,
             "#f0f921"
            ]
           ]
          },
          "colorway": [
           "#636efa",
           "#EF553B",
           "#00cc96",
           "#ab63fa",
           "#FFA15A",
           "#19d3f3",
           "#FF6692",
           "#B6E880",
           "#FF97FF",
           "#FECB52"
          ],
          "font": {
           "color": "#2a3f5f"
          },
          "geo": {
           "bgcolor": "white",
           "lakecolor": "white",
           "landcolor": "#E5ECF6",
           "showlakes": true,
           "showland": true,
           "subunitcolor": "white"
          },
          "hoverlabel": {
           "align": "left"
          },
          "hovermode": "closest",
          "mapbox": {
           "style": "light"
          },
          "paper_bgcolor": "white",
          "plot_bgcolor": "#E5ECF6",
          "polar": {
           "angularaxis": {
            "gridcolor": "white",
            "linecolor": "white",
            "ticks": ""
           },
           "bgcolor": "#E5ECF6",
           "radialaxis": {
            "gridcolor": "white",
            "linecolor": "white",
            "ticks": ""
           }
          },
          "scene": {
           "xaxis": {
            "backgroundcolor": "#E5ECF6",
            "gridcolor": "white",
            "gridwidth": 2,
            "linecolor": "white",
            "showbackground": true,
            "ticks": "",
            "zerolinecolor": "white"
           },
           "yaxis": {
            "backgroundcolor": "#E5ECF6",
            "gridcolor": "white",
            "gridwidth": 2,
            "linecolor": "white",
            "showbackground": true,
            "ticks": "",
            "zerolinecolor": "white"
           },
           "zaxis": {
            "backgroundcolor": "#E5ECF6",
            "gridcolor": "white",
            "gridwidth": 2,
            "linecolor": "white",
            "showbackground": true,
            "ticks": "",
            "zerolinecolor": "white"
           }
          },
          "shapedefaults": {
           "line": {
            "color": "#2a3f5f"
           }
          },
          "ternary": {
           "aaxis": {
            "gridcolor": "white",
            "linecolor": "white",
            "ticks": ""
           },
           "baxis": {
            "gridcolor": "white",
            "linecolor": "white",
            "ticks": ""
           },
           "bgcolor": "#E5ECF6",
           "caxis": {
            "gridcolor": "white",
            "linecolor": "white",
            "ticks": ""
           }
          },
          "title": {
           "x": 0.05
          },
          "xaxis": {
           "automargin": true,
           "gridcolor": "white",
           "linecolor": "white",
           "ticks": "",
           "title": {
            "standoff": 15
           },
           "zerolinecolor": "white",
           "zerolinewidth": 2
          },
          "yaxis": {
           "automargin": true,
           "gridcolor": "white",
           "linecolor": "white",
           "ticks": "",
           "title": {
            "standoff": 15
           },
           "zerolinecolor": "white",
           "zerolinewidth": 2
          }
         }
        },
        "width": 1200,
        "xaxis": {
         "anchor": "y",
         "domain": [
          0,
          0.94
         ],
         "rangeslider": {
          "visible": false
         }
        },
        "yaxis": {
         "anchor": "x",
         "domain": [
          0,
          1
         ]
        },
        "yaxis2": {
         "anchor": "x",
         "overlaying": "y",
         "side": "right"
        }
       }
      }
     },
     "metadata": {}
    },
    {
     "output_type": "display_data",
     "data": {
      "application/vnd.plotly.v1+json": {
       "config": {
        "plotlyServerURL": "https://plot.ly"
       },
       "data": [
        {
         "marker": {
          "color": "rgb(26, 118, 255)",
          "line": {
           "color": "rgb(8,48,107)",
           "width": 5
          }
         },
         "name": "tick number",
         "opacity": 0.6,
         "type": "bar",
         "x": [
          "2016-01-21T10:50:00",
          "2016-01-21T10:55:00",
          "2016-01-21T11:00:00",
          "2016-01-21T11:05:00",
          "2016-01-21T11:10:00",
          "2016-01-21T11:15:00",
          "2016-01-21T11:20:00",
          "2016-01-21T11:25:00",
          "2016-01-21T11:30:00",
          "2016-01-21T11:35:00",
          "2016-01-21T11:40:00",
          "2016-01-21T11:45:00",
          "2016-01-21T11:50:00",
          "2016-01-21T11:55:00",
          "2016-01-21T12:00:00",
          "2016-01-21T12:05:00",
          "2016-01-21T12:10:00",
          "2016-01-21T12:15:00",
          "2016-01-21T12:20:00",
          "2016-01-21T12:25:00",
          "2016-01-21T12:30:00",
          "2016-01-21T12:35:00",
          "2016-01-21T12:40:00",
          "2016-01-21T12:45:00",
          "2016-01-21T12:50:00",
          "2016-01-21T12:55:00",
          "2016-01-21T13:00:00",
          "2016-01-21T13:05:00",
          "2016-01-21T13:10:00",
          "2016-01-21T13:15:00",
          "2016-01-21T13:20:00",
          "2016-01-21T13:25:00",
          "2016-01-21T13:30:00",
          "2016-01-21T13:35:00",
          "2016-01-21T13:40:00",
          "2016-01-21T13:45:00",
          "2016-01-21T13:50:00",
          "2016-01-21T13:55:00",
          "2016-01-21T14:00:00",
          "2016-01-21T14:05:00",
          "2016-01-21T14:10:00",
          "2016-01-21T14:15:00",
          "2016-01-21T14:20:00",
          "2016-01-21T14:25:00",
          "2016-01-21T14:30:00",
          "2016-01-21T14:35:00",
          "2016-01-21T14:40:00",
          "2016-01-21T14:45:00",
          "2016-01-21T14:50:00",
          "2016-01-21T14:55:00"
         ],
         "y": [
          546,
          562,
          627,
          565,
          665,
          606,
          450,
          429,
          476,
          460,
          486,
          500,
          374,
          393,
          496,
          504,
          430,
          440,
          441,
          481,
          494,
          453,
          427,
          762,
          564,
          600,
          682,
          686,
          687,
          752,
          741,
          510,
          1267,
          1330,
          1151,
          1114,
          1116,
          1197,
          1055,
          981,
          824,
          827,
          815,
          736,
          1162,
          1245,
          1107,
          1024,
          950,
          717
         ]
        },
        {
         "marker": {
          "color": "red"
         },
         "name": "price-time corr",
         "type": "bar",
         "x": [
          "2016-01-21T10:50:00",
          "2016-01-21T10:55:00",
          "2016-01-21T11:00:00",
          "2016-01-21T11:05:00",
          "2016-01-21T11:10:00",
          "2016-01-21T11:15:00",
          "2016-01-21T11:20:00",
          "2016-01-21T11:25:00",
          "2016-01-21T11:30:00",
          "2016-01-21T11:35:00",
          "2016-01-21T11:40:00",
          "2016-01-21T11:45:00",
          "2016-01-21T11:50:00",
          "2016-01-21T11:55:00",
          "2016-01-21T12:00:00",
          "2016-01-21T12:05:00",
          "2016-01-21T12:10:00",
          "2016-01-21T12:15:00",
          "2016-01-21T12:20:00",
          "2016-01-21T12:25:00",
          "2016-01-21T12:30:00",
          "2016-01-21T12:35:00",
          "2016-01-21T12:40:00",
          "2016-01-21T12:45:00",
          "2016-01-21T12:50:00",
          "2016-01-21T12:55:00",
          "2016-01-21T13:00:00",
          "2016-01-21T13:05:00",
          "2016-01-21T13:10:00",
          "2016-01-21T13:15:00",
          "2016-01-21T13:20:00",
          "2016-01-21T13:25:00",
          "2016-01-21T13:30:00",
          "2016-01-21T13:35:00",
          "2016-01-21T13:40:00",
          "2016-01-21T13:45:00",
          "2016-01-21T13:50:00",
          "2016-01-21T13:55:00",
          "2016-01-21T14:00:00",
          "2016-01-21T14:05:00",
          "2016-01-21T14:10:00",
          "2016-01-21T14:15:00",
          "2016-01-21T14:20:00",
          "2016-01-21T14:25:00",
          "2016-01-21T14:30:00",
          "2016-01-21T14:35:00",
          "2016-01-21T14:40:00",
          "2016-01-21T14:45:00",
          "2016-01-21T14:50:00",
          "2016-01-21T14:55:00"
         ],
         "xaxis": "x",
         "y": [
          -0.3526280831459411,
          0.9144102420211425,
          -0.5919994704519126,
          0.12340726109170604,
          -0.8745240397740995,
          -0.6485517648249204,
          0.4077848628932879,
          0.5956969777039948,
          0.15151036401699533,
          0.43780865860744483,
          -0.24697809220551653,
          -0.7983270915094971,
          -0.320708989687122,
          0.033403024706472204,
          -0.02704725482044344,
          -0.8314652488177822,
          -0.4265923433123619,
          -0.8556658933867871,
          0.48645175475661256,
          0.8016456105281557,
          -0.5176175371625589,
          0.7468064234697426,
          0.9425217697208751,
          0.761057846326798,
          0.350755304859392,
          -0.34751380341568705,
          -0.7993006148233781,
          -0.6603257885310619,
          0.9102404450679112,
          0.7668863678371072,
          0.6245454254851568,
          0.3927596262722487,
          0.8715839578941176,
          0.31748194977243466,
          -0.8757572265762505,
          -0.5011620903942597,
          0.5603220992950922,
          -0.9674957508178545,
          -0.3849079673543234,
          -0.7897290760783829,
          0.9021761925734337,
          -0.6203996295067908,
          0.46476008120332135,
          0.35772905359888085,
          0.3999731193357786,
          -0.6232485308897319,
          -0.6808154788905223,
          -0.18379341967348783,
          0.15654676173525114,
          0.7465073060709215
         ],
         "yaxis": "y2"
        }
       ],
       "layout": {
        "autosize": false,
        "barmode": "group",
        "height": 200,
        "margin": {
         "b": 10,
         "l": 10,
         "r": 10,
         "t": 10
        },
        "template": {
         "data": {
          "bar": [
           {
            "error_x": {
             "color": "#2a3f5f"
            },
            "error_y": {
             "color": "#2a3f5f"
            },
            "marker": {
             "line": {
              "color": "#E5ECF6",
              "width": 0.5
             }
            },
            "type": "bar"
           }
          ],
          "barpolar": [
           {
            "marker": {
             "line": {
              "color": "#E5ECF6",
              "width": 0.5
             }
            },
            "type": "barpolar"
           }
          ],
          "carpet": [
           {
            "aaxis": {
             "endlinecolor": "#2a3f5f",
             "gridcolor": "white",
             "linecolor": "white",
             "minorgridcolor": "white",
             "startlinecolor": "#2a3f5f"
            },
            "baxis": {
             "endlinecolor": "#2a3f5f",
             "gridcolor": "white",
             "linecolor": "white",
             "minorgridcolor": "white",
             "startlinecolor": "#2a3f5f"
            },
            "type": "carpet"
           }
          ],
          "choropleth": [
           {
            "colorbar": {
             "outlinewidth": 0,
             "ticks": ""
            },
            "type": "choropleth"
           }
          ],
          "contour": [
           {
            "colorbar": {
             "outlinewidth": 0,
             "ticks": ""
            },
            "colorscale": [
             [
              0,
              "#0d0887"
             ],
             [
              0.1111111111111111,
              "#46039f"
             ],
             [
              0.2222222222222222,
              "#7201a8"
             ],
             [
              0.3333333333333333,
              "#9c179e"
             ],
             [
              0.4444444444444444,
              "#bd3786"
             ],
             [
              0.5555555555555556,
              "#d8576b"
             ],
             [
              0.6666666666666666,
              "#ed7953"
             ],
             [
              0.7777777777777778,
              "#fb9f3a"
             ],
             [
              0.8888888888888888,
              "#fdca26"
             ],
             [
              1,
              "#f0f921"
             ]
            ],
            "type": "contour"
           }
          ],
          "contourcarpet": [
           {
            "colorbar": {
             "outlinewidth": 0,
             "ticks": ""
            },
            "type": "contourcarpet"
           }
          ],
          "heatmap": [
           {
            "colorbar": {
             "outlinewidth": 0,
             "ticks": ""
            },
            "colorscale": [
             [
              0,
              "#0d0887"
             ],
             [
              0.1111111111111111,
              "#46039f"
             ],
             [
              0.2222222222222222,
              "#7201a8"
             ],
             [
              0.3333333333333333,
              "#9c179e"
             ],
             [
              0.4444444444444444,
              "#bd3786"
             ],
             [
              0.5555555555555556,
              "#d8576b"
             ],
             [
              0.6666666666666666,
              "#ed7953"
             ],
             [
              0.7777777777777778,
              "#fb9f3a"
             ],
             [
              0.8888888888888888,
              "#fdca26"
             ],
             [
              1,
              "#f0f921"
             ]
            ],
            "type": "heatmap"
           }
          ],
          "heatmapgl": [
           {
            "colorbar": {
             "outlinewidth": 0,
             "ticks": ""
            },
            "colorscale": [
             [
              0,
              "#0d0887"
             ],
             [
              0.1111111111111111,
              "#46039f"
             ],
             [
              0.2222222222222222,
              "#7201a8"
             ],
             [
              0.3333333333333333,
              "#9c179e"
             ],
             [
              0.4444444444444444,
              "#bd3786"
             ],
             [
              0.5555555555555556,
              "#d8576b"
             ],
             [
              0.6666666666666666,
              "#ed7953"
             ],
             [
              0.7777777777777778,
              "#fb9f3a"
             ],
             [
              0.8888888888888888,
              "#fdca26"
             ],
             [
              1,
              "#f0f921"
             ]
            ],
            "type": "heatmapgl"
           }
          ],
          "histogram": [
           {
            "marker": {
             "colorbar": {
              "outlinewidth": 0,
              "ticks": ""
             }
            },
            "type": "histogram"
           }
          ],
          "histogram2d": [
           {
            "colorbar": {
             "outlinewidth": 0,
             "ticks": ""
            },
            "colorscale": [
             [
              0,
              "#0d0887"
             ],
             [
              0.1111111111111111,
              "#46039f"
             ],
             [
              0.2222222222222222,
              "#7201a8"
             ],
             [
              0.3333333333333333,
              "#9c179e"
             ],
             [
              0.4444444444444444,
              "#bd3786"
             ],
             [
              0.5555555555555556,
              "#d8576b"
             ],
             [
              0.6666666666666666,
              "#ed7953"
             ],
             [
              0.7777777777777778,
              "#fb9f3a"
             ],
             [
              0.8888888888888888,
              "#fdca26"
             ],
             [
              1,
              "#f0f921"
             ]
            ],
            "type": "histogram2d"
           }
          ],
          "histogram2dcontour": [
           {
            "colorbar": {
             "outlinewidth": 0,
             "ticks": ""
            },
            "colorscale": [
             [
              0,
              "#0d0887"
             ],
             [
              0.1111111111111111,
              "#46039f"
             ],
             [
              0.2222222222222222,
              "#7201a8"
             ],
             [
              0.3333333333333333,
              "#9c179e"
             ],
             [
              0.4444444444444444,
              "#bd3786"
             ],
             [
              0.5555555555555556,
              "#d8576b"
             ],
             [
              0.6666666666666666,
              "#ed7953"
             ],
             [
              0.7777777777777778,
              "#fb9f3a"
             ],
             [
              0.8888888888888888,
              "#fdca26"
             ],
             [
              1,
              "#f0f921"
             ]
            ],
            "type": "histogram2dcontour"
           }
          ],
          "mesh3d": [
           {
            "colorbar": {
             "outlinewidth": 0,
             "ticks": ""
            },
            "type": "mesh3d"
           }
          ],
          "parcoords": [
           {
            "line": {
             "colorbar": {
              "outlinewidth": 0,
              "ticks": ""
             }
            },
            "type": "parcoords"
           }
          ],
          "pie": [
           {
            "automargin": true,
            "type": "pie"
           }
          ],
          "scatter": [
           {
            "marker": {
             "colorbar": {
              "outlinewidth": 0,
              "ticks": ""
             }
            },
            "type": "scatter"
           }
          ],
          "scatter3d": [
           {
            "line": {
             "colorbar": {
              "outlinewidth": 0,
              "ticks": ""
             }
            },
            "marker": {
             "colorbar": {
              "outlinewidth": 0,
              "ticks": ""
             }
            },
            "type": "scatter3d"
           }
          ],
          "scattercarpet": [
           {
            "marker": {
             "colorbar": {
              "outlinewidth": 0,
              "ticks": ""
             }
            },
            "type": "scattercarpet"
           }
          ],
          "scattergeo": [
           {
            "marker": {
             "colorbar": {
              "outlinewidth": 0,
              "ticks": ""
             }
            },
            "type": "scattergeo"
           }
          ],
          "scattergl": [
           {
            "marker": {
             "colorbar": {
              "outlinewidth": 0,
              "ticks": ""
             }
            },
            "type": "scattergl"
           }
          ],
          "scattermapbox": [
           {
            "marker": {
             "colorbar": {
              "outlinewidth": 0,
              "ticks": ""
             }
            },
            "type": "scattermapbox"
           }
          ],
          "scatterpolar": [
           {
            "marker": {
             "colorbar": {
              "outlinewidth": 0,
              "ticks": ""
             }
            },
            "type": "scatterpolar"
           }
          ],
          "scatterpolargl": [
           {
            "marker": {
             "colorbar": {
              "outlinewidth": 0,
              "ticks": ""
             }
            },
            "type": "scatterpolargl"
           }
          ],
          "scatterternary": [
           {
            "marker": {
             "colorbar": {
              "outlinewidth": 0,
              "ticks": ""
             }
            },
            "type": "scatterternary"
           }
          ],
          "surface": [
           {
            "colorbar": {
             "outlinewidth": 0,
             "ticks": ""
            },
            "colorscale": [
             [
              0,
              "#0d0887"
             ],
             [
              0.1111111111111111,
              "#46039f"
             ],
             [
              0.2222222222222222,
              "#7201a8"
             ],
             [
              0.3333333333333333,
              "#9c179e"
             ],
             [
              0.4444444444444444,
              "#bd3786"
             ],
             [
              0.5555555555555556,
              "#d8576b"
             ],
             [
              0.6666666666666666,
              "#ed7953"
             ],
             [
              0.7777777777777778,
              "#fb9f3a"
             ],
             [
              0.8888888888888888,
              "#fdca26"
             ],
             [
              1,
              "#f0f921"
             ]
            ],
            "type": "surface"
           }
          ],
          "table": [
           {
            "cells": {
             "fill": {
              "color": "#EBF0F8"
             },
             "line": {
              "color": "white"
             }
            },
            "header": {
             "fill": {
              "color": "#C8D4E3"
             },
             "line": {
              "color": "white"
             }
            },
            "type": "table"
           }
          ]
         },
         "layout": {
          "annotationdefaults": {
           "arrowcolor": "#2a3f5f",
           "arrowhead": 0,
           "arrowwidth": 1
          },
          "coloraxis": {
           "colorbar": {
            "outlinewidth": 0,
            "ticks": ""
           }
          },
          "colorscale": {
           "diverging": [
            [
             0,
             "#8e0152"
            ],
            [
             0.1,
             "#c51b7d"
            ],
            [
             0.2,
             "#de77ae"
            ],
            [
             0.3,
             "#f1b6da"
            ],
            [
             0.4,
             "#fde0ef"
            ],
            [
             0.5,
             "#f7f7f7"
            ],
            [
             0.6,
             "#e6f5d0"
            ],
            [
             0.7,
             "#b8e186"
            ],
            [
             0.8,
             "#7fbc41"
            ],
            [
             0.9,
             "#4d9221"
            ],
            [
             1,
             "#276419"
            ]
           ],
           "sequential": [
            [
             0,
             "#0d0887"
            ],
            [
             0.1111111111111111,
             "#46039f"
            ],
            [
             0.2222222222222222,
             "#7201a8"
            ],
            [
             0.3333333333333333,
             "#9c179e"
            ],
            [
             0.4444444444444444,
             "#bd3786"
            ],
            [
             0.5555555555555556,
             "#d8576b"
            ],
            [
             0.6666666666666666,
             "#ed7953"
            ],
            [
             0.7777777777777778,
             "#fb9f3a"
            ],
            [
             0.8888888888888888,
             "#fdca26"
            ],
            [
             1,
             "#f0f921"
            ]
           ],
           "sequentialminus": [
            [
             0,
             "#0d0887"
            ],
            [
             0.1111111111111111,
             "#46039f"
            ],
            [
             0.2222222222222222,
             "#7201a8"
            ],
            [
             0.3333333333333333,
             "#9c179e"
            ],
            [
             0.4444444444444444,
             "#bd3786"
            ],
            [
             0.5555555555555556,
             "#d8576b"
            ],
            [
             0.6666666666666666,
             "#ed7953"
            ],
            [
             0.7777777777777778,
             "#fb9f3a"
            ],
            [
             0.8888888888888888,
             "#fdca26"
            ],
            [
             1,
             "#f0f921"
            ]
           ]
          },
          "colorway": [
           "#636efa",
           "#EF553B",
           "#00cc96",
           "#ab63fa",
           "#FFA15A",
           "#19d3f3",
           "#FF6692",
           "#B6E880",
           "#FF97FF",
           "#FECB52"
          ],
          "font": {
           "color": "#2a3f5f"
          },
          "geo": {
           "bgcolor": "white",
           "lakecolor": "white",
           "landcolor": "#E5ECF6",
           "showlakes": true,
           "showland": true,
           "subunitcolor": "white"
          },
          "hoverlabel": {
           "align": "left"
          },
          "hovermode": "closest",
          "mapbox": {
           "style": "light"
          },
          "paper_bgcolor": "white",
          "plot_bgcolor": "#E5ECF6",
          "polar": {
           "angularaxis": {
            "gridcolor": "white",
            "linecolor": "white",
            "ticks": ""
           },
           "bgcolor": "#E5ECF6",
           "radialaxis": {
            "gridcolor": "white",
            "linecolor": "white",
            "ticks": ""
           }
          },
          "scene": {
           "xaxis": {
            "backgroundcolor": "#E5ECF6",
            "gridcolor": "white",
            "gridwidth": 2,
            "linecolor": "white",
            "showbackground": true,
            "ticks": "",
            "zerolinecolor": "white"
           },
           "yaxis": {
            "backgroundcolor": "#E5ECF6",
            "gridcolor": "white",
            "gridwidth": 2,
            "linecolor": "white",
            "showbackground": true,
            "ticks": "",
            "zerolinecolor": "white"
           },
           "zaxis": {
            "backgroundcolor": "#E5ECF6",
            "gridcolor": "white",
            "gridwidth": 2,
            "linecolor": "white",
            "showbackground": true,
            "ticks": "",
            "zerolinecolor": "white"
           }
          },
          "shapedefaults": {
           "line": {
            "color": "#2a3f5f"
           }
          },
          "ternary": {
           "aaxis": {
            "gridcolor": "white",
            "linecolor": "white",
            "ticks": ""
           },
           "baxis": {
            "gridcolor": "white",
            "linecolor": "white",
            "ticks": ""
           },
           "bgcolor": "#E5ECF6",
           "caxis": {
            "gridcolor": "white",
            "linecolor": "white",
            "ticks": ""
           }
          },
          "title": {
           "x": 0.05
          },
          "xaxis": {
           "automargin": true,
           "gridcolor": "white",
           "linecolor": "white",
           "ticks": "",
           "title": {
            "standoff": 15
           },
           "zerolinecolor": "white",
           "zerolinewidth": 2
          },
          "yaxis": {
           "automargin": true,
           "gridcolor": "white",
           "linecolor": "white",
           "ticks": "",
           "title": {
            "standoff": 15
           },
           "zerolinecolor": "white",
           "zerolinewidth": 2
          }
         }
        },
        "width": 1200,
        "xaxis": {
         "anchor": "y",
         "domain": [
          0,
          0.94
         ]
        },
        "yaxis": {
         "anchor": "x",
         "domain": [
          0,
          1
         ]
        },
        "yaxis2": {
         "anchor": "x",
         "overlaying": "y",
         "side": "right"
        }
       }
      }
     },
     "metadata": {}
    },
    {
     "output_type": "display_data",
     "data": {
      "application/vnd.plotly.v1+json": {
       "config": {
        "plotlyServerURL": "https://plot.ly"
       },
       "data": [
        {
         "marker": {
          "color": "rgb(26, 118, 255)",
          "line": {
           "color": "rgb(8,48,107)",
           "width": 5
          }
         },
         "name": "tick std of bar",
         "opacity": 0.6,
         "showlegend": true,
         "type": "bar",
         "x": [
          "2016-01-21T10:50:00",
          "2016-01-21T10:55:00",
          "2016-01-21T11:00:00",
          "2016-01-21T11:05:00",
          "2016-01-21T11:10:00",
          "2016-01-21T11:15:00",
          "2016-01-21T11:20:00",
          "2016-01-21T11:25:00",
          "2016-01-21T11:30:00",
          "2016-01-21T11:35:00",
          "2016-01-21T11:40:00",
          "2016-01-21T11:45:00",
          "2016-01-21T11:50:00",
          "2016-01-21T11:55:00",
          "2016-01-21T12:00:00",
          "2016-01-21T12:05:00",
          "2016-01-21T12:10:00",
          "2016-01-21T12:15:00",
          "2016-01-21T12:20:00",
          "2016-01-21T12:25:00",
          "2016-01-21T12:30:00",
          "2016-01-21T12:35:00",
          "2016-01-21T12:40:00",
          "2016-01-21T12:45:00",
          "2016-01-21T12:50:00",
          "2016-01-21T12:55:00",
          "2016-01-21T13:00:00",
          "2016-01-21T13:05:00",
          "2016-01-21T13:10:00",
          "2016-01-21T13:15:00",
          "2016-01-21T13:20:00",
          "2016-01-21T13:25:00",
          "2016-01-21T13:30:00",
          "2016-01-21T13:35:00",
          "2016-01-21T13:40:00",
          "2016-01-21T13:45:00",
          "2016-01-21T13:50:00",
          "2016-01-21T13:55:00",
          "2016-01-21T14:00:00",
          "2016-01-21T14:05:00",
          "2016-01-21T14:10:00",
          "2016-01-21T14:15:00",
          "2016-01-21T14:20:00",
          "2016-01-21T14:25:00",
          "2016-01-21T14:30:00",
          "2016-01-21T14:35:00",
          "2016-01-21T14:40:00",
          "2016-01-21T14:45:00",
          "2016-01-21T14:50:00",
          "2016-01-21T14:55:00"
         ],
         "y": [
          0.010543226241754133,
          0.01907214801284324,
          0.011640178497199066,
          0.014027154896817998,
          0.015842408007437185,
          0.02025943831523311,
          0.009412508591797401,
          0.009525595938109548,
          0.005851637632410626,
          0.012499420086956642,
          0.015270186249523109,
          0.0181846484397393,
          0.007426650976665368,
          0.010445465046738458,
          0.009332969375674953,
          0.02467040968862954,
          0.013558635304306567,
          0.018511879067190994,
          0.012190156161242135,
          0.01638886056199314,
          0.018556217376090995,
          0.014800957562346518,
          0.01733348694448619,
          0.04250430594197026,
          0.011145594634536828,
          0.011850041970902518,
          0.01621943033721104,
          0.02063722800979031,
          0.041333812326020423,
          0.024293699266452962,
          0.01389931883002714,
          0.009207216622665174,
          0.06791624021409692,
          0.03701679238951157,
          0.056413841376836096,
          0.04619600552981126,
          0.01804692696956059,
          0.07717616152587123,
          0.018500096529152563,
          0.030853203813603895,
          0.042253516886454366,
          0.012000125651635017,
          0.027431130672147763,
          0.02217805853352518,
          0.04633504556913276,
          0.052980225521286055,
          0.027964734692433102,
          0.028207747827691584,
          0.014376359701346325,
          0.02036271082276515
         ]
        },
        {
         "marker": {
          "color": "blue"
         },
         "name": "bar log return",
         "type": "bar",
         "x": [
          "2016-01-21T10:50:00",
          "2016-01-21T10:55:00",
          "2016-01-21T11:00:00",
          "2016-01-21T11:05:00",
          "2016-01-21T11:10:00",
          "2016-01-21T11:15:00",
          "2016-01-21T11:20:00",
          "2016-01-21T11:25:00",
          "2016-01-21T11:30:00",
          "2016-01-21T11:35:00",
          "2016-01-21T11:40:00",
          "2016-01-21T11:45:00",
          "2016-01-21T11:50:00",
          "2016-01-21T11:55:00",
          "2016-01-21T12:00:00",
          "2016-01-21T12:05:00",
          "2016-01-21T12:10:00",
          "2016-01-21T12:15:00",
          "2016-01-21T12:20:00",
          "2016-01-21T12:25:00",
          "2016-01-21T12:30:00",
          "2016-01-21T12:35:00",
          "2016-01-21T12:40:00",
          "2016-01-21T12:45:00",
          "2016-01-21T12:50:00",
          "2016-01-21T12:55:00",
          "2016-01-21T13:00:00",
          "2016-01-21T13:05:00",
          "2016-01-21T13:10:00",
          "2016-01-21T13:15:00",
          "2016-01-21T13:20:00",
          "2016-01-21T13:25:00",
          "2016-01-21T13:30:00",
          "2016-01-21T13:35:00",
          "2016-01-21T13:40:00",
          "2016-01-21T13:45:00",
          "2016-01-21T13:50:00",
          "2016-01-21T13:55:00",
          "2016-01-21T14:00:00",
          "2016-01-21T14:05:00",
          "2016-01-21T14:10:00",
          "2016-01-21T14:15:00",
          "2016-01-21T14:20:00",
          "2016-01-21T14:25:00",
          "2016-01-21T14:30:00",
          "2016-01-21T14:35:00",
          "2016-01-21T14:40:00",
          "2016-01-21T14:45:00",
          "2016-01-21T14:50:00",
          "2016-01-21T14:55:00"
         ],
         "xaxis": "x",
         "y": [
          0.00011119807382177358,
          0.0004959596493128126,
          -0.0003591155535627319,
          0.00004275824914158878,
          -0.0004191240369110167,
          -0.00016256336798654668,
          0.00017967376426381406,
          0.00005988408154583289,
          0.00006843514489537432,
          0.000051323285385933896,
          -0.00016253277423615168,
          -0.0004877652320101215,
          -0.00018832552979420472,
          0.00014552614146007525,
          0.00016262319812954083,
          -0.00031670896850699554,
          -0.0002911183245293999,
          -0.000479669722337509,
          0.00015420332595729333,
          0.0004367765957187175,
          -0.0003254260540837103,
          0.0004880951968147411,
          0.0005905284545284554,
          0.00019676534940144677,
          0.0004532645817131001,
          -0.00007695431909929677,
          0.00005985438285495083,
          -0.00048748573786783304,
          0.0008208777011212422,
          0.0007006331617725617,
          0.00040136464516318067,
          -0.00010245989131144363,
          0.0016295889108431149,
          0.0007413877925392919,
          -0.0010909215959373927,
          -0.0005800414721669264,
          -0.00016212918318149258,
          -0.001528732346864945,
          0.0003418160721014795,
          -0.0008975318478357328,
          0.0011965097532833401,
          0.00016227457748124475,
          0.0006403060027614063,
          0.00002560349573195573,
          0.0000938842919467231,
          -0.0008708868226871137,
          -0.00023064799374444812,
          -0.0005212761984549446,
          0.00015384615414959344,
          0.00021363595659839733
         ],
         "yaxis": "y2"
        }
       ],
       "layout": {
        "autosize": false,
        "barmode": "group",
        "height": 200,
        "margin": {
         "b": 10,
         "l": 10,
         "r": 10,
         "t": 10
        },
        "template": {
         "data": {
          "bar": [
           {
            "error_x": {
             "color": "#2a3f5f"
            },
            "error_y": {
             "color": "#2a3f5f"
            },
            "marker": {
             "line": {
              "color": "#E5ECF6",
              "width": 0.5
             }
            },
            "type": "bar"
           }
          ],
          "barpolar": [
           {
            "marker": {
             "line": {
              "color": "#E5ECF6",
              "width": 0.5
             }
            },
            "type": "barpolar"
           }
          ],
          "carpet": [
           {
            "aaxis": {
             "endlinecolor": "#2a3f5f",
             "gridcolor": "white",
             "linecolor": "white",
             "minorgridcolor": "white",
             "startlinecolor": "#2a3f5f"
            },
            "baxis": {
             "endlinecolor": "#2a3f5f",
             "gridcolor": "white",
             "linecolor": "white",
             "minorgridcolor": "white",
             "startlinecolor": "#2a3f5f"
            },
            "type": "carpet"
           }
          ],
          "choropleth": [
           {
            "colorbar": {
             "outlinewidth": 0,
             "ticks": ""
            },
            "type": "choropleth"
           }
          ],
          "contour": [
           {
            "colorbar": {
             "outlinewidth": 0,
             "ticks": ""
            },
            "colorscale": [
             [
              0,
              "#0d0887"
             ],
             [
              0.1111111111111111,
              "#46039f"
             ],
             [
              0.2222222222222222,
              "#7201a8"
             ],
             [
              0.3333333333333333,
              "#9c179e"
             ],
             [
              0.4444444444444444,
              "#bd3786"
             ],
             [
              0.5555555555555556,
              "#d8576b"
             ],
             [
              0.6666666666666666,
              "#ed7953"
             ],
             [
              0.7777777777777778,
              "#fb9f3a"
             ],
             [
              0.8888888888888888,
              "#fdca26"
             ],
             [
              1,
              "#f0f921"
             ]
            ],
            "type": "contour"
           }
          ],
          "contourcarpet": [
           {
            "colorbar": {
             "outlinewidth": 0,
             "ticks": ""
            },
            "type": "contourcarpet"
           }
          ],
          "heatmap": [
           {
            "colorbar": {
             "outlinewidth": 0,
             "ticks": ""
            },
            "colorscale": [
             [
              0,
              "#0d0887"
             ],
             [
              0.1111111111111111,
              "#46039f"
             ],
             [
              0.2222222222222222,
              "#7201a8"
             ],
             [
              0.3333333333333333,
              "#9c179e"
             ],
             [
              0.4444444444444444,
              "#bd3786"
             ],
             [
              0.5555555555555556,
              "#d8576b"
             ],
             [
              0.6666666666666666,
              "#ed7953"
             ],
             [
              0.7777777777777778,
              "#fb9f3a"
             ],
             [
              0.8888888888888888,
              "#fdca26"
             ],
             [
              1,
              "#f0f921"
             ]
            ],
            "type": "heatmap"
           }
          ],
          "heatmapgl": [
           {
            "colorbar": {
             "outlinewidth": 0,
             "ticks": ""
            },
            "colorscale": [
             [
              0,
              "#0d0887"
             ],
             [
              0.1111111111111111,
              "#46039f"
             ],
             [
              0.2222222222222222,
              "#7201a8"
             ],
             [
              0.3333333333333333,
              "#9c179e"
             ],
             [
              0.4444444444444444,
              "#bd3786"
             ],
             [
              0.5555555555555556,
              "#d8576b"
             ],
             [
              0.6666666666666666,
              "#ed7953"
             ],
             [
              0.7777777777777778,
              "#fb9f3a"
             ],
             [
              0.8888888888888888,
              "#fdca26"
             ],
             [
              1,
              "#f0f921"
             ]
            ],
            "type": "heatmapgl"
           }
          ],
          "histogram": [
           {
            "marker": {
             "colorbar": {
              "outlinewidth": 0,
              "ticks": ""
             }
            },
            "type": "histogram"
           }
          ],
          "histogram2d": [
           {
            "colorbar": {
             "outlinewidth": 0,
             "ticks": ""
            },
            "colorscale": [
             [
              0,
              "#0d0887"
             ],
             [
              0.1111111111111111,
              "#46039f"
             ],
             [
              0.2222222222222222,
              "#7201a8"
             ],
             [
              0.3333333333333333,
              "#9c179e"
             ],
             [
              0.4444444444444444,
              "#bd3786"
             ],
             [
              0.5555555555555556,
              "#d8576b"
             ],
             [
              0.6666666666666666,
              "#ed7953"
             ],
             [
              0.7777777777777778,
              "#fb9f3a"
             ],
             [
              0.8888888888888888,
              "#fdca26"
             ],
             [
              1,
              "#f0f921"
             ]
            ],
            "type": "histogram2d"
           }
          ],
          "histogram2dcontour": [
           {
            "colorbar": {
             "outlinewidth": 0,
             "ticks": ""
            },
            "colorscale": [
             [
              0,
              "#0d0887"
             ],
             [
              0.1111111111111111,
              "#46039f"
             ],
             [
              0.2222222222222222,
              "#7201a8"
             ],
             [
              0.3333333333333333,
              "#9c179e"
             ],
             [
              0.4444444444444444,
              "#bd3786"
             ],
             [
              0.5555555555555556,
              "#d8576b"
             ],
             [
              0.6666666666666666,
              "#ed7953"
             ],
             [
              0.7777777777777778,
              "#fb9f3a"
             ],
             [
              0.8888888888888888,
              "#fdca26"
             ],
             [
              1,
              "#f0f921"
             ]
            ],
            "type": "histogram2dcontour"
           }
          ],
          "mesh3d": [
           {
            "colorbar": {
             "outlinewidth": 0,
             "ticks": ""
            },
            "type": "mesh3d"
           }
          ],
          "parcoords": [
           {
            "line": {
             "colorbar": {
              "outlinewidth": 0,
              "ticks": ""
             }
            },
            "type": "parcoords"
           }
          ],
          "pie": [
           {
            "automargin": true,
            "type": "pie"
           }
          ],
          "scatter": [
           {
            "marker": {
             "colorbar": {
              "outlinewidth": 0,
              "ticks": ""
             }
            },
            "type": "scatter"
           }
          ],
          "scatter3d": [
           {
            "line": {
             "colorbar": {
              "outlinewidth": 0,
              "ticks": ""
             }
            },
            "marker": {
             "colorbar": {
              "outlinewidth": 0,
              "ticks": ""
             }
            },
            "type": "scatter3d"
           }
          ],
          "scattercarpet": [
           {
            "marker": {
             "colorbar": {
              "outlinewidth": 0,
              "ticks": ""
             }
            },
            "type": "scattercarpet"
           }
          ],
          "scattergeo": [
           {
            "marker": {
             "colorbar": {
              "outlinewidth": 0,
              "ticks": ""
             }
            },
            "type": "scattergeo"
           }
          ],
          "scattergl": [
           {
            "marker": {
             "colorbar": {
              "outlinewidth": 0,
              "ticks": ""
             }
            },
            "type": "scattergl"
           }
          ],
          "scattermapbox": [
           {
            "marker": {
             "colorbar": {
              "outlinewidth": 0,
              "ticks": ""
             }
            },
            "type": "scattermapbox"
           }
          ],
          "scatterpolar": [
           {
            "marker": {
             "colorbar": {
              "outlinewidth": 0,
              "ticks": ""
             }
            },
            "type": "scatterpolar"
           }
          ],
          "scatterpolargl": [
           {
            "marker": {
             "colorbar": {
              "outlinewidth": 0,
              "ticks": ""
             }
            },
            "type": "scatterpolargl"
           }
          ],
          "scatterternary": [
           {
            "marker": {
             "colorbar": {
              "outlinewidth": 0,
              "ticks": ""
             }
            },
            "type": "scatterternary"
           }
          ],
          "surface": [
           {
            "colorbar": {
             "outlinewidth": 0,
             "ticks": ""
            },
            "colorscale": [
             [
              0,
              "#0d0887"
             ],
             [
              0.1111111111111111,
              "#46039f"
             ],
             [
              0.2222222222222222,
              "#7201a8"
             ],
             [
              0.3333333333333333,
              "#9c179e"
             ],
             [
              0.4444444444444444,
              "#bd3786"
             ],
             [
              0.5555555555555556,
              "#d8576b"
             ],
             [
              0.6666666666666666,
              "#ed7953"
             ],
             [
              0.7777777777777778,
              "#fb9f3a"
             ],
             [
              0.8888888888888888,
              "#fdca26"
             ],
             [
              1,
              "#f0f921"
             ]
            ],
            "type": "surface"
           }
          ],
          "table": [
           {
            "cells": {
             "fill": {
              "color": "#EBF0F8"
             },
             "line": {
              "color": "white"
             }
            },
            "header": {
             "fill": {
              "color": "#C8D4E3"
             },
             "line": {
              "color": "white"
             }
            },
            "type": "table"
           }
          ]
         },
         "layout": {
          "annotationdefaults": {
           "arrowcolor": "#2a3f5f",
           "arrowhead": 0,
           "arrowwidth": 1
          },
          "coloraxis": {
           "colorbar": {
            "outlinewidth": 0,
            "ticks": ""
           }
          },
          "colorscale": {
           "diverging": [
            [
             0,
             "#8e0152"
            ],
            [
             0.1,
             "#c51b7d"
            ],
            [
             0.2,
             "#de77ae"
            ],
            [
             0.3,
             "#f1b6da"
            ],
            [
             0.4,
             "#fde0ef"
            ],
            [
             0.5,
             "#f7f7f7"
            ],
            [
             0.6,
             "#e6f5d0"
            ],
            [
             0.7,
             "#b8e186"
            ],
            [
             0.8,
             "#7fbc41"
            ],
            [
             0.9,
             "#4d9221"
            ],
            [
             1,
             "#276419"
            ]
           ],
           "sequential": [
            [
             0,
             "#0d0887"
            ],
            [
             0.1111111111111111,
             "#46039f"
            ],
            [
             0.2222222222222222,
             "#7201a8"
            ],
            [
             0.3333333333333333,
             "#9c179e"
            ],
            [
             0.4444444444444444,
             "#bd3786"
            ],
            [
             0.5555555555555556,
             "#d8576b"
            ],
            [
             0.6666666666666666,
             "#ed7953"
            ],
            [
             0.7777777777777778,
             "#fb9f3a"
            ],
            [
             0.8888888888888888,
             "#fdca26"
            ],
            [
             1,
             "#f0f921"
            ]
           ],
           "sequentialminus": [
            [
             0,
             "#0d0887"
            ],
            [
             0.1111111111111111,
             "#46039f"
            ],
            [
             0.2222222222222222,
             "#7201a8"
            ],
            [
             0.3333333333333333,
             "#9c179e"
            ],
            [
             0.4444444444444444,
             "#bd3786"
            ],
            [
             0.5555555555555556,
             "#d8576b"
            ],
            [
             0.6666666666666666,
             "#ed7953"
            ],
            [
             0.7777777777777778,
             "#fb9f3a"
            ],
            [
             0.8888888888888888,
             "#fdca26"
            ],
            [
             1,
             "#f0f921"
            ]
           ]
          },
          "colorway": [
           "#636efa",
           "#EF553B",
           "#00cc96",
           "#ab63fa",
           "#FFA15A",
           "#19d3f3",
           "#FF6692",
           "#B6E880",
           "#FF97FF",
           "#FECB52"
          ],
          "font": {
           "color": "#2a3f5f"
          },
          "geo": {
           "bgcolor": "white",
           "lakecolor": "white",
           "landcolor": "#E5ECF6",
           "showlakes": true,
           "showland": true,
           "subunitcolor": "white"
          },
          "hoverlabel": {
           "align": "left"
          },
          "hovermode": "closest",
          "mapbox": {
           "style": "light"
          },
          "paper_bgcolor": "white",
          "plot_bgcolor": "#E5ECF6",
          "polar": {
           "angularaxis": {
            "gridcolor": "white",
            "linecolor": "white",
            "ticks": ""
           },
           "bgcolor": "#E5ECF6",
           "radialaxis": {
            "gridcolor": "white",
            "linecolor": "white",
            "ticks": ""
           }
          },
          "scene": {
           "xaxis": {
            "backgroundcolor": "#E5ECF6",
            "gridcolor": "white",
            "gridwidth": 2,
            "linecolor": "white",
            "showbackground": true,
            "ticks": "",
            "zerolinecolor": "white"
           },
           "yaxis": {
            "backgroundcolor": "#E5ECF6",
            "gridcolor": "white",
            "gridwidth": 2,
            "linecolor": "white",
            "showbackground": true,
            "ticks": "",
            "zerolinecolor": "white"
           },
           "zaxis": {
            "backgroundcolor": "#E5ECF6",
            "gridcolor": "white",
            "gridwidth": 2,
            "linecolor": "white",
            "showbackground": true,
            "ticks": "",
            "zerolinecolor": "white"
           }
          },
          "shapedefaults": {
           "line": {
            "color": "#2a3f5f"
           }
          },
          "ternary": {
           "aaxis": {
            "gridcolor": "white",
            "linecolor": "white",
            "ticks": ""
           },
           "baxis": {
            "gridcolor": "white",
            "linecolor": "white",
            "ticks": ""
           },
           "bgcolor": "#E5ECF6",
           "caxis": {
            "gridcolor": "white",
            "linecolor": "white",
            "ticks": ""
           }
          },
          "title": {
           "x": 0.05
          },
          "xaxis": {
           "automargin": true,
           "gridcolor": "white",
           "linecolor": "white",
           "ticks": "",
           "title": {
            "standoff": 15
           },
           "zerolinecolor": "white",
           "zerolinewidth": 2
          },
          "yaxis": {
           "automargin": true,
           "gridcolor": "white",
           "linecolor": "white",
           "ticks": "",
           "title": {
            "standoff": 15
           },
           "zerolinecolor": "white",
           "zerolinewidth": 2
          }
         }
        },
        "width": 1200,
        "xaxis": {
         "anchor": "y",
         "domain": [
          0,
          0.94
         ]
        },
        "yaxis": {
         "anchor": "x",
         "domain": [
          0,
          1
         ]
        },
        "yaxis2": {
         "anchor": "x",
         "overlaying": "y",
         "side": "right"
        }
       }
      }
     },
     "metadata": {}
    }
   ],
   "source": [
    "# Fig1\n",
    "fig1 = make_subplots(specs=[[{\"secondary_y\": True}]])\n",
    "fig1.add_trace(go.Candlestick(x=df_5m[5050:5100].index,\n",
    "                open=df_5m[5050:5100]['first'],\n",
    "                high=df_5m[5050:5100]['max'],\n",
    "                low=df_5m[5050:5100]['min'],\n",
    "                close=df_5m[5050:5100]['last'],\n",
    "                increasing_line_color= 'red', decreasing_line_color= 'blue',\n",
    "                name=\"OHLC\"))\n",
    "fig1.add_trace(go.Candlestick(x=df_5m[5050:5100].index,\n",
    "                open=df_5m[5050:5100]['bar_quantile_75'],\n",
    "                high=df_5m[5050:5100]['bar_quantile_75'],\n",
    "                low=df_5m[5050:5100]['bar_quantile_25'],\n",
    "                close=df_5m[5050:5100]['bar_quantile_25'],\n",
    "                increasing_line_color= 'gray', decreasing_line_color= 'gray',\n",
    "                name=\"25-75 quantiles\"))\n",
    "fig1.add_trace(go.Scatter(\n",
    "                x=df_5m[5050:5100].index,\n",
    "                y=df_5m[5050:5100]['mean'],\n",
    "                name=\"bar mean\"))\n",
    "\n",
    "fig1.update(layout_xaxis_rangeslider_visible=False)\n",
    "fig1.update_layout(\n",
    "    autosize=False,\n",
    "    width=1200,\n",
    "    height=600,\n",
    "    margin=dict(l=10,r=10,b=10,t=10))\n",
    "fig1.show()\n",
    "\n",
    "# Fig2\n",
    "fig2 = make_subplots(specs=[[{\"secondary_y\": True}]])\n",
    "fig2.add_trace(go.Bar(\n",
    "                x=df_5m[5050:5100].index,\n",
    "                y=df_5m[5050:5100]['bar_len'],\n",
    "                marker_color='rgb(26, 118, 255)',\n",
    "                marker_line_color='rgb(8,48,107)',\n",
    "                marker_line_width=5,\n",
    "                opacity=0.6,\n",
    "                name=\"tick number\"))                \n",
    "fig2.add_trace(go.Bar(\n",
    "                x=df_5m[5050:5100].index,\n",
    "                y=df_5m[5050:5100]['bar_spearman'],\n",
    "                marker_color='red',\n",
    "                name=\"price-time corr\"),\n",
    "                secondary_y=True)\n",
    "\n",
    "fig2.update_layout(\n",
    "    barmode='group',\n",
    "    autosize=False,\n",
    "    width=1200,\n",
    "    height=200,\n",
    "    margin=dict(l=10,r=10,b=10,t=10))\n",
    "fig2.show()\n",
    "\n",
    "# Fig3\n",
    "fig3 = make_subplots(specs=[[{\"secondary_y\": True}]])\n",
    "fig3.add_trace(go.Bar(\n",
    "                x=df_5m[5050:5100].index,\n",
    "                y=df_5m[5050:5100]['std'],\n",
    "                marker_color='rgb(26, 118, 255)',\n",
    "                marker_line_color='rgb(8,48,107)',\n",
    "                marker_line_width=5,\n",
    "                opacity=0.6,\n",
    "                name=\"tick std of bar\",\n",
    "                showlegend=True))\n",
    "fig3.add_trace(go.Bar(\n",
    "                x=df_5m[5050:5100].index,\n",
    "                y=df_5m[5050:5100]['bar_log_r'],\n",
    "                marker_color='blue',\n",
    "                name=\"bar log return\"),\n",
    "                secondary_y=True)\n",
    "\n",
    "fig3.update_layout(\n",
    "    barmode='group',\n",
    "    autosize=False,\n",
    "    width=1200,\n",
    "    height=200,\n",
    "    margin=dict(l=10,r=10,b=10,t=10))\n",
    "fig3.show()"
   ]
  },
  {
   "cell_type": "markdown",
   "metadata": {},
   "source": [
    "The chart above displays a sequence of our features. Some observations: The body of the candlestick shows a bit different pattern than the Q1-Q3 range. The log returns not surprisingly move together with the Spearman correlation, and the highest standard deviations of tick prices are more tipical of bars with more ticks. The displayed sequence is short and analizing these connections more deeply isn't the goal of the notebook, but we expect(/hope) that the new features will improve the performance of our model."
   ]
  },
  {
   "cell_type": "markdown",
   "metadata": {},
   "source": [
    "## Refine the features"
   ]
  },
  {
   "cell_type": "markdown",
   "metadata": {},
   "source": [
    "In our features we have log returns and price informations. For neural networks all of them can be usefull, and depending on our forecasted features one can be more important than the other. This article explaines the advantages of log returns https://quantivity.wordpress.com/2011/02/21/why-log-returns/. In the case of our dataset these advantages can be extended. In the next table we can see the correlations and standard deviations of our price features. The correlations are almost one, and up to the second decimal the standard deviations are are the same because relative to the long term price changes the price features in a bar are very close to each other. This means that the model have to find usefull patterns among very similar numbers."
   ]
  },
  {
   "cell_type": "code",
   "execution_count": 28,
   "metadata": {},
   "outputs": [
    {
     "output_type": "execute_result",
     "data": {
      "text/plain": "                    first       max       min      last      mean  \\\nfirst            1.000000  0.999848  0.999870  0.999770  0.999913   \nmax              0.999848  1.000000  0.999757  0.999888  0.999931   \nmin              0.999870  0.999757  1.000000  0.999860  0.999937   \nlast             0.999770  0.999888  0.999860  1.000000  0.999932   \nmean             0.999913  0.999931  0.999937  0.999932  1.000000   \nbar_quantile_25  0.999902  0.999867  0.999971  0.999908  0.999987   \nbar_quantile_75  0.999891  0.999969  0.999869  0.999928  0.999985   \n\n                 bar_quantile_25  bar_quantile_75  \nfirst                   0.999902         0.999891  \nmax                     0.999867         0.999969  \nmin                     0.999971         0.999869  \nlast                    0.999908         0.999928  \nmean                    0.999987         0.999985  \nbar_quantile_25         1.000000         0.999946  \nbar_quantile_75         0.999946         1.000000  ",
      "text/html": "<div>\n<style scoped>\n    .dataframe tbody tr th:only-of-type {\n        vertical-align: middle;\n    }\n\n    .dataframe tbody tr th {\n        vertical-align: top;\n    }\n\n    .dataframe thead th {\n        text-align: right;\n    }\n</style>\n<table border=\"1\" class=\"dataframe\">\n  <thead>\n    <tr style=\"text-align: right;\">\n      <th></th>\n      <th>first</th>\n      <th>max</th>\n      <th>min</th>\n      <th>last</th>\n      <th>mean</th>\n      <th>bar_quantile_25</th>\n      <th>bar_quantile_75</th>\n    </tr>\n  </thead>\n  <tbody>\n    <tr>\n      <th>first</th>\n      <td>1.000000</td>\n      <td>0.999848</td>\n      <td>0.999870</td>\n      <td>0.999770</td>\n      <td>0.999913</td>\n      <td>0.999902</td>\n      <td>0.999891</td>\n    </tr>\n    <tr>\n      <th>max</th>\n      <td>0.999848</td>\n      <td>1.000000</td>\n      <td>0.999757</td>\n      <td>0.999888</td>\n      <td>0.999931</td>\n      <td>0.999867</td>\n      <td>0.999969</td>\n    </tr>\n    <tr>\n      <th>min</th>\n      <td>0.999870</td>\n      <td>0.999757</td>\n      <td>1.000000</td>\n      <td>0.999860</td>\n      <td>0.999937</td>\n      <td>0.999971</td>\n      <td>0.999869</td>\n    </tr>\n    <tr>\n      <th>last</th>\n      <td>0.999770</td>\n      <td>0.999888</td>\n      <td>0.999860</td>\n      <td>1.000000</td>\n      <td>0.999932</td>\n      <td>0.999908</td>\n      <td>0.999928</td>\n    </tr>\n    <tr>\n      <th>mean</th>\n      <td>0.999913</td>\n      <td>0.999931</td>\n      <td>0.999937</td>\n      <td>0.999932</td>\n      <td>1.000000</td>\n      <td>0.999987</td>\n      <td>0.999985</td>\n    </tr>\n    <tr>\n      <th>bar_quantile_25</th>\n      <td>0.999902</td>\n      <td>0.999867</td>\n      <td>0.999971</td>\n      <td>0.999908</td>\n      <td>0.999987</td>\n      <td>1.000000</td>\n      <td>0.999946</td>\n    </tr>\n    <tr>\n      <th>bar_quantile_75</th>\n      <td>0.999891</td>\n      <td>0.999969</td>\n      <td>0.999869</td>\n      <td>0.999928</td>\n      <td>0.999985</td>\n      <td>0.999946</td>\n      <td>1.000000</td>\n    </tr>\n  </tbody>\n</table>\n</div>"
     },
     "metadata": {},
     "execution_count": 28
    }
   ],
   "source": [
    "# correlation is almost 1\n",
    "df_5m[['first', 'max', 'min', 'last', 'mean','bar_quantile_25', 'bar_quantile_75']].corr(method='pearson')"
   ]
  },
  {
   "cell_type": "code",
   "execution_count": 21,
   "metadata": {},
   "outputs": [
    {
     "output_type": "execute_result",
     "data": {
      "text/plain": "first              2.653695\nmax                2.650915\nmin                2.656619\nlast               2.653696\nmean               2.653476\nbar_quantile_25    2.654414\nbar_quantile_75    2.652639\ndtype: float64"
     },
     "metadata": {},
     "execution_count": 21
    }
   ],
   "source": [
    "# very similar std's\n",
    "df_5m[['first', 'max', 'min', 'last', 'mean','bar_quantile_25', 'bar_quantile_75']].std()"
   ]
  },
  {
   "cell_type": "markdown",
   "metadata": {},
   "source": [
    "How can we help the model? We can \"logreturnise\" most of the price features.\n",
    "\n",
    "We use the 'mean price' feature as the base of our in-bar log returns, and calculate all the other 'price features' relative to the mean price of the bar, but the other price features could be plausibel base as well. When using the mean as a base for the calculations the return-like high and Q3 will be always positive, and the low and Q1 negative. The new features has far lower correlations. The standard deviations of the new features are more varied when scaled to the same magnitude as the standard deviation of the simple price features and the aggregated quantile features have considerably lower standard deviations than the one-tick-dependent open, high, low and close related features. These statistics mean that our new features can more easily lead to model-recognizable patterns."
   ]
  },
  {
   "cell_type": "code",
   "execution_count": 22,
   "metadata": {},
   "outputs": [
    {
     "output_type": "stream",
     "name": "stdout",
     "text": "Index(['first', 'max', 'min', 'last', 'mean', 'std', 'bar_len',\n       'bar_quantile_25', 'bar_quantile_75', 'bar_spearman', 'bar_log_r',\n       'first_r', 'max_r', 'min_r', 'last_r', 'bar_quantile_25_r',\n       'bar_quantile_75_r'],\n      dtype='object')\n"
    }
   ],
   "source": [
    "# make return-like features '_r'\n",
    "df_5m_aux = np.log(df_5m[['first', 'max', 'min', 'last', 'bar_quantile_25', 'bar_quantile_75']].div(df_5m['mean'], axis=0))\n",
    "df_5m_aux = df_5m_aux.rename(columns={  'first':'first_r',\n",
    "                            'max':'max_r', \n",
    "                            'min':'min_r', \n",
    "                            'last':'last_r', \n",
    "                            'bar_quantile_25':'bar_quantile_25_r', \n",
    "                            'bar_quantile_75':'bar_quantile_75_r'})\n",
    "df_5m = pd.concat([df_5m, df_5m_aux], axis=1, join='inner')\n",
    "print(df_5m.columns)"
   ]
  },
  {
   "cell_type": "code",
   "execution_count": 23,
   "metadata": {},
   "outputs": [
    {
     "output_type": "execute_result",
     "data": {
      "text/plain": "                   bar_log_r   first_r     max_r     min_r    last_r  \\\nbar_log_r           1.000000 -0.879933  0.072918 -0.111504  0.841443   \nfirst_r            -0.879933  1.000000  0.030678  0.129727 -0.483697   \nmax_r               0.072918  0.030678  1.000000 -0.845931  0.169222   \nmin_r              -0.111504  0.129727 -0.845931  1.000000 -0.057872   \nlast_r              0.841443 -0.483697  0.169222 -0.057872  1.000000   \nbar_quantile_25_r  -0.109783  0.027302 -0.863646  0.822777 -0.171193   \nbar_quantile_75_r   0.141876 -0.080767  0.808038 -0.849542  0.169507   \n\n                   bar_quantile_25_r  bar_quantile_75_r  \nbar_log_r                  -0.109783           0.141876  \nfirst_r                     0.027302          -0.080767  \nmax_r                      -0.863646           0.808038  \nmin_r                       0.822777          -0.849542  \nlast_r                     -0.171193           0.169507  \nbar_quantile_25_r           1.000000          -0.931759  \nbar_quantile_75_r          -0.931759           1.000000  ",
      "text/html": "<div>\n<style scoped>\n    .dataframe tbody tr th:only-of-type {\n        vertical-align: middle;\n    }\n\n    .dataframe tbody tr th {\n        vertical-align: top;\n    }\n\n    .dataframe thead th {\n        text-align: right;\n    }\n</style>\n<table border=\"1\" class=\"dataframe\">\n  <thead>\n    <tr style=\"text-align: right;\">\n      <th></th>\n      <th>bar_log_r</th>\n      <th>first_r</th>\n      <th>max_r</th>\n      <th>min_r</th>\n      <th>last_r</th>\n      <th>bar_quantile_25_r</th>\n      <th>bar_quantile_75_r</th>\n    </tr>\n  </thead>\n  <tbody>\n    <tr>\n      <th>bar_log_r</th>\n      <td>1.000000</td>\n      <td>-0.879933</td>\n      <td>0.072918</td>\n      <td>-0.111504</td>\n      <td>0.841443</td>\n      <td>-0.109783</td>\n      <td>0.141876</td>\n    </tr>\n    <tr>\n      <th>first_r</th>\n      <td>-0.879933</td>\n      <td>1.000000</td>\n      <td>0.030678</td>\n      <td>0.129727</td>\n      <td>-0.483697</td>\n      <td>0.027302</td>\n      <td>-0.080767</td>\n    </tr>\n    <tr>\n      <th>max_r</th>\n      <td>0.072918</td>\n      <td>0.030678</td>\n      <td>1.000000</td>\n      <td>-0.845931</td>\n      <td>0.169222</td>\n      <td>-0.863646</td>\n      <td>0.808038</td>\n    </tr>\n    <tr>\n      <th>min_r</th>\n      <td>-0.111504</td>\n      <td>0.129727</td>\n      <td>-0.845931</td>\n      <td>1.000000</td>\n      <td>-0.057872</td>\n      <td>0.822777</td>\n      <td>-0.849542</td>\n    </tr>\n    <tr>\n      <th>last_r</th>\n      <td>0.841443</td>\n      <td>-0.483697</td>\n      <td>0.169222</td>\n      <td>-0.057872</td>\n      <td>1.000000</td>\n      <td>-0.171193</td>\n      <td>0.169507</td>\n    </tr>\n    <tr>\n      <th>bar_quantile_25_r</th>\n      <td>-0.109783</td>\n      <td>0.027302</td>\n      <td>-0.863646</td>\n      <td>0.822777</td>\n      <td>-0.171193</td>\n      <td>1.000000</td>\n      <td>-0.931759</td>\n    </tr>\n    <tr>\n      <th>bar_quantile_75_r</th>\n      <td>0.141876</td>\n      <td>-0.080767</td>\n      <td>0.808038</td>\n      <td>-0.849542</td>\n      <td>0.169507</td>\n      <td>-0.931759</td>\n      <td>1.000000</td>\n    </tr>\n  </tbody>\n</table>\n</div>"
     },
     "metadata": {},
     "execution_count": 23
    }
   ],
   "source": [
    "# with return-like features the correlations are much lower\n",
    "df_5m[['bar_log_r', 'first_r', 'max_r', 'min_r', 'last_r', 'bar_quantile_25_r', 'bar_quantile_75_r']].corr(method='pearson')"
   ]
  },
  {
   "cell_type": "code",
   "execution_count": 29,
   "metadata": {},
   "outputs": [
    {
     "output_type": "display_data",
     "data": {
      "text/plain": "<Figure size 432x288 with 2 Axes>",
      "image/svg+xml": "<?xml version=\"1.0\" encoding=\"utf-8\" standalone=\"no\"?>\r\n<!DOCTYPE svg PUBLIC \"-//W3C//DTD SVG 1.1//EN\"\r\n  \"http://www.w3.org/Graphics/SVG/1.1/DTD/svg11.dtd\">\r\n<!-- Created with matplotlib (https://matplotlib.org/) -->\r\n<svg height=\"331.843906pt\" version=\"1.1\" viewBox=\"0 0 443.702 331.843906\" width=\"443.702pt\" xmlns=\"http://www.w3.org/2000/svg\" xmlns:xlink=\"http://www.w3.org/1999/xlink\">\r\n <defs>\r\n  <style type=\"text/css\">\r\n*{stroke-linecap:butt;stroke-linejoin:round;}\r\n  </style>\r\n </defs>\r\n <g id=\"figure_1\">\r\n  <g id=\"patch_1\">\r\n   <path d=\"M 0 331.843906 \r\nL 443.702 331.843906 \r\nL 443.702 0 \r\nL 0 0 \r\nz\r\n\" style=\"fill:none;\"/>\r\n  </g>\r\n  <g id=\"axes_1\">\r\n   <g id=\"patch_2\">\r\n    <path d=\"M 103.404687 228.439219 \r\nL 371.244688 228.439219 \r\nL 371.244688 10.999219 \r\nL 103.404687 10.999219 \r\nz\r\n\" style=\"fill:#ffffff;\"/>\r\n   </g>\r\n   <g id=\"QuadMesh_1\">\r\n    <path clip-path=\"url(#pd71467153d)\" d=\"M 103.404687 10.999219 \r\nL 141.667545 10.999219 \r\nL 141.667545 42.062076 \r\nL 103.404687 42.062076 \r\nL 103.404687 10.999219 \r\n\" style=\"fill:#faebdd;\"/>\r\n    <path clip-path=\"url(#pd71467153d)\" d=\"M 141.667545 10.999219 \r\nL 179.930402 10.999219 \r\nL 179.930402 42.062076 \r\nL 141.667545 42.062076 \r\nL 141.667545 10.999219 \r\n\" style=\"fill:#0a091f;\"/>\r\n    <path clip-path=\"url(#pd71467153d)\" d=\"M 179.930402 10.999219 \r\nL 218.193259 10.999219 \r\nL 218.193259 42.062076 \r\nL 179.930402 42.062076 \r\nL 179.930402 10.999219 \r\n\" style=\"fill:#d2204c;\"/>\r\n    <path clip-path=\"url(#pd71467153d)\" d=\"M 218.193259 10.999219 \r\nL 256.456116 10.999219 \r\nL 256.456116 42.062076 \r\nL 218.193259 42.062076 \r\nL 218.193259 10.999219 \r\n\" style=\"fill:#ab185a;\"/>\r\n    <path clip-path=\"url(#pd71467153d)\" d=\"M 256.456116 10.999219 \r\nL 294.718973 10.999219 \r\nL 294.718973 42.062076 \r\nL 256.456116 42.062076 \r\nL 256.456116 10.999219 \r\n\" style=\"fill:#f7ccaf;\"/>\r\n    <path clip-path=\"url(#pd71467153d)\" d=\"M 294.718973 10.999219 \r\nL 332.98183 10.999219 \r\nL 332.98183 42.062076 \r\nL 294.718973 42.062076 \r\nL 294.718973 10.999219 \r\n\" style=\"fill:#ab185a;\"/>\r\n    <path clip-path=\"url(#pd71467153d)\" d=\"M 332.98183 10.999219 \r\nL 371.244688 10.999219 \r\nL 371.244688 42.062076 \r\nL 332.98183 42.062076 \r\nL 332.98183 10.999219 \r\n\" style=\"fill:#dd2c45;\"/>\r\n    <path clip-path=\"url(#pd71467153d)\" d=\"M 103.404687 42.062076 \r\nL 141.667545 42.062076 \r\nL 141.667545 73.124933 \r\nL 103.404687 73.124933 \r\nL 103.404687 42.062076 \r\n\" style=\"fill:#0a091f;\"/>\r\n    <path clip-path=\"url(#pd71467153d)\" d=\"M 141.667545 42.062076 \r\nL 179.930402 42.062076 \r\nL 179.930402 73.124933 \r\nL 141.667545 73.124933 \r\nL 141.667545 42.062076 \r\n\" style=\"fill:#faebdd;\"/>\r\n    <path clip-path=\"url(#pd71467153d)\" d=\"M 179.930402 42.062076 \r\nL 218.193259 42.062076 \r\nL 218.193259 73.124933 \r\nL 179.930402 73.124933 \r\nL 179.930402 42.062076 \r\n\" style=\"fill:#ca1a50;\"/>\r\n    <path clip-path=\"url(#pd71467153d)\" d=\"M 218.193259 42.062076 \r\nL 256.456116 42.062076 \r\nL 256.456116 73.124933 \r\nL 218.193259 73.124933 \r\nL 218.193259 42.062076 \r\n\" style=\"fill:#db2946;\"/>\r\n    <path clip-path=\"url(#pd71467153d)\" d=\"M 256.456116 42.062076 \r\nL 294.718973 42.062076 \r\nL 294.718973 73.124933 \r\nL 256.456116 73.124933 \r\nL 256.456116 42.062076 \r\n\" style=\"fill:#591e50;\"/>\r\n    <path clip-path=\"url(#pd71467153d)\" d=\"M 294.718973 42.062076 \r\nL 332.98183 42.062076 \r\nL 332.98183 73.124933 \r\nL 294.718973 73.124933 \r\nL 294.718973 42.062076 \r\n\" style=\"fill:#ca1a50;\"/>\r\n    <path clip-path=\"url(#pd71467153d)\" d=\"M 332.98183 42.062076 \r\nL 371.244688 42.062076 \r\nL 371.244688 73.124933 \r\nL 332.98183 73.124933 \r\nL 332.98183 42.062076 \r\n\" style=\"fill:#b21758;\"/>\r\n    <path clip-path=\"url(#pd71467153d)\" d=\"M 103.404687 73.124933 \r\nL 141.667545 73.124933 \r\nL 141.667545 104.18779 \r\nL 103.404687 104.18779 \r\nL 103.404687 73.124933 \r\n\" style=\"fill:#d2204c;\"/>\r\n    <path clip-path=\"url(#pd71467153d)\" d=\"M 141.667545 73.124933 \r\nL 179.930402 73.124933 \r\nL 179.930402 104.18779 \r\nL 141.667545 104.18779 \r\nL 141.667545 73.124933 \r\n\" style=\"fill:#ca1a50;\"/>\r\n    <path clip-path=\"url(#pd71467153d)\" d=\"M 179.930402 73.124933 \r\nL 218.193259 73.124933 \r\nL 218.193259 104.18779 \r\nL 179.930402 104.18779 \r\nL 179.930402 73.124933 \r\n\" style=\"fill:#faebdd;\"/>\r\n    <path clip-path=\"url(#pd71467153d)\" d=\"M 218.193259 73.124933 \r\nL 256.456116 73.124933 \r\nL 256.456116 104.18779 \r\nL 218.193259 104.18779 \r\nL 218.193259 73.124933 \r\n\" style=\"fill:#110c24;\"/>\r\n    <path clip-path=\"url(#pd71467153d)\" d=\"M 256.456116 73.124933 \r\nL 294.718973 73.124933 \r\nL 294.718973 104.18779 \r\nL 256.456116 104.18779 \r\nL 256.456116 73.124933 \r\n\" style=\"fill:#e03143;\"/>\r\n    <path clip-path=\"url(#pd71467153d)\" d=\"M 294.718973 73.124933 \r\nL 332.98183 73.124933 \r\nL 332.98183 104.18779 \r\nL 294.718973 104.18779 \r\nL 294.718973 73.124933 \r\n\" style=\"fill:#0e0b22;\"/>\r\n    <path clip-path=\"url(#pd71467153d)\" d=\"M 332.98183 73.124933 \r\nL 371.244688 73.124933 \r\nL 371.244688 104.18779 \r\nL 332.98183 104.18779 \r\nL 332.98183 73.124933 \r\n\" style=\"fill:#f7c6a6;\"/>\r\n    <path clip-path=\"url(#pd71467153d)\" d=\"M 103.404687 104.18779 \r\nL 141.667545 104.18779 \r\nL 141.667545 135.250647 \r\nL 103.404687 135.250647 \r\nL 103.404687 104.18779 \r\n\" style=\"fill:#ab185a;\"/>\r\n    <path clip-path=\"url(#pd71467153d)\" d=\"M 141.667545 104.18779 \r\nL 179.930402 104.18779 \r\nL 179.930402 135.250647 \r\nL 141.667545 135.250647 \r\nL 141.667545 104.18779 \r\n\" style=\"fill:#db2946;\"/>\r\n    <path clip-path=\"url(#pd71467153d)\" d=\"M 179.930402 104.18779 \r\nL 218.193259 104.18779 \r\nL 218.193259 135.250647 \r\nL 179.930402 135.250647 \r\nL 179.930402 104.18779 \r\n\" style=\"fill:#110c24;\"/>\r\n    <path clip-path=\"url(#pd71467153d)\" d=\"M 218.193259 104.18779 \r\nL 256.456116 104.18779 \r\nL 256.456116 135.250647 \r\nL 218.193259 135.250647 \r\nL 218.193259 104.18779 \r\n\" style=\"fill:#faebdd;\"/>\r\n    <path clip-path=\"url(#pd71467153d)\" d=\"M 256.456116 104.18779 \r\nL 294.718973 104.18779 \r\nL 294.718973 135.250647 \r\nL 256.456116 135.250647 \r\nL 256.456116 104.18779 \r\n\" style=\"fill:#b71657;\"/>\r\n    <path clip-path=\"url(#pd71467153d)\" d=\"M 294.718973 104.18779 \r\nL 332.98183 104.18779 \r\nL 332.98183 135.250647 \r\nL 294.718973 135.250647 \r\nL 294.718973 104.18779 \r\n\" style=\"fill:#f7c9aa;\"/>\r\n    <path clip-path=\"url(#pd71467153d)\" d=\"M 332.98183 104.18779 \r\nL 371.244688 104.18779 \r\nL 371.244688 135.250647 \r\nL 332.98183 135.250647 \r\nL 332.98183 104.18779 \r\n\" style=\"fill:#100b23;\"/>\r\n    <path clip-path=\"url(#pd71467153d)\" d=\"M 103.404687 135.250647 \r\nL 141.667545 135.250647 \r\nL 141.667545 166.313504 \r\nL 103.404687 166.313504 \r\nL 103.404687 135.250647 \r\n\" style=\"fill:#f7ccaf;\"/>\r\n    <path clip-path=\"url(#pd71467153d)\" d=\"M 141.667545 135.250647 \r\nL 179.930402 135.250647 \r\nL 179.930402 166.313504 \r\nL 141.667545 166.313504 \r\nL 141.667545 135.250647 \r\n\" style=\"fill:#591e50;\"/>\r\n    <path clip-path=\"url(#pd71467153d)\" d=\"M 179.930402 135.250647 \r\nL 218.193259 135.250647 \r\nL 218.193259 166.313504 \r\nL 179.930402 166.313504 \r\nL 179.930402 135.250647 \r\n\" style=\"fill:#e03143;\"/>\r\n    <path clip-path=\"url(#pd71467153d)\" d=\"M 218.193259 135.250647 \r\nL 256.456116 135.250647 \r\nL 256.456116 166.313504 \r\nL 218.193259 166.313504 \r\nL 218.193259 135.250647 \r\n\" style=\"fill:#b71657;\"/>\r\n    <path clip-path=\"url(#pd71467153d)\" d=\"M 256.456116 135.250647 \r\nL 294.718973 135.250647 \r\nL 294.718973 166.313504 \r\nL 256.456116 166.313504 \r\nL 256.456116 135.250647 \r\n\" style=\"fill:#faebdd;\"/>\r\n    <path clip-path=\"url(#pd71467153d)\" d=\"M 294.718973 135.250647 \r\nL 332.98183 135.250647 \r\nL 332.98183 166.313504 \r\nL 294.718973 166.313504 \r\nL 294.718973 135.250647 \r\n\" style=\"fill:#9e1a5b;\"/>\r\n    <path clip-path=\"url(#pd71467153d)\" d=\"M 332.98183 135.250647 \r\nL 371.244688 135.250647 \r\nL 371.244688 166.313504 \r\nL 332.98183 166.313504 \r\nL 332.98183 135.250647 \r\n\" style=\"fill:#e03143;\"/>\r\n    <path clip-path=\"url(#pd71467153d)\" d=\"M 103.404687 166.313504 \r\nL 141.667545 166.313504 \r\nL 141.667545 197.376362 \r\nL 103.404687 197.376362 \r\nL 103.404687 166.313504 \r\n\" style=\"fill:#ab185a;\"/>\r\n    <path clip-path=\"url(#pd71467153d)\" d=\"M 141.667545 166.313504 \r\nL 179.930402 166.313504 \r\nL 179.930402 197.376362 \r\nL 141.667545 197.376362 \r\nL 141.667545 166.313504 \r\n\" style=\"fill:#ca1a50;\"/>\r\n    <path clip-path=\"url(#pd71467153d)\" d=\"M 179.930402 166.313504 \r\nL 218.193259 166.313504 \r\nL 218.193259 197.376362 \r\nL 179.930402 197.376362 \r\nL 179.930402 166.313504 \r\n\" style=\"fill:#0e0b22;\"/>\r\n    <path clip-path=\"url(#pd71467153d)\" d=\"M 218.193259 166.313504 \r\nL 256.456116 166.313504 \r\nL 256.456116 197.376362 \r\nL 218.193259 197.376362 \r\nL 218.193259 166.313504 \r\n\" style=\"fill:#f7c9aa;\"/>\r\n    <path clip-path=\"url(#pd71467153d)\" d=\"M 256.456116 166.313504 \r\nL 294.718973 166.313504 \r\nL 294.718973 197.376362 \r\nL 256.456116 197.376362 \r\nL 256.456116 166.313504 \r\n\" style=\"fill:#9e1a5b;\"/>\r\n    <path clip-path=\"url(#pd71467153d)\" d=\"M 294.718973 166.313504 \r\nL 332.98183 166.313504 \r\nL 332.98183 197.376362 \r\nL 294.718973 197.376362 \r\nL 294.718973 166.313504 \r\n\" style=\"fill:#faebdd;\"/>\r\n    <path clip-path=\"url(#pd71467153d)\" d=\"M 332.98183 166.313504 \r\nL 371.244688 166.313504 \r\nL 371.244688 197.376362 \r\nL 332.98183 197.376362 \r\nL 332.98183 166.313504 \r\n\" style=\"fill:#03051a;\"/>\r\n    <path clip-path=\"url(#pd71467153d)\" d=\"M 103.404687 197.376362 \r\nL 141.667545 197.376362 \r\nL 141.667545 228.439219 \r\nL 103.404687 228.439219 \r\nL 103.404687 197.376362 \r\n\" style=\"fill:#dd2c45;\"/>\r\n    <path clip-path=\"url(#pd71467153d)\" d=\"M 141.667545 197.376362 \r\nL 179.930402 197.376362 \r\nL 179.930402 228.439219 \r\nL 141.667545 228.439219 \r\nL 141.667545 197.376362 \r\n\" style=\"fill:#b21758;\"/>\r\n    <path clip-path=\"url(#pd71467153d)\" d=\"M 179.930402 197.376362 \r\nL 218.193259 197.376362 \r\nL 218.193259 228.439219 \r\nL 179.930402 228.439219 \r\nL 179.930402 197.376362 \r\n\" style=\"fill:#f7c6a6;\"/>\r\n    <path clip-path=\"url(#pd71467153d)\" d=\"M 218.193259 197.376362 \r\nL 256.456116 197.376362 \r\nL 256.456116 228.439219 \r\nL 218.193259 228.439219 \r\nL 218.193259 197.376362 \r\n\" style=\"fill:#100b23;\"/>\r\n    <path clip-path=\"url(#pd71467153d)\" d=\"M 256.456116 197.376362 \r\nL 294.718973 197.376362 \r\nL 294.718973 228.439219 \r\nL 256.456116 228.439219 \r\nL 256.456116 197.376362 \r\n\" style=\"fill:#e03143;\"/>\r\n    <path clip-path=\"url(#pd71467153d)\" d=\"M 294.718973 197.376362 \r\nL 332.98183 197.376362 \r\nL 332.98183 228.439219 \r\nL 294.718973 228.439219 \r\nL 294.718973 197.376362 \r\n\" style=\"fill:#03051a;\"/>\r\n    <path clip-path=\"url(#pd71467153d)\" d=\"M 332.98183 197.376362 \r\nL 371.244688 197.376362 \r\nL 371.244688 228.439219 \r\nL 332.98183 228.439219 \r\nL 332.98183 197.376362 \r\n\" style=\"fill:#faebdd;\"/>\r\n   </g>\r\n   <g id=\"matplotlib.axis_1\">\r\n    <g id=\"xtick_1\">\r\n     <g id=\"line2d_1\">\r\n      <defs>\r\n       <path d=\"M 0 0 \r\nL 0 3.5 \r\n\" id=\"mfffb7d05fe\" style=\"stroke:#000000;stroke-width:0.8;\"/>\r\n      </defs>\r\n      <g>\r\n       <use style=\"stroke:#000000;stroke-width:0.8;\" x=\"122.536116\" xlink:href=\"#mfffb7d05fe\" y=\"228.439219\"/>\r\n      </g>\r\n     </g>\r\n     <g id=\"text_1\">\r\n      <!-- bar_log_r -->\r\n      <defs>\r\n       <path d=\"M 48.6875 27.296875 \r\nQ 48.6875 37.203125 44.609375 42.84375 \r\nQ 40.53125 48.484375 33.40625 48.484375 \r\nQ 26.265625 48.484375 22.1875 42.84375 \r\nQ 18.109375 37.203125 18.109375 27.296875 \r\nQ 18.109375 17.390625 22.1875 11.75 \r\nQ 26.265625 6.109375 33.40625 6.109375 \r\nQ 40.53125 6.109375 44.609375 11.75 \r\nQ 48.6875 17.390625 48.6875 27.296875 \r\nz\r\nM 18.109375 46.390625 \r\nQ 20.953125 51.265625 25.265625 53.625 \r\nQ 29.59375 56 35.59375 56 \r\nQ 45.5625 56 51.78125 48.09375 \r\nQ 58.015625 40.1875 58.015625 27.296875 \r\nQ 58.015625 14.40625 51.78125 6.484375 \r\nQ 45.5625 -1.421875 35.59375 -1.421875 \r\nQ 29.59375 -1.421875 25.265625 0.953125 \r\nQ 20.953125 3.328125 18.109375 8.203125 \r\nL 18.109375 0 \r\nL 9.078125 0 \r\nL 9.078125 75.984375 \r\nL 18.109375 75.984375 \r\nz\r\n\" id=\"DejaVuSans-98\"/>\r\n       <path d=\"M 34.28125 27.484375 \r\nQ 23.390625 27.484375 19.1875 25 \r\nQ 14.984375 22.515625 14.984375 16.5 \r\nQ 14.984375 11.71875 18.140625 8.90625 \r\nQ 21.296875 6.109375 26.703125 6.109375 \r\nQ 34.1875 6.109375 38.703125 11.40625 \r\nQ 43.21875 16.703125 43.21875 25.484375 \r\nL 43.21875 27.484375 \r\nz\r\nM 52.203125 31.203125 \r\nL 52.203125 0 \r\nL 43.21875 0 \r\nL 43.21875 8.296875 \r\nQ 40.140625 3.328125 35.546875 0.953125 \r\nQ 30.953125 -1.421875 24.3125 -1.421875 \r\nQ 15.921875 -1.421875 10.953125 3.296875 \r\nQ 6 8.015625 6 15.921875 \r\nQ 6 25.140625 12.171875 29.828125 \r\nQ 18.359375 34.515625 30.609375 34.515625 \r\nL 43.21875 34.515625 \r\nL 43.21875 35.40625 \r\nQ 43.21875 41.609375 39.140625 45 \r\nQ 35.0625 48.390625 27.6875 48.390625 \r\nQ 23 48.390625 18.546875 47.265625 \r\nQ 14.109375 46.140625 10.015625 43.890625 \r\nL 10.015625 52.203125 \r\nQ 14.9375 54.109375 19.578125 55.046875 \r\nQ 24.21875 56 28.609375 56 \r\nQ 40.484375 56 46.34375 49.84375 \r\nQ 52.203125 43.703125 52.203125 31.203125 \r\nz\r\n\" id=\"DejaVuSans-97\"/>\r\n       <path d=\"M 41.109375 46.296875 \r\nQ 39.59375 47.171875 37.8125 47.578125 \r\nQ 36.03125 48 33.890625 48 \r\nQ 26.265625 48 22.1875 43.046875 \r\nQ 18.109375 38.09375 18.109375 28.8125 \r\nL 18.109375 0 \r\nL 9.078125 0 \r\nL 9.078125 54.6875 \r\nL 18.109375 54.6875 \r\nL 18.109375 46.1875 \r\nQ 20.953125 51.171875 25.484375 53.578125 \r\nQ 30.03125 56 36.53125 56 \r\nQ 37.453125 56 38.578125 55.875 \r\nQ 39.703125 55.765625 41.0625 55.515625 \r\nz\r\n\" id=\"DejaVuSans-114\"/>\r\n       <path d=\"M 50.984375 -16.609375 \r\nL 50.984375 -23.578125 \r\nL -0.984375 -23.578125 \r\nL -0.984375 -16.609375 \r\nz\r\n\" id=\"DejaVuSans-95\"/>\r\n       <path d=\"M 9.421875 75.984375 \r\nL 18.40625 75.984375 \r\nL 18.40625 0 \r\nL 9.421875 0 \r\nz\r\n\" id=\"DejaVuSans-108\"/>\r\n       <path d=\"M 30.609375 48.390625 \r\nQ 23.390625 48.390625 19.1875 42.75 \r\nQ 14.984375 37.109375 14.984375 27.296875 \r\nQ 14.984375 17.484375 19.15625 11.84375 \r\nQ 23.34375 6.203125 30.609375 6.203125 \r\nQ 37.796875 6.203125 41.984375 11.859375 \r\nQ 46.1875 17.53125 46.1875 27.296875 \r\nQ 46.1875 37.015625 41.984375 42.703125 \r\nQ 37.796875 48.390625 30.609375 48.390625 \r\nz\r\nM 30.609375 56 \r\nQ 42.328125 56 49.015625 48.375 \r\nQ 55.71875 40.765625 55.71875 27.296875 \r\nQ 55.71875 13.875 49.015625 6.21875 \r\nQ 42.328125 -1.421875 30.609375 -1.421875 \r\nQ 18.84375 -1.421875 12.171875 6.21875 \r\nQ 5.515625 13.875 5.515625 27.296875 \r\nQ 5.515625 40.765625 12.171875 48.375 \r\nQ 18.84375 56 30.609375 56 \r\nz\r\n\" id=\"DejaVuSans-111\"/>\r\n       <path d=\"M 45.40625 27.984375 \r\nQ 45.40625 37.75 41.375 43.109375 \r\nQ 37.359375 48.484375 30.078125 48.484375 \r\nQ 22.859375 48.484375 18.828125 43.109375 \r\nQ 14.796875 37.75 14.796875 27.984375 \r\nQ 14.796875 18.265625 18.828125 12.890625 \r\nQ 22.859375 7.515625 30.078125 7.515625 \r\nQ 37.359375 7.515625 41.375 12.890625 \r\nQ 45.40625 18.265625 45.40625 27.984375 \r\nz\r\nM 54.390625 6.78125 \r\nQ 54.390625 -7.171875 48.1875 -13.984375 \r\nQ 42 -20.796875 29.203125 -20.796875 \r\nQ 24.46875 -20.796875 20.265625 -20.09375 \r\nQ 16.0625 -19.390625 12.109375 -17.921875 \r\nL 12.109375 -9.1875 \r\nQ 16.0625 -11.328125 19.921875 -12.34375 \r\nQ 23.78125 -13.375 27.78125 -13.375 \r\nQ 36.625 -13.375 41.015625 -8.765625 \r\nQ 45.40625 -4.15625 45.40625 5.171875 \r\nL 45.40625 9.625 \r\nQ 42.625 4.78125 38.28125 2.390625 \r\nQ 33.9375 0 27.875 0 \r\nQ 17.828125 0 11.671875 7.65625 \r\nQ 5.515625 15.328125 5.515625 27.984375 \r\nQ 5.515625 40.671875 11.671875 48.328125 \r\nQ 17.828125 56 27.875 56 \r\nQ 33.9375 56 38.28125 53.609375 \r\nQ 42.625 51.21875 45.40625 46.390625 \r\nL 45.40625 54.6875 \r\nL 54.390625 54.6875 \r\nz\r\n\" id=\"DejaVuSans-103\"/>\r\n      </defs>\r\n      <g transform=\"translate(125.156429 281.382969)rotate(-90)scale(0.1 -0.1)\">\r\n       <use xlink:href=\"#DejaVuSans-98\"/>\r\n       <use x=\"63.476562\" xlink:href=\"#DejaVuSans-97\"/>\r\n       <use x=\"124.755859\" xlink:href=\"#DejaVuSans-114\"/>\r\n       <use x=\"165.869141\" xlink:href=\"#DejaVuSans-95\"/>\r\n       <use x=\"215.869141\" xlink:href=\"#DejaVuSans-108\"/>\r\n       <use x=\"243.652344\" xlink:href=\"#DejaVuSans-111\"/>\r\n       <use x=\"304.833984\" xlink:href=\"#DejaVuSans-103\"/>\r\n       <use x=\"368.310547\" xlink:href=\"#DejaVuSans-95\"/>\r\n       <use x=\"418.310547\" xlink:href=\"#DejaVuSans-114\"/>\r\n      </g>\r\n     </g>\r\n    </g>\r\n    <g id=\"xtick_2\">\r\n     <g id=\"line2d_2\">\r\n      <g>\r\n       <use style=\"stroke:#000000;stroke-width:0.8;\" x=\"160.798973\" xlink:href=\"#mfffb7d05fe\" y=\"228.439219\"/>\r\n      </g>\r\n     </g>\r\n     <g id=\"text_2\">\r\n      <!-- first_r -->\r\n      <defs>\r\n       <path d=\"M 37.109375 75.984375 \r\nL 37.109375 68.5 \r\nL 28.515625 68.5 \r\nQ 23.6875 68.5 21.796875 66.546875 \r\nQ 19.921875 64.59375 19.921875 59.515625 \r\nL 19.921875 54.6875 \r\nL 34.71875 54.6875 \r\nL 34.71875 47.703125 \r\nL 19.921875 47.703125 \r\nL 19.921875 0 \r\nL 10.890625 0 \r\nL 10.890625 47.703125 \r\nL 2.296875 47.703125 \r\nL 2.296875 54.6875 \r\nL 10.890625 54.6875 \r\nL 10.890625 58.5 \r\nQ 10.890625 67.625 15.140625 71.796875 \r\nQ 19.390625 75.984375 28.609375 75.984375 \r\nz\r\n\" id=\"DejaVuSans-102\"/>\r\n       <path d=\"M 9.421875 54.6875 \r\nL 18.40625 54.6875 \r\nL 18.40625 0 \r\nL 9.421875 0 \r\nz\r\nM 9.421875 75.984375 \r\nL 18.40625 75.984375 \r\nL 18.40625 64.59375 \r\nL 9.421875 64.59375 \r\nz\r\n\" id=\"DejaVuSans-105\"/>\r\n       <path d=\"M 44.28125 53.078125 \r\nL 44.28125 44.578125 \r\nQ 40.484375 46.53125 36.375 47.5 \r\nQ 32.28125 48.484375 27.875 48.484375 \r\nQ 21.1875 48.484375 17.84375 46.4375 \r\nQ 14.5 44.390625 14.5 40.28125 \r\nQ 14.5 37.15625 16.890625 35.375 \r\nQ 19.28125 33.59375 26.515625 31.984375 \r\nL 29.59375 31.296875 \r\nQ 39.15625 29.25 43.1875 25.515625 \r\nQ 47.21875 21.78125 47.21875 15.09375 \r\nQ 47.21875 7.46875 41.1875 3.015625 \r\nQ 35.15625 -1.421875 24.609375 -1.421875 \r\nQ 20.21875 -1.421875 15.453125 -0.5625 \r\nQ 10.6875 0.296875 5.421875 2 \r\nL 5.421875 11.28125 \r\nQ 10.40625 8.6875 15.234375 7.390625 \r\nQ 20.0625 6.109375 24.8125 6.109375 \r\nQ 31.15625 6.109375 34.5625 8.28125 \r\nQ 37.984375 10.453125 37.984375 14.40625 \r\nQ 37.984375 18.0625 35.515625 20.015625 \r\nQ 33.0625 21.96875 24.703125 23.78125 \r\nL 21.578125 24.515625 \r\nQ 13.234375 26.265625 9.515625 29.90625 \r\nQ 5.8125 33.546875 5.8125 39.890625 \r\nQ 5.8125 47.609375 11.28125 51.796875 \r\nQ 16.75 56 26.8125 56 \r\nQ 31.78125 56 36.171875 55.265625 \r\nQ 40.578125 54.546875 44.28125 53.078125 \r\nz\r\n\" id=\"DejaVuSans-115\"/>\r\n       <path d=\"M 18.3125 70.21875 \r\nL 18.3125 54.6875 \r\nL 36.8125 54.6875 \r\nL 36.8125 47.703125 \r\nL 18.3125 47.703125 \r\nL 18.3125 18.015625 \r\nQ 18.3125 11.328125 20.140625 9.421875 \r\nQ 21.96875 7.515625 27.59375 7.515625 \r\nL 36.8125 7.515625 \r\nL 36.8125 0 \r\nL 27.59375 0 \r\nQ 17.1875 0 13.234375 3.875 \r\nQ 9.28125 7.765625 9.28125 18.015625 \r\nL 9.28125 47.703125 \r\nL 2.6875 47.703125 \r\nL 2.6875 54.6875 \r\nL 9.28125 54.6875 \r\nL 9.28125 70.21875 \r\nz\r\n\" id=\"DejaVuSans-116\"/>\r\n      </defs>\r\n      <g transform=\"translate(163.419286 264.089219)rotate(-90)scale(0.1 -0.1)\">\r\n       <use xlink:href=\"#DejaVuSans-102\"/>\r\n       <use x=\"35.205078\" xlink:href=\"#DejaVuSans-105\"/>\r\n       <use x=\"62.988281\" xlink:href=\"#DejaVuSans-114\"/>\r\n       <use x=\"104.101562\" xlink:href=\"#DejaVuSans-115\"/>\r\n       <use x=\"156.201172\" xlink:href=\"#DejaVuSans-116\"/>\r\n       <use x=\"195.410156\" xlink:href=\"#DejaVuSans-95\"/>\r\n       <use x=\"245.410156\" xlink:href=\"#DejaVuSans-114\"/>\r\n      </g>\r\n     </g>\r\n    </g>\r\n    <g id=\"xtick_3\">\r\n     <g id=\"line2d_3\">\r\n      <g>\r\n       <use style=\"stroke:#000000;stroke-width:0.8;\" x=\"199.06183\" xlink:href=\"#mfffb7d05fe\" y=\"228.439219\"/>\r\n      </g>\r\n     </g>\r\n     <g id=\"text_3\">\r\n      <!-- max_r -->\r\n      <defs>\r\n       <path d=\"M 52 44.1875 \r\nQ 55.375 50.25 60.0625 53.125 \r\nQ 64.75 56 71.09375 56 \r\nQ 79.640625 56 84.28125 50.015625 \r\nQ 88.921875 44.046875 88.921875 33.015625 \r\nL 88.921875 0 \r\nL 79.890625 0 \r\nL 79.890625 32.71875 \r\nQ 79.890625 40.578125 77.09375 44.375 \r\nQ 74.3125 48.1875 68.609375 48.1875 \r\nQ 61.625 48.1875 57.5625 43.546875 \r\nQ 53.515625 38.921875 53.515625 30.90625 \r\nL 53.515625 0 \r\nL 44.484375 0 \r\nL 44.484375 32.71875 \r\nQ 44.484375 40.625 41.703125 44.40625 \r\nQ 38.921875 48.1875 33.109375 48.1875 \r\nQ 26.21875 48.1875 22.15625 43.53125 \r\nQ 18.109375 38.875 18.109375 30.90625 \r\nL 18.109375 0 \r\nL 9.078125 0 \r\nL 9.078125 54.6875 \r\nL 18.109375 54.6875 \r\nL 18.109375 46.1875 \r\nQ 21.1875 51.21875 25.484375 53.609375 \r\nQ 29.78125 56 35.6875 56 \r\nQ 41.65625 56 45.828125 52.96875 \r\nQ 50 49.953125 52 44.1875 \r\nz\r\n\" id=\"DejaVuSans-109\"/>\r\n       <path d=\"M 54.890625 54.6875 \r\nL 35.109375 28.078125 \r\nL 55.90625 0 \r\nL 45.3125 0 \r\nL 29.390625 21.484375 \r\nL 13.484375 0 \r\nL 2.875 0 \r\nL 24.125 28.609375 \r\nL 4.6875 54.6875 \r\nL 15.28125 54.6875 \r\nL 29.78125 35.203125 \r\nL 44.28125 54.6875 \r\nz\r\n\" id=\"DejaVuSans-120\"/>\r\n      </defs>\r\n      <g transform=\"translate(201.54308 266.337656)rotate(-90)scale(0.1 -0.1)\">\r\n       <use xlink:href=\"#DejaVuSans-109\"/>\r\n       <use x=\"97.412109\" xlink:href=\"#DejaVuSans-97\"/>\r\n       <use x=\"158.691406\" xlink:href=\"#DejaVuSans-120\"/>\r\n       <use x=\"217.871094\" xlink:href=\"#DejaVuSans-95\"/>\r\n       <use x=\"267.871094\" xlink:href=\"#DejaVuSans-114\"/>\r\n      </g>\r\n     </g>\r\n    </g>\r\n    <g id=\"xtick_4\">\r\n     <g id=\"line2d_4\">\r\n      <g>\r\n       <use style=\"stroke:#000000;stroke-width:0.8;\" x=\"237.324688\" xlink:href=\"#mfffb7d05fe\" y=\"228.439219\"/>\r\n      </g>\r\n     </g>\r\n     <g id=\"text_4\">\r\n      <!-- min_r -->\r\n      <defs>\r\n       <path d=\"M 54.890625 33.015625 \r\nL 54.890625 0 \r\nL 45.90625 0 \r\nL 45.90625 32.71875 \r\nQ 45.90625 40.484375 42.875 44.328125 \r\nQ 39.84375 48.1875 33.796875 48.1875 \r\nQ 26.515625 48.1875 22.3125 43.546875 \r\nQ 18.109375 38.921875 18.109375 30.90625 \r\nL 18.109375 0 \r\nL 9.078125 0 \r\nL 9.078125 54.6875 \r\nL 18.109375 54.6875 \r\nL 18.109375 46.1875 \r\nQ 21.34375 51.125 25.703125 53.5625 \r\nQ 30.078125 56 35.796875 56 \r\nQ 45.21875 56 50.046875 50.171875 \r\nQ 54.890625 44.34375 54.890625 33.015625 \r\nz\r\n\" id=\"DejaVuSans-110\"/>\r\n      </defs>\r\n      <g transform=\"translate(239.945 263.406406)rotate(-90)scale(0.1 -0.1)\">\r\n       <use xlink:href=\"#DejaVuSans-109\"/>\r\n       <use x=\"97.412109\" xlink:href=\"#DejaVuSans-105\"/>\r\n       <use x=\"125.195312\" xlink:href=\"#DejaVuSans-110\"/>\r\n       <use x=\"188.574219\" xlink:href=\"#DejaVuSans-95\"/>\r\n       <use x=\"238.574219\" xlink:href=\"#DejaVuSans-114\"/>\r\n      </g>\r\n     </g>\r\n    </g>\r\n    <g id=\"xtick_5\">\r\n     <g id=\"line2d_5\">\r\n      <g>\r\n       <use style=\"stroke:#000000;stroke-width:0.8;\" x=\"275.587545\" xlink:href=\"#mfffb7d05fe\" y=\"228.439219\"/>\r\n      </g>\r\n     </g>\r\n     <g id=\"text_5\">\r\n      <!-- last_r -->\r\n      <g transform=\"translate(278.207857 262.586094)rotate(-90)scale(0.1 -0.1)\">\r\n       <use xlink:href=\"#DejaVuSans-108\"/>\r\n       <use x=\"27.783203\" xlink:href=\"#DejaVuSans-97\"/>\r\n       <use x=\"89.0625\" xlink:href=\"#DejaVuSans-115\"/>\r\n       <use x=\"141.162109\" xlink:href=\"#DejaVuSans-116\"/>\r\n       <use x=\"180.371094\" xlink:href=\"#DejaVuSans-95\"/>\r\n       <use x=\"230.371094\" xlink:href=\"#DejaVuSans-114\"/>\r\n      </g>\r\n     </g>\r\n    </g>\r\n    <g id=\"xtick_6\">\r\n     <g id=\"line2d_6\">\r\n      <g>\r\n       <use style=\"stroke:#000000;stroke-width:0.8;\" x=\"313.850402\" xlink:href=\"#mfffb7d05fe\" y=\"228.439219\"/>\r\n      </g>\r\n     </g>\r\n     <g id=\"text_6\">\r\n      <!-- bar_quantile_25_r -->\r\n      <defs>\r\n       <path d=\"M 14.796875 27.296875 \r\nQ 14.796875 17.390625 18.875 11.75 \r\nQ 22.953125 6.109375 30.078125 6.109375 \r\nQ 37.203125 6.109375 41.296875 11.75 \r\nQ 45.40625 17.390625 45.40625 27.296875 \r\nQ 45.40625 37.203125 41.296875 42.84375 \r\nQ 37.203125 48.484375 30.078125 48.484375 \r\nQ 22.953125 48.484375 18.875 42.84375 \r\nQ 14.796875 37.203125 14.796875 27.296875 \r\nz\r\nM 45.40625 8.203125 \r\nQ 42.578125 3.328125 38.25 0.953125 \r\nQ 33.9375 -1.421875 27.875 -1.421875 \r\nQ 17.96875 -1.421875 11.734375 6.484375 \r\nQ 5.515625 14.40625 5.515625 27.296875 \r\nQ 5.515625 40.1875 11.734375 48.09375 \r\nQ 17.96875 56 27.875 56 \r\nQ 33.9375 56 38.25 53.625 \r\nQ 42.578125 51.265625 45.40625 46.390625 \r\nL 45.40625 54.6875 \r\nL 54.390625 54.6875 \r\nL 54.390625 -20.796875 \r\nL 45.40625 -20.796875 \r\nz\r\n\" id=\"DejaVuSans-113\"/>\r\n       <path d=\"M 8.5 21.578125 \r\nL 8.5 54.6875 \r\nL 17.484375 54.6875 \r\nL 17.484375 21.921875 \r\nQ 17.484375 14.15625 20.5 10.265625 \r\nQ 23.53125 6.390625 29.59375 6.390625 \r\nQ 36.859375 6.390625 41.078125 11.03125 \r\nQ 45.3125 15.671875 45.3125 23.6875 \r\nL 45.3125 54.6875 \r\nL 54.296875 54.6875 \r\nL 54.296875 0 \r\nL 45.3125 0 \r\nL 45.3125 8.40625 \r\nQ 42.046875 3.421875 37.71875 1 \r\nQ 33.40625 -1.421875 27.6875 -1.421875 \r\nQ 18.265625 -1.421875 13.375 4.4375 \r\nQ 8.5 10.296875 8.5 21.578125 \r\nz\r\nM 31.109375 56 \r\nz\r\n\" id=\"DejaVuSans-117\"/>\r\n       <path d=\"M 56.203125 29.59375 \r\nL 56.203125 25.203125 \r\nL 14.890625 25.203125 \r\nQ 15.484375 15.921875 20.484375 11.0625 \r\nQ 25.484375 6.203125 34.421875 6.203125 \r\nQ 39.59375 6.203125 44.453125 7.46875 \r\nQ 49.3125 8.734375 54.109375 11.28125 \r\nL 54.109375 2.78125 \r\nQ 49.265625 0.734375 44.1875 -0.34375 \r\nQ 39.109375 -1.421875 33.890625 -1.421875 \r\nQ 20.796875 -1.421875 13.15625 6.1875 \r\nQ 5.515625 13.8125 5.515625 26.8125 \r\nQ 5.515625 40.234375 12.765625 48.109375 \r\nQ 20.015625 56 32.328125 56 \r\nQ 43.359375 56 49.78125 48.890625 \r\nQ 56.203125 41.796875 56.203125 29.59375 \r\nz\r\nM 47.21875 32.234375 \r\nQ 47.125 39.59375 43.09375 43.984375 \r\nQ 39.0625 48.390625 32.421875 48.390625 \r\nQ 24.90625 48.390625 20.390625 44.140625 \r\nQ 15.875 39.890625 15.1875 32.171875 \r\nz\r\n\" id=\"DejaVuSans-101\"/>\r\n       <path d=\"M 19.1875 8.296875 \r\nL 53.609375 8.296875 \r\nL 53.609375 0 \r\nL 7.328125 0 \r\nL 7.328125 8.296875 \r\nQ 12.9375 14.109375 22.625 23.890625 \r\nQ 32.328125 33.6875 34.8125 36.53125 \r\nQ 39.546875 41.84375 41.421875 45.53125 \r\nQ 43.3125 49.21875 43.3125 52.78125 \r\nQ 43.3125 58.59375 39.234375 62.25 \r\nQ 35.15625 65.921875 28.609375 65.921875 \r\nQ 23.96875 65.921875 18.8125 64.3125 \r\nQ 13.671875 62.703125 7.8125 59.421875 \r\nL 7.8125 69.390625 \r\nQ 13.765625 71.78125 18.9375 73 \r\nQ 24.125 74.21875 28.421875 74.21875 \r\nQ 39.75 74.21875 46.484375 68.546875 \r\nQ 53.21875 62.890625 53.21875 53.421875 \r\nQ 53.21875 48.921875 51.53125 44.890625 \r\nQ 49.859375 40.875 45.40625 35.40625 \r\nQ 44.1875 33.984375 37.640625 27.21875 \r\nQ 31.109375 20.453125 19.1875 8.296875 \r\nz\r\n\" id=\"DejaVuSans-50\"/>\r\n       <path d=\"M 10.796875 72.90625 \r\nL 49.515625 72.90625 \r\nL 49.515625 64.59375 \r\nL 19.828125 64.59375 \r\nL 19.828125 46.734375 \r\nQ 21.96875 47.46875 24.109375 47.828125 \r\nQ 26.265625 48.1875 28.421875 48.1875 \r\nQ 40.625 48.1875 47.75 41.5 \r\nQ 54.890625 34.8125 54.890625 23.390625 \r\nQ 54.890625 11.625 47.5625 5.09375 \r\nQ 40.234375 -1.421875 26.90625 -1.421875 \r\nQ 22.3125 -1.421875 17.546875 -0.640625 \r\nQ 12.796875 0.140625 7.71875 1.703125 \r\nL 7.71875 11.625 \r\nQ 12.109375 9.234375 16.796875 8.0625 \r\nQ 21.484375 6.890625 26.703125 6.890625 \r\nQ 35.15625 6.890625 40.078125 11.328125 \r\nQ 45.015625 15.765625 45.015625 23.390625 \r\nQ 45.015625 31 40.078125 35.4375 \r\nQ 35.15625 39.890625 26.703125 39.890625 \r\nQ 22.75 39.890625 18.8125 39.015625 \r\nQ 14.890625 38.140625 10.796875 36.28125 \r\nz\r\n\" id=\"DejaVuSans-53\"/>\r\n      </defs>\r\n      <g transform=\"translate(316.470714 324.643906)rotate(-90)scale(0.1 -0.1)\">\r\n       <use xlink:href=\"#DejaVuSans-98\"/>\r\n       <use x=\"63.476562\" xlink:href=\"#DejaVuSans-97\"/>\r\n       <use x=\"124.755859\" xlink:href=\"#DejaVuSans-114\"/>\r\n       <use x=\"165.869141\" xlink:href=\"#DejaVuSans-95\"/>\r\n       <use x=\"215.869141\" xlink:href=\"#DejaVuSans-113\"/>\r\n       <use x=\"279.345703\" xlink:href=\"#DejaVuSans-117\"/>\r\n       <use x=\"342.724609\" xlink:href=\"#DejaVuSans-97\"/>\r\n       <use x=\"404.003906\" xlink:href=\"#DejaVuSans-110\"/>\r\n       <use x=\"467.382812\" xlink:href=\"#DejaVuSans-116\"/>\r\n       <use x=\"506.591797\" xlink:href=\"#DejaVuSans-105\"/>\r\n       <use x=\"534.375\" xlink:href=\"#DejaVuSans-108\"/>\r\n       <use x=\"562.158203\" xlink:href=\"#DejaVuSans-101\"/>\r\n       <use x=\"623.681641\" xlink:href=\"#DejaVuSans-95\"/>\r\n       <use x=\"673.681641\" xlink:href=\"#DejaVuSans-50\"/>\r\n       <use x=\"737.304688\" xlink:href=\"#DejaVuSans-53\"/>\r\n       <use x=\"800.927734\" xlink:href=\"#DejaVuSans-95\"/>\r\n       <use x=\"850.927734\" xlink:href=\"#DejaVuSans-114\"/>\r\n      </g>\r\n     </g>\r\n    </g>\r\n    <g id=\"xtick_7\">\r\n     <g id=\"line2d_7\">\r\n      <g>\r\n       <use style=\"stroke:#000000;stroke-width:0.8;\" x=\"352.113259\" xlink:href=\"#mfffb7d05fe\" y=\"228.439219\"/>\r\n      </g>\r\n     </g>\r\n     <g id=\"text_7\">\r\n      <!-- bar_quantile_75_r -->\r\n      <defs>\r\n       <path d=\"M 8.203125 72.90625 \r\nL 55.078125 72.90625 \r\nL 55.078125 68.703125 \r\nL 28.609375 0 \r\nL 18.3125 0 \r\nL 43.21875 64.59375 \r\nL 8.203125 64.59375 \r\nz\r\n\" id=\"DejaVuSans-55\"/>\r\n      </defs>\r\n      <g transform=\"translate(354.733571 324.643906)rotate(-90)scale(0.1 -0.1)\">\r\n       <use xlink:href=\"#DejaVuSans-98\"/>\r\n       <use x=\"63.476562\" xlink:href=\"#DejaVuSans-97\"/>\r\n       <use x=\"124.755859\" xlink:href=\"#DejaVuSans-114\"/>\r\n       <use x=\"165.869141\" xlink:href=\"#DejaVuSans-95\"/>\r\n       <use x=\"215.869141\" xlink:href=\"#DejaVuSans-113\"/>\r\n       <use x=\"279.345703\" xlink:href=\"#DejaVuSans-117\"/>\r\n       <use x=\"342.724609\" xlink:href=\"#DejaVuSans-97\"/>\r\n       <use x=\"404.003906\" xlink:href=\"#DejaVuSans-110\"/>\r\n       <use x=\"467.382812\" xlink:href=\"#DejaVuSans-116\"/>\r\n       <use x=\"506.591797\" xlink:href=\"#DejaVuSans-105\"/>\r\n       <use x=\"534.375\" xlink:href=\"#DejaVuSans-108\"/>\r\n       <use x=\"562.158203\" xlink:href=\"#DejaVuSans-101\"/>\r\n       <use x=\"623.681641\" xlink:href=\"#DejaVuSans-95\"/>\r\n       <use x=\"673.681641\" xlink:href=\"#DejaVuSans-55\"/>\r\n       <use x=\"737.304688\" xlink:href=\"#DejaVuSans-53\"/>\r\n       <use x=\"800.927734\" xlink:href=\"#DejaVuSans-95\"/>\r\n       <use x=\"850.927734\" xlink:href=\"#DejaVuSans-114\"/>\r\n      </g>\r\n     </g>\r\n    </g>\r\n   </g>\r\n   <g id=\"matplotlib.axis_2\">\r\n    <g id=\"ytick_1\">\r\n     <g id=\"line2d_8\">\r\n      <defs>\r\n       <path d=\"M 0 0 \r\nL -3.5 0 \r\n\" id=\"m30894f9800\" style=\"stroke:#000000;stroke-width:0.8;\"/>\r\n      </defs>\r\n      <g>\r\n       <use style=\"stroke:#000000;stroke-width:0.8;\" x=\"103.404687\" xlink:href=\"#m30894f9800\" y=\"26.530647\"/>\r\n      </g>\r\n     </g>\r\n     <g id=\"text_8\">\r\n      <!-- bar_log_r -->\r\n      <g transform=\"translate(50.460937 30.329866)scale(0.1 -0.1)\">\r\n       <use xlink:href=\"#DejaVuSans-98\"/>\r\n       <use x=\"63.476562\" xlink:href=\"#DejaVuSans-97\"/>\r\n       <use x=\"124.755859\" xlink:href=\"#DejaVuSans-114\"/>\r\n       <use x=\"165.869141\" xlink:href=\"#DejaVuSans-95\"/>\r\n       <use x=\"215.869141\" xlink:href=\"#DejaVuSans-108\"/>\r\n       <use x=\"243.652344\" xlink:href=\"#DejaVuSans-111\"/>\r\n       <use x=\"304.833984\" xlink:href=\"#DejaVuSans-103\"/>\r\n       <use x=\"368.310547\" xlink:href=\"#DejaVuSans-95\"/>\r\n       <use x=\"418.310547\" xlink:href=\"#DejaVuSans-114\"/>\r\n      </g>\r\n     </g>\r\n    </g>\r\n    <g id=\"ytick_2\">\r\n     <g id=\"line2d_9\">\r\n      <g>\r\n       <use style=\"stroke:#000000;stroke-width:0.8;\" x=\"103.404687\" xlink:href=\"#m30894f9800\" y=\"57.593504\"/>\r\n      </g>\r\n     </g>\r\n     <g id=\"text_9\">\r\n      <!-- first_r -->\r\n      <g transform=\"translate(67.754687 61.392723)scale(0.1 -0.1)\">\r\n       <use xlink:href=\"#DejaVuSans-102\"/>\r\n       <use x=\"35.205078\" xlink:href=\"#DejaVuSans-105\"/>\r\n       <use x=\"62.988281\" xlink:href=\"#DejaVuSans-114\"/>\r\n       <use x=\"104.101562\" xlink:href=\"#DejaVuSans-115\"/>\r\n       <use x=\"156.201172\" xlink:href=\"#DejaVuSans-116\"/>\r\n       <use x=\"195.410156\" xlink:href=\"#DejaVuSans-95\"/>\r\n       <use x=\"245.410156\" xlink:href=\"#DejaVuSans-114\"/>\r\n      </g>\r\n     </g>\r\n    </g>\r\n    <g id=\"ytick_3\">\r\n     <g id=\"line2d_10\">\r\n      <g>\r\n       <use style=\"stroke:#000000;stroke-width:0.8;\" x=\"103.404687\" xlink:href=\"#m30894f9800\" y=\"88.656362\"/>\r\n      </g>\r\n     </g>\r\n     <g id=\"text_10\">\r\n      <!-- max_r -->\r\n      <g transform=\"translate(65.50625 92.316518)scale(0.1 -0.1)\">\r\n       <use xlink:href=\"#DejaVuSans-109\"/>\r\n       <use x=\"97.412109\" xlink:href=\"#DejaVuSans-97\"/>\r\n       <use x=\"158.691406\" xlink:href=\"#DejaVuSans-120\"/>\r\n       <use x=\"217.871094\" xlink:href=\"#DejaVuSans-95\"/>\r\n       <use x=\"267.871094\" xlink:href=\"#DejaVuSans-114\"/>\r\n      </g>\r\n     </g>\r\n    </g>\r\n    <g id=\"ytick_4\">\r\n     <g id=\"line2d_11\">\r\n      <g>\r\n       <use style=\"stroke:#000000;stroke-width:0.8;\" x=\"103.404687\" xlink:href=\"#m30894f9800\" y=\"119.719219\"/>\r\n      </g>\r\n     </g>\r\n     <g id=\"text_11\">\r\n      <!-- min_r -->\r\n      <g transform=\"translate(68.4375 123.518438)scale(0.1 -0.1)\">\r\n       <use xlink:href=\"#DejaVuSans-109\"/>\r\n       <use x=\"97.412109\" xlink:href=\"#DejaVuSans-105\"/>\r\n       <use x=\"125.195312\" xlink:href=\"#DejaVuSans-110\"/>\r\n       <use x=\"188.574219\" xlink:href=\"#DejaVuSans-95\"/>\r\n       <use x=\"238.574219\" xlink:href=\"#DejaVuSans-114\"/>\r\n      </g>\r\n     </g>\r\n    </g>\r\n    <g id=\"ytick_5\">\r\n     <g id=\"line2d_12\">\r\n      <g>\r\n       <use style=\"stroke:#000000;stroke-width:0.8;\" x=\"103.404687\" xlink:href=\"#m30894f9800\" y=\"150.782076\"/>\r\n      </g>\r\n     </g>\r\n     <g id=\"text_12\">\r\n      <!-- last_r -->\r\n      <g transform=\"translate(69.257812 154.581295)scale(0.1 -0.1)\">\r\n       <use xlink:href=\"#DejaVuSans-108\"/>\r\n       <use x=\"27.783203\" xlink:href=\"#DejaVuSans-97\"/>\r\n       <use x=\"89.0625\" xlink:href=\"#DejaVuSans-115\"/>\r\n       <use x=\"141.162109\" xlink:href=\"#DejaVuSans-116\"/>\r\n       <use x=\"180.371094\" xlink:href=\"#DejaVuSans-95\"/>\r\n       <use x=\"230.371094\" xlink:href=\"#DejaVuSans-114\"/>\r\n      </g>\r\n     </g>\r\n    </g>\r\n    <g id=\"ytick_6\">\r\n     <g id=\"line2d_13\">\r\n      <g>\r\n       <use style=\"stroke:#000000;stroke-width:0.8;\" x=\"103.404687\" xlink:href=\"#m30894f9800\" y=\"181.844933\"/>\r\n      </g>\r\n     </g>\r\n     <g id=\"text_13\">\r\n      <!-- bar_quantile_25_r -->\r\n      <g transform=\"translate(7.2 185.644152)scale(0.1 -0.1)\">\r\n       <use xlink:href=\"#DejaVuSans-98\"/>\r\n       <use x=\"63.476562\" xlink:href=\"#DejaVuSans-97\"/>\r\n       <use x=\"124.755859\" xlink:href=\"#DejaVuSans-114\"/>\r\n       <use x=\"165.869141\" xlink:href=\"#DejaVuSans-95\"/>\r\n       <use x=\"215.869141\" xlink:href=\"#DejaVuSans-113\"/>\r\n       <use x=\"279.345703\" xlink:href=\"#DejaVuSans-117\"/>\r\n       <use x=\"342.724609\" xlink:href=\"#DejaVuSans-97\"/>\r\n       <use x=\"404.003906\" xlink:href=\"#DejaVuSans-110\"/>\r\n       <use x=\"467.382812\" xlink:href=\"#DejaVuSans-116\"/>\r\n       <use x=\"506.591797\" xlink:href=\"#DejaVuSans-105\"/>\r\n       <use x=\"534.375\" xlink:href=\"#DejaVuSans-108\"/>\r\n       <use x=\"562.158203\" xlink:href=\"#DejaVuSans-101\"/>\r\n       <use x=\"623.681641\" xlink:href=\"#DejaVuSans-95\"/>\r\n       <use x=\"673.681641\" xlink:href=\"#DejaVuSans-50\"/>\r\n       <use x=\"737.304688\" xlink:href=\"#DejaVuSans-53\"/>\r\n       <use x=\"800.927734\" xlink:href=\"#DejaVuSans-95\"/>\r\n       <use x=\"850.927734\" xlink:href=\"#DejaVuSans-114\"/>\r\n      </g>\r\n     </g>\r\n    </g>\r\n    <g id=\"ytick_7\">\r\n     <g id=\"line2d_14\">\r\n      <g>\r\n       <use style=\"stroke:#000000;stroke-width:0.8;\" x=\"103.404687\" xlink:href=\"#m30894f9800\" y=\"212.90779\"/>\r\n      </g>\r\n     </g>\r\n     <g id=\"text_14\">\r\n      <!-- bar_quantile_75_r -->\r\n      <g transform=\"translate(7.2 216.707009)scale(0.1 -0.1)\">\r\n       <use xlink:href=\"#DejaVuSans-98\"/>\r\n       <use x=\"63.476562\" xlink:href=\"#DejaVuSans-97\"/>\r\n       <use x=\"124.755859\" xlink:href=\"#DejaVuSans-114\"/>\r\n       <use x=\"165.869141\" xlink:href=\"#DejaVuSans-95\"/>\r\n       <use x=\"215.869141\" xlink:href=\"#DejaVuSans-113\"/>\r\n       <use x=\"279.345703\" xlink:href=\"#DejaVuSans-117\"/>\r\n       <use x=\"342.724609\" xlink:href=\"#DejaVuSans-97\"/>\r\n       <use x=\"404.003906\" xlink:href=\"#DejaVuSans-110\"/>\r\n       <use x=\"467.382812\" xlink:href=\"#DejaVuSans-116\"/>\r\n       <use x=\"506.591797\" xlink:href=\"#DejaVuSans-105\"/>\r\n       <use x=\"534.375\" xlink:href=\"#DejaVuSans-108\"/>\r\n       <use x=\"562.158203\" xlink:href=\"#DejaVuSans-101\"/>\r\n       <use x=\"623.681641\" xlink:href=\"#DejaVuSans-95\"/>\r\n       <use x=\"673.681641\" xlink:href=\"#DejaVuSans-55\"/>\r\n       <use x=\"737.304688\" xlink:href=\"#DejaVuSans-53\"/>\r\n       <use x=\"800.927734\" xlink:href=\"#DejaVuSans-95\"/>\r\n       <use x=\"850.927734\" xlink:href=\"#DejaVuSans-114\"/>\r\n      </g>\r\n     </g>\r\n    </g>\r\n   </g>\r\n   <g id=\"text_15\">\r\n    <!-- 1 -->\r\n    <defs>\r\n     <path d=\"M 12.40625 8.296875 \r\nL 28.515625 8.296875 \r\nL 28.515625 63.921875 \r\nL 10.984375 60.40625 \r\nL 10.984375 69.390625 \r\nL 28.421875 72.90625 \r\nL 38.28125 72.90625 \r\nL 38.28125 8.296875 \r\nL 54.390625 8.296875 \r\nL 54.390625 0 \r\nL 12.40625 0 \r\nz\r\n\" id=\"DejaVuSans-49\"/>\r\n    </defs>\r\n    <g style=\"fill:#262626;\" transform=\"translate(119.354866 29.290022)scale(0.1 -0.1)\">\r\n     <use xlink:href=\"#DejaVuSans-49\"/>\r\n    </g>\r\n   </g>\r\n   <g id=\"text_16\">\r\n    <!-- -0.88 -->\r\n    <defs>\r\n     <path d=\"M 4.890625 31.390625 \r\nL 31.203125 31.390625 \r\nL 31.203125 23.390625 \r\nL 4.890625 23.390625 \r\nz\r\n\" id=\"DejaVuSans-45\"/>\r\n     <path d=\"M 31.78125 66.40625 \r\nQ 24.171875 66.40625 20.328125 58.90625 \r\nQ 16.5 51.421875 16.5 36.375 \r\nQ 16.5 21.390625 20.328125 13.890625 \r\nQ 24.171875 6.390625 31.78125 6.390625 \r\nQ 39.453125 6.390625 43.28125 13.890625 \r\nQ 47.125 21.390625 47.125 36.375 \r\nQ 47.125 51.421875 43.28125 58.90625 \r\nQ 39.453125 66.40625 31.78125 66.40625 \r\nz\r\nM 31.78125 74.21875 \r\nQ 44.046875 74.21875 50.515625 64.515625 \r\nQ 56.984375 54.828125 56.984375 36.375 \r\nQ 56.984375 17.96875 50.515625 8.265625 \r\nQ 44.046875 -1.421875 31.78125 -1.421875 \r\nQ 19.53125 -1.421875 13.0625 8.265625 \r\nQ 6.59375 17.96875 6.59375 36.375 \r\nQ 6.59375 54.828125 13.0625 64.515625 \r\nQ 19.53125 74.21875 31.78125 74.21875 \r\nz\r\n\" id=\"DejaVuSans-48\"/>\r\n     <path d=\"M 10.6875 12.40625 \r\nL 21 12.40625 \r\nL 21 0 \r\nL 10.6875 0 \r\nz\r\n\" id=\"DejaVuSans-46\"/>\r\n     <path d=\"M 31.78125 34.625 \r\nQ 24.75 34.625 20.71875 30.859375 \r\nQ 16.703125 27.09375 16.703125 20.515625 \r\nQ 16.703125 13.921875 20.71875 10.15625 \r\nQ 24.75 6.390625 31.78125 6.390625 \r\nQ 38.8125 6.390625 42.859375 10.171875 \r\nQ 46.921875 13.96875 46.921875 20.515625 \r\nQ 46.921875 27.09375 42.890625 30.859375 \r\nQ 38.875 34.625 31.78125 34.625 \r\nz\r\nM 21.921875 38.8125 \r\nQ 15.578125 40.375 12.03125 44.71875 \r\nQ 8.5 49.078125 8.5 55.328125 \r\nQ 8.5 64.0625 14.71875 69.140625 \r\nQ 20.953125 74.21875 31.78125 74.21875 \r\nQ 42.671875 74.21875 48.875 69.140625 \r\nQ 55.078125 64.0625 55.078125 55.328125 \r\nQ 55.078125 49.078125 51.53125 44.71875 \r\nQ 48 40.375 41.703125 38.8125 \r\nQ 48.828125 37.15625 52.796875 32.3125 \r\nQ 56.78125 27.484375 56.78125 20.515625 \r\nQ 56.78125 9.90625 50.3125 4.234375 \r\nQ 43.84375 -1.421875 31.78125 -1.421875 \r\nQ 19.734375 -1.421875 13.25 4.234375 \r\nQ 6.78125 9.90625 6.78125 20.515625 \r\nQ 6.78125 27.484375 10.78125 32.3125 \r\nQ 14.796875 37.15625 21.921875 38.8125 \r\nz\r\nM 18.3125 54.390625 \r\nQ 18.3125 48.734375 21.84375 45.5625 \r\nQ 25.390625 42.390625 31.78125 42.390625 \r\nQ 38.140625 42.390625 41.71875 45.5625 \r\nQ 45.3125 48.734375 45.3125 54.390625 \r\nQ 45.3125 60.0625 41.71875 63.234375 \r\nQ 38.140625 66.40625 31.78125 66.40625 \r\nQ 25.390625 66.40625 21.84375 63.234375 \r\nQ 18.3125 60.0625 18.3125 54.390625 \r\nz\r\n\" id=\"DejaVuSans-56\"/>\r\n    </defs>\r\n    <g style=\"fill:#ffffff;\" transform=\"translate(147.862254 29.290022)scale(0.1 -0.1)\">\r\n     <use xlink:href=\"#DejaVuSans-45\"/>\r\n     <use x=\"36.083984\" xlink:href=\"#DejaVuSans-48\"/>\r\n     <use x=\"99.707031\" xlink:href=\"#DejaVuSans-46\"/>\r\n     <use x=\"131.494141\" xlink:href=\"#DejaVuSans-56\"/>\r\n     <use x=\"195.117188\" xlink:href=\"#DejaVuSans-56\"/>\r\n    </g>\r\n   </g>\r\n   <g id=\"text_17\">\r\n    <!-- 0.073 -->\r\n    <defs>\r\n     <path d=\"M 40.578125 39.3125 \r\nQ 47.65625 37.796875 51.625 33 \r\nQ 55.609375 28.21875 55.609375 21.1875 \r\nQ 55.609375 10.40625 48.1875 4.484375 \r\nQ 40.765625 -1.421875 27.09375 -1.421875 \r\nQ 22.515625 -1.421875 17.65625 -0.515625 \r\nQ 12.796875 0.390625 7.625 2.203125 \r\nL 7.625 11.71875 \r\nQ 11.71875 9.328125 16.59375 8.109375 \r\nQ 21.484375 6.890625 26.8125 6.890625 \r\nQ 36.078125 6.890625 40.9375 10.546875 \r\nQ 45.796875 14.203125 45.796875 21.1875 \r\nQ 45.796875 27.640625 41.28125 31.265625 \r\nQ 36.765625 34.90625 28.71875 34.90625 \r\nL 20.21875 34.90625 \r\nL 20.21875 43.015625 \r\nL 29.109375 43.015625 \r\nQ 36.375 43.015625 40.234375 45.921875 \r\nQ 44.09375 48.828125 44.09375 54.296875 \r\nQ 44.09375 59.90625 40.109375 62.90625 \r\nQ 36.140625 65.921875 28.71875 65.921875 \r\nQ 24.65625 65.921875 20.015625 65.03125 \r\nQ 15.375 64.15625 9.8125 62.3125 \r\nL 9.8125 71.09375 \r\nQ 15.4375 72.65625 20.34375 73.4375 \r\nQ 25.25 74.21875 29.59375 74.21875 \r\nQ 40.828125 74.21875 47.359375 69.109375 \r\nQ 53.90625 64.015625 53.90625 55.328125 \r\nQ 53.90625 49.265625 50.4375 45.09375 \r\nQ 46.96875 40.921875 40.578125 39.3125 \r\nz\r\n\" id=\"DejaVuSans-51\"/>\r\n    </defs>\r\n    <g style=\"fill:#ffffff;\" transform=\"translate(184.747768 29.290022)scale(0.1 -0.1)\">\r\n     <use xlink:href=\"#DejaVuSans-48\"/>\r\n     <use x=\"63.623047\" xlink:href=\"#DejaVuSans-46\"/>\r\n     <use x=\"95.410156\" xlink:href=\"#DejaVuSans-48\"/>\r\n     <use x=\"159.033203\" xlink:href=\"#DejaVuSans-55\"/>\r\n     <use x=\"222.65625\" xlink:href=\"#DejaVuSans-51\"/>\r\n    </g>\r\n   </g>\r\n   <g id=\"text_18\">\r\n    <!-- -0.11 -->\r\n    <g style=\"fill:#ffffff;\" transform=\"translate(224.387969 29.290022)scale(0.1 -0.1)\">\r\n     <use xlink:href=\"#DejaVuSans-45\"/>\r\n     <use x=\"36.083984\" xlink:href=\"#DejaVuSans-48\"/>\r\n     <use x=\"99.707031\" xlink:href=\"#DejaVuSans-46\"/>\r\n     <use x=\"131.494141\" xlink:href=\"#DejaVuSans-49\"/>\r\n     <use x=\"195.117188\" xlink:href=\"#DejaVuSans-49\"/>\r\n    </g>\r\n   </g>\r\n   <g id=\"text_19\">\r\n    <!-- 0.84 -->\r\n    <defs>\r\n     <path d=\"M 37.796875 64.3125 \r\nL 12.890625 25.390625 \r\nL 37.796875 25.390625 \r\nz\r\nM 35.203125 72.90625 \r\nL 47.609375 72.90625 \r\nL 47.609375 25.390625 \r\nL 58.015625 25.390625 \r\nL 58.015625 17.1875 \r\nL 47.609375 17.1875 \r\nL 47.609375 0 \r\nL 37.796875 0 \r\nL 37.796875 17.1875 \r\nL 4.890625 17.1875 \r\nL 4.890625 26.703125 \r\nz\r\n\" id=\"DejaVuSans-52\"/>\r\n    </defs>\r\n    <g style=\"fill:#262626;\" transform=\"translate(264.454732 29.290022)scale(0.1 -0.1)\">\r\n     <use xlink:href=\"#DejaVuSans-48\"/>\r\n     <use x=\"63.623047\" xlink:href=\"#DejaVuSans-46\"/>\r\n     <use x=\"95.410156\" xlink:href=\"#DejaVuSans-56\"/>\r\n     <use x=\"159.033203\" xlink:href=\"#DejaVuSans-52\"/>\r\n    </g>\r\n   </g>\r\n   <g id=\"text_20\">\r\n    <!-- -0.11 -->\r\n    <g style=\"fill:#ffffff;\" transform=\"translate(300.913683 29.290022)scale(0.1 -0.1)\">\r\n     <use xlink:href=\"#DejaVuSans-45\"/>\r\n     <use x=\"36.083984\" xlink:href=\"#DejaVuSans-48\"/>\r\n     <use x=\"99.707031\" xlink:href=\"#DejaVuSans-46\"/>\r\n     <use x=\"131.494141\" xlink:href=\"#DejaVuSans-49\"/>\r\n     <use x=\"195.117188\" xlink:href=\"#DejaVuSans-49\"/>\r\n    </g>\r\n   </g>\r\n   <g id=\"text_21\">\r\n    <!-- 0.14 -->\r\n    <g style=\"fill:#ffffff;\" transform=\"translate(340.980446 29.290022)scale(0.1 -0.1)\">\r\n     <use xlink:href=\"#DejaVuSans-48\"/>\r\n     <use x=\"63.623047\" xlink:href=\"#DejaVuSans-46\"/>\r\n     <use x=\"95.410156\" xlink:href=\"#DejaVuSans-49\"/>\r\n     <use x=\"159.033203\" xlink:href=\"#DejaVuSans-52\"/>\r\n    </g>\r\n   </g>\r\n   <g id=\"text_22\">\r\n    <!-- -0.88 -->\r\n    <g style=\"fill:#ffffff;\" transform=\"translate(109.599397 60.352879)scale(0.1 -0.1)\">\r\n     <use xlink:href=\"#DejaVuSans-45\"/>\r\n     <use x=\"36.083984\" xlink:href=\"#DejaVuSans-48\"/>\r\n     <use x=\"99.707031\" xlink:href=\"#DejaVuSans-46\"/>\r\n     <use x=\"131.494141\" xlink:href=\"#DejaVuSans-56\"/>\r\n     <use x=\"195.117188\" xlink:href=\"#DejaVuSans-56\"/>\r\n    </g>\r\n   </g>\r\n   <g id=\"text_23\">\r\n    <!-- 1 -->\r\n    <g style=\"fill:#262626;\" transform=\"translate(157.617723 60.352879)scale(0.1 -0.1)\">\r\n     <use xlink:href=\"#DejaVuSans-49\"/>\r\n    </g>\r\n   </g>\r\n   <g id=\"text_24\">\r\n    <!-- 0.031 -->\r\n    <g style=\"fill:#ffffff;\" transform=\"translate(184.747768 60.352879)scale(0.1 -0.1)\">\r\n     <use xlink:href=\"#DejaVuSans-48\"/>\r\n     <use x=\"63.623047\" xlink:href=\"#DejaVuSans-46\"/>\r\n     <use x=\"95.410156\" xlink:href=\"#DejaVuSans-48\"/>\r\n     <use x=\"159.033203\" xlink:href=\"#DejaVuSans-51\"/>\r\n     <use x=\"222.65625\" xlink:href=\"#DejaVuSans-49\"/>\r\n    </g>\r\n   </g>\r\n   <g id=\"text_25\">\r\n    <!-- 0.13 -->\r\n    <g style=\"fill:#ffffff;\" transform=\"translate(226.191875 60.352879)scale(0.1 -0.1)\">\r\n     <use xlink:href=\"#DejaVuSans-48\"/>\r\n     <use x=\"63.623047\" xlink:href=\"#DejaVuSans-46\"/>\r\n     <use x=\"95.410156\" xlink:href=\"#DejaVuSans-49\"/>\r\n     <use x=\"159.033203\" xlink:href=\"#DejaVuSans-51\"/>\r\n    </g>\r\n   </g>\r\n   <g id=\"text_26\">\r\n    <!-- -0.48 -->\r\n    <g style=\"fill:#ffffff;\" transform=\"translate(262.650826 60.352879)scale(0.1 -0.1)\">\r\n     <use xlink:href=\"#DejaVuSans-45\"/>\r\n     <use x=\"36.083984\" xlink:href=\"#DejaVuSans-48\"/>\r\n     <use x=\"99.707031\" xlink:href=\"#DejaVuSans-46\"/>\r\n     <use x=\"131.494141\" xlink:href=\"#DejaVuSans-52\"/>\r\n     <use x=\"195.117188\" xlink:href=\"#DejaVuSans-56\"/>\r\n    </g>\r\n   </g>\r\n   <g id=\"text_27\">\r\n    <!-- 0.027 -->\r\n    <g style=\"fill:#ffffff;\" transform=\"translate(299.536339 60.352879)scale(0.1 -0.1)\">\r\n     <use xlink:href=\"#DejaVuSans-48\"/>\r\n     <use x=\"63.623047\" xlink:href=\"#DejaVuSans-46\"/>\r\n     <use x=\"95.410156\" xlink:href=\"#DejaVuSans-48\"/>\r\n     <use x=\"159.033203\" xlink:href=\"#DejaVuSans-50\"/>\r\n     <use x=\"222.65625\" xlink:href=\"#DejaVuSans-55\"/>\r\n    </g>\r\n   </g>\r\n   <g id=\"text_28\">\r\n    <!-- -0.081 -->\r\n    <g style=\"fill:#ffffff;\" transform=\"translate(335.99529 60.352879)scale(0.1 -0.1)\">\r\n     <use xlink:href=\"#DejaVuSans-45\"/>\r\n     <use x=\"36.083984\" xlink:href=\"#DejaVuSans-48\"/>\r\n     <use x=\"99.707031\" xlink:href=\"#DejaVuSans-46\"/>\r\n     <use x=\"131.494141\" xlink:href=\"#DejaVuSans-48\"/>\r\n     <use x=\"195.117188\" xlink:href=\"#DejaVuSans-56\"/>\r\n     <use x=\"258.740234\" xlink:href=\"#DejaVuSans-49\"/>\r\n    </g>\r\n   </g>\r\n   <g id=\"text_29\">\r\n    <!-- 0.073 -->\r\n    <g style=\"fill:#ffffff;\" transform=\"translate(108.222054 91.415737)scale(0.1 -0.1)\">\r\n     <use xlink:href=\"#DejaVuSans-48\"/>\r\n     <use x=\"63.623047\" xlink:href=\"#DejaVuSans-46\"/>\r\n     <use x=\"95.410156\" xlink:href=\"#DejaVuSans-48\"/>\r\n     <use x=\"159.033203\" xlink:href=\"#DejaVuSans-55\"/>\r\n     <use x=\"222.65625\" xlink:href=\"#DejaVuSans-51\"/>\r\n    </g>\r\n   </g>\r\n   <g id=\"text_30\">\r\n    <!-- 0.031 -->\r\n    <g style=\"fill:#ffffff;\" transform=\"translate(146.484911 91.415737)scale(0.1 -0.1)\">\r\n     <use xlink:href=\"#DejaVuSans-48\"/>\r\n     <use x=\"63.623047\" xlink:href=\"#DejaVuSans-46\"/>\r\n     <use x=\"95.410156\" xlink:href=\"#DejaVuSans-48\"/>\r\n     <use x=\"159.033203\" xlink:href=\"#DejaVuSans-51\"/>\r\n     <use x=\"222.65625\" xlink:href=\"#DejaVuSans-49\"/>\r\n    </g>\r\n   </g>\r\n   <g id=\"text_31\">\r\n    <!-- 1 -->\r\n    <g style=\"fill:#262626;\" transform=\"translate(195.88058 91.415737)scale(0.1 -0.1)\">\r\n     <use xlink:href=\"#DejaVuSans-49\"/>\r\n    </g>\r\n   </g>\r\n   <g id=\"text_32\">\r\n    <!-- -0.85 -->\r\n    <g style=\"fill:#ffffff;\" transform=\"translate(224.387969 91.415737)scale(0.1 -0.1)\">\r\n     <use xlink:href=\"#DejaVuSans-45\"/>\r\n     <use x=\"36.083984\" xlink:href=\"#DejaVuSans-48\"/>\r\n     <use x=\"99.707031\" xlink:href=\"#DejaVuSans-46\"/>\r\n     <use x=\"131.494141\" xlink:href=\"#DejaVuSans-56\"/>\r\n     <use x=\"195.117188\" xlink:href=\"#DejaVuSans-53\"/>\r\n    </g>\r\n   </g>\r\n   <g id=\"text_33\">\r\n    <!-- 0.17 -->\r\n    <g style=\"fill:#ffffff;\" transform=\"translate(264.454732 91.415737)scale(0.1 -0.1)\">\r\n     <use xlink:href=\"#DejaVuSans-48\"/>\r\n     <use x=\"63.623047\" xlink:href=\"#DejaVuSans-46\"/>\r\n     <use x=\"95.410156\" xlink:href=\"#DejaVuSans-49\"/>\r\n     <use x=\"159.033203\" xlink:href=\"#DejaVuSans-55\"/>\r\n    </g>\r\n   </g>\r\n   <g id=\"text_34\">\r\n    <!-- -0.86 -->\r\n    <defs>\r\n     <path d=\"M 33.015625 40.375 \r\nQ 26.375 40.375 22.484375 35.828125 \r\nQ 18.609375 31.296875 18.609375 23.390625 \r\nQ 18.609375 15.53125 22.484375 10.953125 \r\nQ 26.375 6.390625 33.015625 6.390625 \r\nQ 39.65625 6.390625 43.53125 10.953125 \r\nQ 47.40625 15.53125 47.40625 23.390625 \r\nQ 47.40625 31.296875 43.53125 35.828125 \r\nQ 39.65625 40.375 33.015625 40.375 \r\nz\r\nM 52.59375 71.296875 \r\nL 52.59375 62.3125 \r\nQ 48.875 64.0625 45.09375 64.984375 \r\nQ 41.3125 65.921875 37.59375 65.921875 \r\nQ 27.828125 65.921875 22.671875 59.328125 \r\nQ 17.53125 52.734375 16.796875 39.40625 \r\nQ 19.671875 43.65625 24.015625 45.921875 \r\nQ 28.375 48.1875 33.59375 48.1875 \r\nQ 44.578125 48.1875 50.953125 41.515625 \r\nQ 57.328125 34.859375 57.328125 23.390625 \r\nQ 57.328125 12.15625 50.6875 5.359375 \r\nQ 44.046875 -1.421875 33.015625 -1.421875 \r\nQ 20.359375 -1.421875 13.671875 8.265625 \r\nQ 6.984375 17.96875 6.984375 36.375 \r\nQ 6.984375 53.65625 15.1875 63.9375 \r\nQ 23.390625 74.21875 37.203125 74.21875 \r\nQ 40.921875 74.21875 44.703125 73.484375 \r\nQ 48.484375 72.75 52.59375 71.296875 \r\nz\r\n\" id=\"DejaVuSans-54\"/>\r\n    </defs>\r\n    <g style=\"fill:#ffffff;\" transform=\"translate(300.913683 91.415737)scale(0.1 -0.1)\">\r\n     <use xlink:href=\"#DejaVuSans-45\"/>\r\n     <use x=\"36.083984\" xlink:href=\"#DejaVuSans-48\"/>\r\n     <use x=\"99.707031\" xlink:href=\"#DejaVuSans-46\"/>\r\n     <use x=\"131.494141\" xlink:href=\"#DejaVuSans-56\"/>\r\n     <use x=\"195.117188\" xlink:href=\"#DejaVuSans-54\"/>\r\n    </g>\r\n   </g>\r\n   <g id=\"text_35\">\r\n    <!-- 0.81 -->\r\n    <g style=\"fill:#262626;\" transform=\"translate(340.980446 91.415737)scale(0.1 -0.1)\">\r\n     <use xlink:href=\"#DejaVuSans-48\"/>\r\n     <use x=\"63.623047\" xlink:href=\"#DejaVuSans-46\"/>\r\n     <use x=\"95.410156\" xlink:href=\"#DejaVuSans-56\"/>\r\n     <use x=\"159.033203\" xlink:href=\"#DejaVuSans-49\"/>\r\n    </g>\r\n   </g>\r\n   <g id=\"text_36\">\r\n    <!-- -0.11 -->\r\n    <g style=\"fill:#ffffff;\" transform=\"translate(109.599397 122.478594)scale(0.1 -0.1)\">\r\n     <use xlink:href=\"#DejaVuSans-45\"/>\r\n     <use x=\"36.083984\" xlink:href=\"#DejaVuSans-48\"/>\r\n     <use x=\"99.707031\" xlink:href=\"#DejaVuSans-46\"/>\r\n     <use x=\"131.494141\" xlink:href=\"#DejaVuSans-49\"/>\r\n     <use x=\"195.117188\" xlink:href=\"#DejaVuSans-49\"/>\r\n    </g>\r\n   </g>\r\n   <g id=\"text_37\">\r\n    <!-- 0.13 -->\r\n    <g style=\"fill:#ffffff;\" transform=\"translate(149.666161 122.478594)scale(0.1 -0.1)\">\r\n     <use xlink:href=\"#DejaVuSans-48\"/>\r\n     <use x=\"63.623047\" xlink:href=\"#DejaVuSans-46\"/>\r\n     <use x=\"95.410156\" xlink:href=\"#DejaVuSans-49\"/>\r\n     <use x=\"159.033203\" xlink:href=\"#DejaVuSans-51\"/>\r\n    </g>\r\n   </g>\r\n   <g id=\"text_38\">\r\n    <!-- -0.85 -->\r\n    <g style=\"fill:#ffffff;\" transform=\"translate(186.125112 122.478594)scale(0.1 -0.1)\">\r\n     <use xlink:href=\"#DejaVuSans-45\"/>\r\n     <use x=\"36.083984\" xlink:href=\"#DejaVuSans-48\"/>\r\n     <use x=\"99.707031\" xlink:href=\"#DejaVuSans-46\"/>\r\n     <use x=\"131.494141\" xlink:href=\"#DejaVuSans-56\"/>\r\n     <use x=\"195.117188\" xlink:href=\"#DejaVuSans-53\"/>\r\n    </g>\r\n   </g>\r\n   <g id=\"text_39\">\r\n    <!-- 1 -->\r\n    <g style=\"fill:#262626;\" transform=\"translate(234.143438 122.478594)scale(0.1 -0.1)\">\r\n     <use xlink:href=\"#DejaVuSans-49\"/>\r\n    </g>\r\n   </g>\r\n   <g id=\"text_40\">\r\n    <!-- -0.058 -->\r\n    <g style=\"fill:#ffffff;\" transform=\"translate(259.469576 122.478594)scale(0.1 -0.1)\">\r\n     <use xlink:href=\"#DejaVuSans-45\"/>\r\n     <use x=\"36.083984\" xlink:href=\"#DejaVuSans-48\"/>\r\n     <use x=\"99.707031\" xlink:href=\"#DejaVuSans-46\"/>\r\n     <use x=\"131.494141\" xlink:href=\"#DejaVuSans-48\"/>\r\n     <use x=\"195.117188\" xlink:href=\"#DejaVuSans-53\"/>\r\n     <use x=\"258.740234\" xlink:href=\"#DejaVuSans-56\"/>\r\n    </g>\r\n   </g>\r\n   <g id=\"text_41\">\r\n    <!-- 0.82 -->\r\n    <g style=\"fill:#262626;\" transform=\"translate(302.717589 122.478594)scale(0.1 -0.1)\">\r\n     <use xlink:href=\"#DejaVuSans-48\"/>\r\n     <use x=\"63.623047\" xlink:href=\"#DejaVuSans-46\"/>\r\n     <use x=\"95.410156\" xlink:href=\"#DejaVuSans-56\"/>\r\n     <use x=\"159.033203\" xlink:href=\"#DejaVuSans-50\"/>\r\n    </g>\r\n   </g>\r\n   <g id=\"text_42\">\r\n    <!-- -0.85 -->\r\n    <g style=\"fill:#ffffff;\" transform=\"translate(339.17654 122.478594)scale(0.1 -0.1)\">\r\n     <use xlink:href=\"#DejaVuSans-45\"/>\r\n     <use x=\"36.083984\" xlink:href=\"#DejaVuSans-48\"/>\r\n     <use x=\"99.707031\" xlink:href=\"#DejaVuSans-46\"/>\r\n     <use x=\"131.494141\" xlink:href=\"#DejaVuSans-56\"/>\r\n     <use x=\"195.117188\" xlink:href=\"#DejaVuSans-53\"/>\r\n    </g>\r\n   </g>\r\n   <g id=\"text_43\">\r\n    <!-- 0.84 -->\r\n    <g style=\"fill:#262626;\" transform=\"translate(111.403304 153.541451)scale(0.1 -0.1)\">\r\n     <use xlink:href=\"#DejaVuSans-48\"/>\r\n     <use x=\"63.623047\" xlink:href=\"#DejaVuSans-46\"/>\r\n     <use x=\"95.410156\" xlink:href=\"#DejaVuSans-56\"/>\r\n     <use x=\"159.033203\" xlink:href=\"#DejaVuSans-52\"/>\r\n    </g>\r\n   </g>\r\n   <g id=\"text_44\">\r\n    <!-- -0.48 -->\r\n    <g style=\"fill:#ffffff;\" transform=\"translate(147.862254 153.541451)scale(0.1 -0.1)\">\r\n     <use xlink:href=\"#DejaVuSans-45\"/>\r\n     <use x=\"36.083984\" xlink:href=\"#DejaVuSans-48\"/>\r\n     <use x=\"99.707031\" xlink:href=\"#DejaVuSans-46\"/>\r\n     <use x=\"131.494141\" xlink:href=\"#DejaVuSans-52\"/>\r\n     <use x=\"195.117188\" xlink:href=\"#DejaVuSans-56\"/>\r\n    </g>\r\n   </g>\r\n   <g id=\"text_45\">\r\n    <!-- 0.17 -->\r\n    <g style=\"fill:#ffffff;\" transform=\"translate(187.929018 153.541451)scale(0.1 -0.1)\">\r\n     <use xlink:href=\"#DejaVuSans-48\"/>\r\n     <use x=\"63.623047\" xlink:href=\"#DejaVuSans-46\"/>\r\n     <use x=\"95.410156\" xlink:href=\"#DejaVuSans-49\"/>\r\n     <use x=\"159.033203\" xlink:href=\"#DejaVuSans-55\"/>\r\n    </g>\r\n   </g>\r\n   <g id=\"text_46\">\r\n    <!-- -0.058 -->\r\n    <g style=\"fill:#ffffff;\" transform=\"translate(221.206719 153.541451)scale(0.1 -0.1)\">\r\n     <use xlink:href=\"#DejaVuSans-45\"/>\r\n     <use x=\"36.083984\" xlink:href=\"#DejaVuSans-48\"/>\r\n     <use x=\"99.707031\" xlink:href=\"#DejaVuSans-46\"/>\r\n     <use x=\"131.494141\" xlink:href=\"#DejaVuSans-48\"/>\r\n     <use x=\"195.117188\" xlink:href=\"#DejaVuSans-53\"/>\r\n     <use x=\"258.740234\" xlink:href=\"#DejaVuSans-56\"/>\r\n    </g>\r\n   </g>\r\n   <g id=\"text_47\">\r\n    <!-- 1 -->\r\n    <g style=\"fill:#262626;\" transform=\"translate(272.406295 153.541451)scale(0.1 -0.1)\">\r\n     <use xlink:href=\"#DejaVuSans-49\"/>\r\n    </g>\r\n   </g>\r\n   <g id=\"text_48\">\r\n    <!-- -0.17 -->\r\n    <g style=\"fill:#ffffff;\" transform=\"translate(300.913683 153.541451)scale(0.1 -0.1)\">\r\n     <use xlink:href=\"#DejaVuSans-45\"/>\r\n     <use x=\"36.083984\" xlink:href=\"#DejaVuSans-48\"/>\r\n     <use x=\"99.707031\" xlink:href=\"#DejaVuSans-46\"/>\r\n     <use x=\"131.494141\" xlink:href=\"#DejaVuSans-49\"/>\r\n     <use x=\"195.117188\" xlink:href=\"#DejaVuSans-55\"/>\r\n    </g>\r\n   </g>\r\n   <g id=\"text_49\">\r\n    <!-- 0.17 -->\r\n    <g style=\"fill:#ffffff;\" transform=\"translate(340.980446 153.541451)scale(0.1 -0.1)\">\r\n     <use xlink:href=\"#DejaVuSans-48\"/>\r\n     <use x=\"63.623047\" xlink:href=\"#DejaVuSans-46\"/>\r\n     <use x=\"95.410156\" xlink:href=\"#DejaVuSans-49\"/>\r\n     <use x=\"159.033203\" xlink:href=\"#DejaVuSans-55\"/>\r\n    </g>\r\n   </g>\r\n   <g id=\"text_50\">\r\n    <!-- -0.11 -->\r\n    <g style=\"fill:#ffffff;\" transform=\"translate(109.599397 184.604308)scale(0.1 -0.1)\">\r\n     <use xlink:href=\"#DejaVuSans-45\"/>\r\n     <use x=\"36.083984\" xlink:href=\"#DejaVuSans-48\"/>\r\n     <use x=\"99.707031\" xlink:href=\"#DejaVuSans-46\"/>\r\n     <use x=\"131.494141\" xlink:href=\"#DejaVuSans-49\"/>\r\n     <use x=\"195.117188\" xlink:href=\"#DejaVuSans-49\"/>\r\n    </g>\r\n   </g>\r\n   <g id=\"text_51\">\r\n    <!-- 0.027 -->\r\n    <g style=\"fill:#ffffff;\" transform=\"translate(146.484911 184.604308)scale(0.1 -0.1)\">\r\n     <use xlink:href=\"#DejaVuSans-48\"/>\r\n     <use x=\"63.623047\" xlink:href=\"#DejaVuSans-46\"/>\r\n     <use x=\"95.410156\" xlink:href=\"#DejaVuSans-48\"/>\r\n     <use x=\"159.033203\" xlink:href=\"#DejaVuSans-50\"/>\r\n     <use x=\"222.65625\" xlink:href=\"#DejaVuSans-55\"/>\r\n    </g>\r\n   </g>\r\n   <g id=\"text_52\">\r\n    <!-- -0.86 -->\r\n    <g style=\"fill:#ffffff;\" transform=\"translate(186.125112 184.604308)scale(0.1 -0.1)\">\r\n     <use xlink:href=\"#DejaVuSans-45\"/>\r\n     <use x=\"36.083984\" xlink:href=\"#DejaVuSans-48\"/>\r\n     <use x=\"99.707031\" xlink:href=\"#DejaVuSans-46\"/>\r\n     <use x=\"131.494141\" xlink:href=\"#DejaVuSans-56\"/>\r\n     <use x=\"195.117188\" xlink:href=\"#DejaVuSans-54\"/>\r\n    </g>\r\n   </g>\r\n   <g id=\"text_53\">\r\n    <!-- 0.82 -->\r\n    <g style=\"fill:#262626;\" transform=\"translate(226.191875 184.604308)scale(0.1 -0.1)\">\r\n     <use xlink:href=\"#DejaVuSans-48\"/>\r\n     <use x=\"63.623047\" xlink:href=\"#DejaVuSans-46\"/>\r\n     <use x=\"95.410156\" xlink:href=\"#DejaVuSans-56\"/>\r\n     <use x=\"159.033203\" xlink:href=\"#DejaVuSans-50\"/>\r\n    </g>\r\n   </g>\r\n   <g id=\"text_54\">\r\n    <!-- -0.17 -->\r\n    <g style=\"fill:#ffffff;\" transform=\"translate(262.650826 184.604308)scale(0.1 -0.1)\">\r\n     <use xlink:href=\"#DejaVuSans-45\"/>\r\n     <use x=\"36.083984\" xlink:href=\"#DejaVuSans-48\"/>\r\n     <use x=\"99.707031\" xlink:href=\"#DejaVuSans-46\"/>\r\n     <use x=\"131.494141\" xlink:href=\"#DejaVuSans-49\"/>\r\n     <use x=\"195.117188\" xlink:href=\"#DejaVuSans-55\"/>\r\n    </g>\r\n   </g>\r\n   <g id=\"text_55\">\r\n    <!-- 1 -->\r\n    <g style=\"fill:#262626;\" transform=\"translate(310.669152 184.604308)scale(0.1 -0.1)\">\r\n     <use xlink:href=\"#DejaVuSans-49\"/>\r\n    </g>\r\n   </g>\r\n   <g id=\"text_56\">\r\n    <!-- -0.93 -->\r\n    <defs>\r\n     <path d=\"M 10.984375 1.515625 \r\nL 10.984375 10.5 \r\nQ 14.703125 8.734375 18.5 7.8125 \r\nQ 22.3125 6.890625 25.984375 6.890625 \r\nQ 35.75 6.890625 40.890625 13.453125 \r\nQ 46.046875 20.015625 46.78125 33.40625 \r\nQ 43.953125 29.203125 39.59375 26.953125 \r\nQ 35.25 24.703125 29.984375 24.703125 \r\nQ 19.046875 24.703125 12.671875 31.3125 \r\nQ 6.296875 37.9375 6.296875 49.421875 \r\nQ 6.296875 60.640625 12.9375 67.421875 \r\nQ 19.578125 74.21875 30.609375 74.21875 \r\nQ 43.265625 74.21875 49.921875 64.515625 \r\nQ 56.59375 54.828125 56.59375 36.375 \r\nQ 56.59375 19.140625 48.40625 8.859375 \r\nQ 40.234375 -1.421875 26.421875 -1.421875 \r\nQ 22.703125 -1.421875 18.890625 -0.6875 \r\nQ 15.09375 0.046875 10.984375 1.515625 \r\nz\r\nM 30.609375 32.421875 \r\nQ 37.25 32.421875 41.125 36.953125 \r\nQ 45.015625 41.5 45.015625 49.421875 \r\nQ 45.015625 57.28125 41.125 61.84375 \r\nQ 37.25 66.40625 30.609375 66.40625 \r\nQ 23.96875 66.40625 20.09375 61.84375 \r\nQ 16.21875 57.28125 16.21875 49.421875 \r\nQ 16.21875 41.5 20.09375 36.953125 \r\nQ 23.96875 32.421875 30.609375 32.421875 \r\nz\r\n\" id=\"DejaVuSans-57\"/>\r\n    </defs>\r\n    <g style=\"fill:#ffffff;\" transform=\"translate(339.17654 184.604308)scale(0.1 -0.1)\">\r\n     <use xlink:href=\"#DejaVuSans-45\"/>\r\n     <use x=\"36.083984\" xlink:href=\"#DejaVuSans-48\"/>\r\n     <use x=\"99.707031\" xlink:href=\"#DejaVuSans-46\"/>\r\n     <use x=\"131.494141\" xlink:href=\"#DejaVuSans-57\"/>\r\n     <use x=\"195.117188\" xlink:href=\"#DejaVuSans-51\"/>\r\n    </g>\r\n   </g>\r\n   <g id=\"text_57\">\r\n    <!-- 0.14 -->\r\n    <g style=\"fill:#ffffff;\" transform=\"translate(111.403304 215.667165)scale(0.1 -0.1)\">\r\n     <use xlink:href=\"#DejaVuSans-48\"/>\r\n     <use x=\"63.623047\" xlink:href=\"#DejaVuSans-46\"/>\r\n     <use x=\"95.410156\" xlink:href=\"#DejaVuSans-49\"/>\r\n     <use x=\"159.033203\" xlink:href=\"#DejaVuSans-52\"/>\r\n    </g>\r\n   </g>\r\n   <g id=\"text_58\">\r\n    <!-- -0.081 -->\r\n    <g style=\"fill:#ffffff;\" transform=\"translate(144.681004 215.667165)scale(0.1 -0.1)\">\r\n     <use xlink:href=\"#DejaVuSans-45\"/>\r\n     <use x=\"36.083984\" xlink:href=\"#DejaVuSans-48\"/>\r\n     <use x=\"99.707031\" xlink:href=\"#DejaVuSans-46\"/>\r\n     <use x=\"131.494141\" xlink:href=\"#DejaVuSans-48\"/>\r\n     <use x=\"195.117188\" xlink:href=\"#DejaVuSans-56\"/>\r\n     <use x=\"258.740234\" xlink:href=\"#DejaVuSans-49\"/>\r\n    </g>\r\n   </g>\r\n   <g id=\"text_59\">\r\n    <!-- 0.81 -->\r\n    <g style=\"fill:#262626;\" transform=\"translate(187.929018 215.667165)scale(0.1 -0.1)\">\r\n     <use xlink:href=\"#DejaVuSans-48\"/>\r\n     <use x=\"63.623047\" xlink:href=\"#DejaVuSans-46\"/>\r\n     <use x=\"95.410156\" xlink:href=\"#DejaVuSans-56\"/>\r\n     <use x=\"159.033203\" xlink:href=\"#DejaVuSans-49\"/>\r\n    </g>\r\n   </g>\r\n   <g id=\"text_60\">\r\n    <!-- -0.85 -->\r\n    <g style=\"fill:#ffffff;\" transform=\"translate(224.387969 215.667165)scale(0.1 -0.1)\">\r\n     <use xlink:href=\"#DejaVuSans-45\"/>\r\n     <use x=\"36.083984\" xlink:href=\"#DejaVuSans-48\"/>\r\n     <use x=\"99.707031\" xlink:href=\"#DejaVuSans-46\"/>\r\n     <use x=\"131.494141\" xlink:href=\"#DejaVuSans-56\"/>\r\n     <use x=\"195.117188\" xlink:href=\"#DejaVuSans-53\"/>\r\n    </g>\r\n   </g>\r\n   <g id=\"text_61\">\r\n    <!-- 0.17 -->\r\n    <g style=\"fill:#ffffff;\" transform=\"translate(264.454732 215.667165)scale(0.1 -0.1)\">\r\n     <use xlink:href=\"#DejaVuSans-48\"/>\r\n     <use x=\"63.623047\" xlink:href=\"#DejaVuSans-46\"/>\r\n     <use x=\"95.410156\" xlink:href=\"#DejaVuSans-49\"/>\r\n     <use x=\"159.033203\" xlink:href=\"#DejaVuSans-55\"/>\r\n    </g>\r\n   </g>\r\n   <g id=\"text_62\">\r\n    <!-- -0.93 -->\r\n    <g style=\"fill:#ffffff;\" transform=\"translate(300.913683 215.667165)scale(0.1 -0.1)\">\r\n     <use xlink:href=\"#DejaVuSans-45\"/>\r\n     <use x=\"36.083984\" xlink:href=\"#DejaVuSans-48\"/>\r\n     <use x=\"99.707031\" xlink:href=\"#DejaVuSans-46\"/>\r\n     <use x=\"131.494141\" xlink:href=\"#DejaVuSans-57\"/>\r\n     <use x=\"195.117188\" xlink:href=\"#DejaVuSans-51\"/>\r\n    </g>\r\n   </g>\r\n   <g id=\"text_63\">\r\n    <!-- 1 -->\r\n    <g style=\"fill:#262626;\" transform=\"translate(348.932009 215.667165)scale(0.1 -0.1)\">\r\n     <use xlink:href=\"#DejaVuSans-49\"/>\r\n    </g>\r\n   </g>\r\n  </g>\r\n  <g id=\"axes_2\">\r\n   <g id=\"patch_3\">\r\n    <path clip-path=\"url(#p6d2b6bc0cc)\" d=\"M 387.984688 228.439219 \r\nL 387.984688 227.589844 \r\nL 387.984688 11.848594 \r\nL 387.984688 10.999219 \r\nL 398.856688 10.999219 \r\nL 398.856688 11.848594 \r\nL 398.856688 227.589844 \r\nL 398.856688 228.439219 \r\nz\r\n\" style=\"fill:#ffffff;stroke:#ffffff;stroke-linejoin:miter;stroke-width:0.01;\"/>\r\n   </g>\r\n   <image height=\"218\" id=\"image13af64138a\" transform=\"scale(1 -1)translate(0 -218)\" width=\"11\" x=\"388\" xlink:href=\"data:image/png;base64,\r\niVBORw0KGgoAAAANSUhEUgAAAAsAAADaCAYAAABwzrisAAAABHNCSVQICAgIfAhkiAAAAWRJREFUaIHd2sFxAzEMQ1FRpJtI/3UmaUHvgBkmPnMw4CfEXcuu/nz9nMfP1GvlOWfuve/Fdd61pwqKrxSTDVLuEhq5BknZaECDSzwnabQUr4jolvCTjS3jlvAv8Uw2nkt13EtoYOreP9Hwg40c546ljhoM7g2xMbmVKzaWBAmzATaS6KB4YkFKnpSUjXn+LuE2qDg3FChuoYENSnFsKCPF9e9pBMP/Lm0NYp7FhigvoVGibOEnz0FlKYapTItywS6YK8UWJFHu+w02BF2QRsxGd4wGnNgkOjiEc5fQMHRg48KzzYZCnJEGKB8KEqx+tGE0VigXLF21kVI+oowNirI1GLMhVxbyejJHfgPagq7h6h49p2gcuWM05REaMRtb0BkNiuiKY3X6/dmGZ9CyESumoQiNLZ5zNohGbtw55dy4/yCN6k9IeQ0NWeax8Jf8VSBIw8KfeysgdLlVIOH/5w3KfeT5BaNkKiWJpm5pAAAAAElFTkSuQmCC\" y=\"-10\"/>\r\n   <g id=\"matplotlib.axis_3\"/>\r\n   <g id=\"matplotlib.axis_4\">\r\n    <g id=\"ytick_8\">\r\n     <g id=\"line2d_15\">\r\n      <defs>\r\n       <path d=\"M 0 0 \r\nL 3.5 0 \r\n\" id=\"m1a7d175ca6\" style=\"stroke:#000000;stroke-width:0.8;\"/>\r\n      </defs>\r\n      <g>\r\n       <use style=\"stroke:#000000;stroke-width:0.8;\" x=\"398.856688\" xlink:href=\"#m1a7d175ca6\" y=\"207.98032\"/>\r\n      </g>\r\n     </g>\r\n     <g id=\"text_64\">\r\n      <!-- −0.75 -->\r\n      <defs>\r\n       <path d=\"M 10.59375 35.5 \r\nL 73.1875 35.5 \r\nL 73.1875 27.203125 \r\nL 10.59375 27.203125 \r\nz\r\n\" id=\"DejaVuSans-8722\"/>\r\n      </defs>\r\n      <g transform=\"translate(405.856688 211.779539)scale(0.1 -0.1)\">\r\n       <use xlink:href=\"#DejaVuSans-8722\"/>\r\n       <use x=\"83.789062\" xlink:href=\"#DejaVuSans-48\"/>\r\n       <use x=\"147.412109\" xlink:href=\"#DejaVuSans-46\"/>\r\n       <use x=\"179.199219\" xlink:href=\"#DejaVuSans-55\"/>\r\n       <use x=\"242.822266\" xlink:href=\"#DejaVuSans-53\"/>\r\n      </g>\r\n     </g>\r\n    </g>\r\n    <g id=\"ytick_9\">\r\n     <g id=\"line2d_16\">\r\n      <g>\r\n       <use style=\"stroke:#000000;stroke-width:0.8;\" x=\"398.856688\" xlink:href=\"#m1a7d175ca6\" y=\"179.840163\"/>\r\n      </g>\r\n     </g>\r\n     <g id=\"text_65\">\r\n      <!-- −0.50 -->\r\n      <g transform=\"translate(405.856688 183.639381)scale(0.1 -0.1)\">\r\n       <use xlink:href=\"#DejaVuSans-8722\"/>\r\n       <use x=\"83.789062\" xlink:href=\"#DejaVuSans-48\"/>\r\n       <use x=\"147.412109\" xlink:href=\"#DejaVuSans-46\"/>\r\n       <use x=\"179.199219\" xlink:href=\"#DejaVuSans-53\"/>\r\n       <use x=\"242.822266\" xlink:href=\"#DejaVuSans-48\"/>\r\n      </g>\r\n     </g>\r\n    </g>\r\n    <g id=\"ytick_10\">\r\n     <g id=\"line2d_17\">\r\n      <g>\r\n       <use style=\"stroke:#000000;stroke-width:0.8;\" x=\"398.856688\" xlink:href=\"#m1a7d175ca6\" y=\"151.700005\"/>\r\n      </g>\r\n     </g>\r\n     <g id=\"text_66\">\r\n      <!-- −0.25 -->\r\n      <g transform=\"translate(405.856688 155.499224)scale(0.1 -0.1)\">\r\n       <use xlink:href=\"#DejaVuSans-8722\"/>\r\n       <use x=\"83.789062\" xlink:href=\"#DejaVuSans-48\"/>\r\n       <use x=\"147.412109\" xlink:href=\"#DejaVuSans-46\"/>\r\n       <use x=\"179.199219\" xlink:href=\"#DejaVuSans-50\"/>\r\n       <use x=\"242.822266\" xlink:href=\"#DejaVuSans-53\"/>\r\n      </g>\r\n     </g>\r\n    </g>\r\n    <g id=\"ytick_11\">\r\n     <g id=\"line2d_18\">\r\n      <g>\r\n       <use style=\"stroke:#000000;stroke-width:0.8;\" x=\"398.856688\" xlink:href=\"#m1a7d175ca6\" y=\"123.559848\"/>\r\n      </g>\r\n     </g>\r\n     <g id=\"text_67\">\r\n      <!-- 0.00 -->\r\n      <g transform=\"translate(405.856688 127.359067)scale(0.1 -0.1)\">\r\n       <use xlink:href=\"#DejaVuSans-48\"/>\r\n       <use x=\"63.623047\" xlink:href=\"#DejaVuSans-46\"/>\r\n       <use x=\"95.410156\" xlink:href=\"#DejaVuSans-48\"/>\r\n       <use x=\"159.033203\" xlink:href=\"#DejaVuSans-48\"/>\r\n      </g>\r\n     </g>\r\n    </g>\r\n    <g id=\"ytick_12\">\r\n     <g id=\"line2d_19\">\r\n      <g>\r\n       <use style=\"stroke:#000000;stroke-width:0.8;\" x=\"398.856688\" xlink:href=\"#m1a7d175ca6\" y=\"95.419691\"/>\r\n      </g>\r\n     </g>\r\n     <g id=\"text_68\">\r\n      <!-- 0.25 -->\r\n      <g transform=\"translate(405.856688 99.218909)scale(0.1 -0.1)\">\r\n       <use xlink:href=\"#DejaVuSans-48\"/>\r\n       <use x=\"63.623047\" xlink:href=\"#DejaVuSans-46\"/>\r\n       <use x=\"95.410156\" xlink:href=\"#DejaVuSans-50\"/>\r\n       <use x=\"159.033203\" xlink:href=\"#DejaVuSans-53\"/>\r\n      </g>\r\n     </g>\r\n    </g>\r\n    <g id=\"ytick_13\">\r\n     <g id=\"line2d_20\">\r\n      <g>\r\n       <use style=\"stroke:#000000;stroke-width:0.8;\" x=\"398.856688\" xlink:href=\"#m1a7d175ca6\" y=\"67.279533\"/>\r\n      </g>\r\n     </g>\r\n     <g id=\"text_69\">\r\n      <!-- 0.50 -->\r\n      <g transform=\"translate(405.856688 71.078752)scale(0.1 -0.1)\">\r\n       <use xlink:href=\"#DejaVuSans-48\"/>\r\n       <use x=\"63.623047\" xlink:href=\"#DejaVuSans-46\"/>\r\n       <use x=\"95.410156\" xlink:href=\"#DejaVuSans-53\"/>\r\n       <use x=\"159.033203\" xlink:href=\"#DejaVuSans-48\"/>\r\n      </g>\r\n     </g>\r\n    </g>\r\n    <g id=\"ytick_14\">\r\n     <g id=\"line2d_21\">\r\n      <g>\r\n       <use style=\"stroke:#000000;stroke-width:0.8;\" x=\"398.856688\" xlink:href=\"#m1a7d175ca6\" y=\"39.139376\"/>\r\n      </g>\r\n     </g>\r\n     <g id=\"text_70\">\r\n      <!-- 0.75 -->\r\n      <g transform=\"translate(405.856688 42.938595)scale(0.1 -0.1)\">\r\n       <use xlink:href=\"#DejaVuSans-48\"/>\r\n       <use x=\"63.623047\" xlink:href=\"#DejaVuSans-46\"/>\r\n       <use x=\"95.410156\" xlink:href=\"#DejaVuSans-55\"/>\r\n       <use x=\"159.033203\" xlink:href=\"#DejaVuSans-53\"/>\r\n      </g>\r\n     </g>\r\n    </g>\r\n    <g id=\"ytick_15\">\r\n     <g id=\"line2d_22\">\r\n      <g>\r\n       <use style=\"stroke:#000000;stroke-width:0.8;\" x=\"398.856688\" xlink:href=\"#m1a7d175ca6\" y=\"10.999219\"/>\r\n      </g>\r\n     </g>\r\n     <g id=\"text_71\">\r\n      <!-- 1.00 -->\r\n      <g transform=\"translate(405.856688 14.798438)scale(0.1 -0.1)\">\r\n       <use xlink:href=\"#DejaVuSans-49\"/>\r\n       <use x=\"63.623047\" xlink:href=\"#DejaVuSans-46\"/>\r\n       <use x=\"95.410156\" xlink:href=\"#DejaVuSans-48\"/>\r\n       <use x=\"159.033203\" xlink:href=\"#DejaVuSans-48\"/>\r\n      </g>\r\n     </g>\r\n    </g>\r\n   </g>\r\n   <g id=\"patch_4\">\r\n    <path d=\"M 387.984688 228.439219 \r\nL 387.984688 227.589844 \r\nL 387.984688 11.848594 \r\nL 387.984688 10.999219 \r\nL 398.856688 10.999219 \r\nL 398.856688 11.848594 \r\nL 398.856688 227.589844 \r\nL 398.856688 228.439219 \r\nz\r\n\" style=\"fill:none;\"/>\r\n   </g>\r\n  </g>\r\n </g>\r\n <defs>\r\n  <clipPath id=\"pd71467153d\">\r\n   <rect height=\"217.44\" width=\"267.84\" x=\"103.404687\" y=\"10.999219\"/>\r\n  </clipPath>\r\n  <clipPath id=\"p6d2b6bc0cc\">\r\n   <rect height=\"217.44\" width=\"10.872\" x=\"387.984688\" y=\"10.999219\"/>\r\n  </clipPath>\r\n </defs>\r\n</svg>\r\n",
      "image/png": "[encoded data removed]"
     },
     "metadata": {
      "needs_background": "light"
     }
    }
   ],
   "source": [
    "sns.heatmap(df_5m[['bar_log_r', 'first_r', 'max_r', 'min_r', 'last_r', 'bar_quantile_25_r', 'bar_quantile_75_r']].corr(method='pearson'), annot=True);"
   ]
  },
  {
   "cell_type": "code",
   "execution_count": 60,
   "metadata": {},
   "outputs": [
    {
     "output_type": "execute_result",
     "data": {
      "text/plain": "bar_log_r            0.000489\nfirst_r              0.000302\nmax_r                0.000268\nmin_r                0.000258\nlast_r               0.000266\nbar_quantile_25_r    0.000115\nbar_quantile_75_r    0.000125\ndtype: float64"
     },
     "metadata": {},
     "execution_count": 60
    }
   ],
   "source": [
    "# standard deviations of the return-like features - aggregated features has lower std\n",
    "df_5m[['bar_log_r', 'first_r', 'max_r', 'min_r', 'last_r', 'bar_quantile_25_r', 'bar_quantile_75_r']].std()"
   ]
  },
  {
   "cell_type": "markdown",
   "metadata": {},
   "source": [
    "## Data Augmentation"
   ]
  },
  {
   "cell_type": "markdown",
   "metadata": {},
   "source": [
    "When training deep learning models on time series we have to face two problems. The dataset can be too short to feed a data-hungry neural network and training on too old data sometimes can be worse than dropping it.\n",
    "\n",
    "Augmenting the data can help to increase the number of samples. With available tick data we can sample bars from any tick. For example instead of using hourly bars only with 17:00-18:00 ranges we can sample bar sequences where the hourly ranges are from (x:41) - (x+1:41), or even for every possible closing tick.\n",
    "\n",
    "In the chart below we can compare a sequence of 5 min bars, and an other sequence of 5 min bars shifted by 2 mins. The charts are similar at first, but if we examine them closly we can notice differencies, and these differencies can be very large if we compare only candles to candles."
   ]
  },
  {
   "cell_type": "code",
   "execution_count": 30,
   "metadata": {},
   "outputs": [],
   "source": [
    "# resample 5 min data with 2 min shift\n",
    "rs_5m_sft2 = df.resample('5min', base=2)\n",
    "df_5m_sft2 = rs_5m_sft2.agg({ 'Ask price':    ['first',\n",
    "                                    'max',\n",
    "                                    'min',\n",
    "                                    'last',\n",
    "                                    'mean', \n",
    "                                    'std',\n",
    "                                    bar_len,\n",
    "                                    bar_quantile_25,\n",
    "                                    bar_quantile_75,\n",
    "                                    bar_spearman]})\n",
    "df_5m_sft2 = df_5m_sft2['Ask price']\n",
    "df_5m_sft2['bar_log_r'] = np.log(df_5m_sft2['first']/df_5m_sft2['last'])\n",
    "df_5m_sft2 = df_5m_sft2[['first', 'max', 'min', 'last', 'mean', 'std', 'bar_len','bar_quantile_25', 'bar_quantile_75', 'bar_spearman', 'bar_log_r']]\n",
    "df_5m_aux_sft2 = np.log(df_5m_sft2[['first', 'max', 'min', 'last', 'bar_quantile_25', 'bar_quantile_75']].div(df_5m_sft2['mean'], axis=0))\n",
    "df_5m_aux_sft2 = df_5m_aux_sft2.rename(columns={  'first':'first_r',\n",
    "                            'max':'max_r', \n",
    "                            'min':'min_r', \n",
    "                            'last':'last_r', \n",
    "                            'bar_quantile_25':'bar_quantile_25_r', \n",
    "                            'bar_quantile_75':'bar_quantile_75_r'})\n",
    "df_5m_sft2 = pd.concat([df_5m_sft2, df_5m_aux_sft2], axis=1, join='inner')\n",
    ""
   ]
  },
  {
   "cell_type": "code",
   "execution_count": 31,
   "metadata": {},
   "outputs": [
    {
     "output_type": "display_data",
     "data": {
      "application/vnd.plotly.v1+json": {
       "config": {
        "plotlyServerURL": "https://plot.ly"
       },
       "data": [
        {
         "close": [
          -0.00004762120341246292,
          0.0001710536412512189,
          -0.0001251609699984499,
          -0.000209511695503155,
          -0.00011971619634128044,
          -0.00008962913790166228,
          -0.0000029277495856068954,
          0.00001597272600357967,
          -0.00006799919208675854,
          -0.00010810499850592475,
          0.00002860526325860084,
          -0.0002257878623354235,
          -0.00005120480008818031,
          0.000027160658419714265,
          0.00018785425167358797,
          -0.00026488208265651263,
          -0.00029028212787006,
          -0.00023737182772731906,
          -0.00008338576997772458,
          0.00003524699599943749,
          -0.00006028427496185185,
          0.00033406646558535504,
          0.00028302451408914527,
          0.0002733106366196815,
          0.00014688059186136637,
          0.000008351324904204037,
          0.00002464843848290415,
          -0.000129331176198076,
          0.0005477370962355736,
          0.00012209600103637688,
          0.0002866791792059803,
          0.00011313662101115406,
          0.0010047778445849954,
          0.0001422120954819152,
          -0.0003452624007405796,
          -0.000779178934441437,
          -0.00008663426652349901,
          -0.0008610417662153081,
          0.0002058532402937075,
          -0.00018564573756205133,
          0.0006844366121504146,
          0.0001984447525189811,
          -0.000002481861115566933,
          0.0002337141949054185,
          0.000609729387499752,
          -0.0010357206219181337,
          -0.0003336426234531158,
          -0.00005966544581438277,
          0.00017238126496007313,
          -0.000039003747063703175
         ],
         "decreasing": {
          "line": {
           "color": "blue"
          }
         },
         "high": [
          0.00016618649875539565,
          0.00031637452283549844,
          0.00023395458356438643,
          0.00028635043079162806,
          0.00029940784056979423,
          0.0002953465492224948,
          0.00015105264388193157,
          0.00013573013185921718,
          0.00009451550943645335,
          0.00019122834561500633,
          0.0003279872555296149,
          0.00035608012139415194,
          0.00014568013842213535,
          0.00023257328174759436,
          0.00023064543498475137,
          0.0003085443269318087,
          0.00018916172645351732,
          0.0002422978946102341,
          0.00018213089703532473,
          0.0002064798731301448,
          0.0003336390349773207,
          0.00033406646558535504,
          0.0003600242617390091,
          0.0005555585291181484,
          0.0002067303689386631,
          0.0002306476468155185,
          0.0003495097341169133,
          0.0004436538777272914,
          0.0005477370962355736,
          0.0003185269369782968,
          0.0002866791792059803,
          0.00021559651232264094,
          0.0011241197593121037,
          0.0006021075199631462,
          0.0008138022957342026,
          0.0006532539733635325,
          0.0003996744467067087,
          0.0009919254319102019,
          0.0004108868152598244,
          0.0007118861102736776,
          0.0007015192408255243,
          0.00024114421237724583,
          0.00033031530208690326,
          0.00043851856478124363,
          0.0008998614849712335,
          0.0007649822239128965,
          0.00046058771946409636,
          0.0004872402778549878,
          0.00019801998969129776,
          0.0003454259988642049
         ],
         "increasing": {
          "line": {
           "color": "red"
          }
         },
         "low": [
          -0.000244364671950029,
          -0.00033345919390940674,
          -0.00023634192567040967,
          -0.0002779257717259814,
          -0.00027372425640090174,
          -0.0002950101203446688,
          -0.0002510571546207955,
          -0.00016369027801735613,
          -0.00013643433698203454,
          -0.00019364527091820477,
          -0.00021096488060258178,
          -0.00031138524653169546,
          -0.00009401100356965373,
          -0.00011836548304032003,
          -0.00017166399774953863,
          -0.0003419345682793806,
          -0.00031597310819646653,
          -0.0002802106722844566,
          -0.00024615664463085524,
          -0.000410095753987251,
          -0.00027443813247717474,
          -0.00021398667503238242,
          -0.00033318700288913065,
          -0.0007365916256387023,
          -0.00030638398985167716,
          -0.0002824184473506611,
          -0.00024900084746076604,
          -0.0002662120045407512,
          -0.0005982576070905406,
          -0.0006127269482500337,
          -0.0002684422571850793,
          -0.00016868222257856994,
          -0.0010518439628206427,
          -0.0008293733696671974,
          -0.0008314466741533197,
          -0.000830375221015323,
          -0.0005390283350734479,
          -0.0013055812050385073,
          -0.00034965722399793214,
          -0.0005277746379613409,
          -0.0007601006820141393,
          -0.00023719391345779204,
          -0.0006940300601287659,
          -0.00038095070403239224,
          -0.0005345527430973262,
          -0.0010357206219181337,
          -0.000538707732343458,
          -0.00043583671076590196,
          -0.0003576329381499187,
          -0.0003808431884084394
         ],
         "name": "OHLC r",
         "open": [
          -0.0001588192772343314,
          -0.0003249060080615199,
          0.00023395458356438643,
          -0.000252269944644848,
          0.00029940784056979423,
          0.00007293423008481771,
          -0.0001826015138493758,
          -0.0000439113555422562,
          -0.00013643433698203454,
          -0.00015942828389179002,
          0.00019113803749465968,
          0.0002619773696746398,
          0.00013712072970602912,
          -0.00011836548304032003,
          0.000025231053544134614,
          0.0000518268858503577,
          8.361966593562291e-7,
          0.0002422978946102341,
          -0.00023758909593506286,
          -0.0004015295997194714,
          0.0002651417791217872,
          -0.00015402873122929224,
          -0.0003075039404394291,
          0.00007654528721816187,
          -0.00030638398985167716,
          0.00008530564400348064,
          -0.000035205944372165143,
          0.0003581545616696729,
          -0.00027314060488559593,
          -0.0005785371607361161,
          -0.00011468546595706386,
          0.00021559651232264094,
          -0.0006248110662581552,
          -0.0005991756970574997,
          0.0007456591951967211,
          -0.00019913746227445851,
          0.00007549491665804211,
          0.0006676905806496031,
          -0.00013596283180768908,
          0.0007118861102736776,
          -0.0005120731411328354,
          0.000036170175037831276,
          -0.0006427878638770195,
          0.000208110699173421,
          0.0005158450955528432,
          -0.0001648337992309063,
          -0.00010299462970877823,
          0.0004616107526404799,
          0.00001853511081054583,
          -0.00025263970366213467
         ],
         "type": "candlestick",
         "x": [
          "2016-01-21T10:50:00",
          "2016-01-21T10:55:00",
          "2016-01-21T11:00:00",
          "2016-01-21T11:05:00",
          "2016-01-21T11:10:00",
          "2016-01-21T11:15:00",
          "2016-01-21T11:20:00",
          "2016-01-21T11:25:00",
          "2016-01-21T11:30:00",
          "2016-01-21T11:35:00",
          "2016-01-21T11:40:00",
          "2016-01-21T11:45:00",
          "2016-01-21T11:50:00",
          "2016-01-21T11:55:00",
          "2016-01-21T12:00:00",
          "2016-01-21T12:05:00",
          "2016-01-21T12:10:00",
          "2016-01-21T12:15:00",
          "2016-01-21T12:20:00",
          "2016-01-21T12:25:00",
          "2016-01-21T12:30:00",
          "2016-01-21T12:35:00",
          "2016-01-21T12:40:00",
          "2016-01-21T12:45:00",
          "2016-01-21T12:50:00",
          "2016-01-21T12:55:00",
          "2016-01-21T13:00:00",
          "2016-01-21T13:05:00",
          "2016-01-21T13:10:00",
          "2016-01-21T13:15:00",
          "2016-01-21T13:20:00",
          "2016-01-21T13:25:00",
          "2016-01-21T13:30:00",
          "2016-01-21T13:35:00",
          "2016-01-21T13:40:00",
          "2016-01-21T13:45:00",
          "2016-01-21T13:50:00",
          "2016-01-21T13:55:00",
          "2016-01-21T14:00:00",
          "2016-01-21T14:05:00",
          "2016-01-21T14:10:00",
          "2016-01-21T14:15:00",
          "2016-01-21T14:20:00",
          "2016-01-21T14:25:00",
          "2016-01-21T14:30:00",
          "2016-01-21T14:35:00",
          "2016-01-21T14:40:00",
          "2016-01-21T14:45:00",
          "2016-01-21T14:50:00",
          "2016-01-21T14:55:00"
         ]
        },
        {
         "close": [
          -0.0000647277945824945,
          -0.00011110013442737615,
          -0.00007385085163178836,
          -0.00007269758291401446,
          -0.00010260565368011574,
          -0.0001923143564545146,
          -0.000028593453789705637,
          -0.0000781324408671813,
          -0.00003378337582222732,
          -0.00009099782204493699,
          -0.00009972874756927098,
          -0.00008884728577273037,
          -0.00005120480008818031,
          -0.00006700089719876107,
          -0.000051810219215783045,
          -0.00018783553366164528,
          -0.000033408619534831825,
          -0.00016026653184029275,
          -0.0000662535348202646,
          -0.00011888766662241816,
          -0.00014379882420846544,
          -0.00008550976857956689,
          -0.00011062237262622007,
          -0.00033208035641037247,
          -0.00006689785751990904,
          -0.00005150612886286158,
          -0.00011216684399772003,
          -0.00013788567907443056,
          -0.00034157750608932694,
          -0.00010000283385753004,
          -0.00008052050041774813,
          -0.00005765319691509836,
          -0.00047112385358561045,
          -0.00016450239833042785,
          -0.00048171131788886303,
          -0.00034411629135538876,
          -0.00006956679882329288,
          -0.0006473912037152663,
          -0.0001103225731817022,
          -0.0001770940146035504,
          -0.00028975591063200377,
          -0.00007487497347133315,
          -0.0000878323101108202,
          -0.00015040708970980984,
          -0.0003209678914315388,
          -0.00033553615448442866,
          -0.00010299462970877823,
          -0.00023063484270882675,
          -0.00008404214277349975,
          -0.00015008874856649407
         ],
         "decreasing": {
          "line": {
           "color": "gray"
          }
         },
         "high": [
          0.00007211674168527629,
          0.00007701122805351578,
          0.0000629632609572251,
          0.00006409781413435446,
          0.00010269802539877247,
          0.00015848328396467917,
          0.00005695633196017508,
          0.00005874487449799935,
          0.000043197930588426684,
          0.00008005784843998736,
          0.00007137960721362721,
          0.00004807454063585898,
          0.00006008275422585018,
          0.00006139902593757652,
          0.000050910158885363205,
          0.00022297916901176028,
          0.00008644310690143639,
          0.00013953089300385816,
          0.0000707937809800143,
          0.00012086709965195195,
          0.00011956953007329398,
          0.00005151407378327185,
          0.00007766286294422753,
          0.00032463436102247675,
          0.00006992561476024819,
          0.000059654862294380134,
          0.00008449923900524372,
          0.00014437428422410086,
          0.00029128519238451957,
          0.0001648016608240759,
          0.00009882642106061704,
          0.00006190273832570916,
          0.0006125541014939991,
          0.00021035809831916496,
          0.0004517388710463845,
          0.00030386135903697696,
          0.0000840273034651381,
          0.0006164859927071469,
          0.00011186546717931479,
          0.0001734636749636584,
          0.0003000002978334121,
          0.00005325294962225033,
          0.00015113059203601662,
          0.00014836665969041344,
          0.00032591582762885165,
          0.00038974769793409693,
          0.00016175784962212345,
          0.00020527936602220687,
          0.00010400811848666107,
          0.00014895814848732842
         ],
         "increasing": {
          "line": {
           "color": "gray"
          }
         },
         "low": [
          -0.0000647277945824945,
          -0.00011110013442737615,
          -0.00007385085163178836,
          -0.00007269758291401446,
          -0.00010260565368011574,
          -0.0001923143564545146,
          -0.000028593453789705637,
          -0.0000781324408671813,
          -0.00003378337582222732,
          -0.00009099782204493699,
          -0.00009972874756927098,
          -0.00008884728577273037,
          -0.00005120480008818031,
          -0.00006700089719876107,
          -0.000051810219215783045,
          -0.00018783553366164528,
          -0.000033408619534831825,
          -0.00016026653184029275,
          -0.0000662535348202646,
          -0.00011888766662241816,
          -0.00014379882420846544,
          -0.00008550976857956689,
          -0.00011062237262622007,
          -0.00033208035641037247,
          -0.00006689785751990904,
          -0.00005150612886286158,
          -0.00011216684399772003,
          -0.00013788567907443056,
          -0.00034157750608932694,
          -0.00010000283385753004,
          -0.00008052050041774813,
          -0.00005765319691509836,
          -0.00047112385358561045,
          -0.00016450239833042785,
          -0.00048171131788886303,
          -0.00034411629135538876,
          -0.00006956679882329288,
          -0.0006473912037152663,
          -0.0001103225731817022,
          -0.0001770940146035504,
          -0.00028975591063200377,
          -0.00007487497347133315,
          -0.0000878323101108202,
          -0.00015040708970980984,
          -0.0003209678914315388,
          -0.00033553615448442866,
          -0.00010299462970877823,
          -0.00023063484270882675,
          -0.00008404214277349975,
          -0.00015008874856649407
         ],
         "name": "25-75 quantiles r",
         "open": [
          0.00007211674168527629,
          0.00007701122805351578,
          0.0000629632609572251,
          0.00006409781413435446,
          0.00010269802539877247,
          0.00015848328396467917,
          0.00005695633196017508,
          0.00005874487449799935,
          0.000043197930588426684,
          0.00008005784843998736,
          0.00007137960721362721,
          0.00004807454063585898,
          0.00006008275422585018,
          0.00006139902593757652,
          0.000050910158885363205,
          0.00022297916901176028,
          0.00008644310690143639,
          0.00013953089300385816,
          0.0000707937809800143,
          0.00012086709965195195,
          0.00011956953007329398,
          0.00005151407378327185,
          0.00007766286294422753,
          0.00032463436102247675,
          0.00006992561476024819,
          0.000059654862294380134,
          0.00008449923900524372,
          0.00014437428422410086,
          0.00029128519238451957,
          0.0001648016608240759,
          0.00009882642106061704,
          0.00006190273832570916,
          0.0006125541014939991,
          0.00021035809831916496,
          0.0004517388710463845,
          0.00030386135903697696,
          0.0000840273034651381,
          0.0006164859927071469,
          0.00011186546717931479,
          0.0001734636749636584,
          0.0003000002978334121,
          0.00005325294962225033,
          0.00015113059203601662,
          0.00014836665969041344,
          0.00032591582762885165,
          0.00038974769793409693,
          0.00016175784962212345,
          0.00020527936602220687,
          0.00010400811848666107,
          0.00014895814848732842
         ],
         "type": "candlestick",
         "x": [
          "2016-01-21T10:50:00",
          "2016-01-21T10:55:00",
          "2016-01-21T11:00:00",
          "2016-01-21T11:05:00",
          "2016-01-21T11:10:00",
          "2016-01-21T11:15:00",
          "2016-01-21T11:20:00",
          "2016-01-21T11:25:00",
          "2016-01-21T11:30:00",
          "2016-01-21T11:35:00",
          "2016-01-21T11:40:00",
          "2016-01-21T11:45:00",
          "2016-01-21T11:50:00",
          "2016-01-21T11:55:00",
          "2016-01-21T12:00:00",
          "2016-01-21T12:05:00",
          "2016-01-21T12:10:00",
          "2016-01-21T12:15:00",
          "2016-01-21T12:20:00",
          "2016-01-21T12:25:00",
          "2016-01-21T12:30:00",
          "2016-01-21T12:35:00",
          "2016-01-21T12:40:00",
          "2016-01-21T12:45:00",
          "2016-01-21T12:50:00",
          "2016-01-21T12:55:00",
          "2016-01-21T13:00:00",
          "2016-01-21T13:05:00",
          "2016-01-21T13:10:00",
          "2016-01-21T13:15:00",
          "2016-01-21T13:20:00",
          "2016-01-21T13:25:00",
          "2016-01-21T13:30:00",
          "2016-01-21T13:35:00",
          "2016-01-21T13:40:00",
          "2016-01-21T13:45:00",
          "2016-01-21T13:50:00",
          "2016-01-21T13:55:00",
          "2016-01-21T14:00:00",
          "2016-01-21T14:05:00",
          "2016-01-21T14:10:00",
          "2016-01-21T14:15:00",
          "2016-01-21T14:20:00",
          "2016-01-21T14:25:00",
          "2016-01-21T14:30:00",
          "2016-01-21T14:35:00",
          "2016-01-21T14:40:00",
          "2016-01-21T14:45:00",
          "2016-01-21T14:50:00",
          "2016-01-21T14:55:00"
         ]
        },
        {
         "name": "bar mean",
         "type": "scatter",
         "x": [
          "2016-01-21T10:50:00",
          "2016-01-21T10:55:00",
          "2016-01-21T11:00:00",
          "2016-01-21T11:05:00",
          "2016-01-21T11:10:00",
          "2016-01-21T11:15:00",
          "2016-01-21T11:20:00",
          "2016-01-21T11:25:00",
          "2016-01-21T11:30:00",
          "2016-01-21T11:35:00",
          "2016-01-21T11:40:00",
          "2016-01-21T11:45:00",
          "2016-01-21T11:50:00",
          "2016-01-21T11:55:00",
          "2016-01-21T12:00:00",
          "2016-01-21T12:05:00",
          "2016-01-21T12:10:00",
          "2016-01-21T12:15:00",
          "2016-01-21T12:20:00",
          "2016-01-21T12:25:00",
          "2016-01-21T12:30:00",
          "2016-01-21T12:35:00",
          "2016-01-21T12:40:00",
          "2016-01-21T12:45:00",
          "2016-01-21T12:50:00",
          "2016-01-21T12:55:00",
          "2016-01-21T13:00:00",
          "2016-01-21T13:05:00",
          "2016-01-21T13:10:00",
          "2016-01-21T13:15:00",
          "2016-01-21T13:20:00",
          "2016-01-21T13:25:00",
          "2016-01-21T13:30:00",
          "2016-01-21T13:35:00",
          "2016-01-21T13:40:00",
          "2016-01-21T13:45:00",
          "2016-01-21T13:50:00",
          "2016-01-21T13:55:00",
          "2016-01-21T14:00:00",
          "2016-01-21T14:05:00",
          "2016-01-21T14:10:00",
          "2016-01-21T14:15:00",
          "2016-01-21T14:20:00",
          "2016-01-21T14:25:00",
          "2016-01-21T14:30:00",
          "2016-01-21T14:35:00",
          "2016-01-21T14:40:00",
          "2016-01-21T14:45:00",
          "2016-01-21T14:50:00",
          "2016-01-21T14:55:00"
         ],
         "xaxis": "x",
         "y": [
          116.92056776556777,
          116.9539928825622,
          116.94763636363645,
          116.96350265486718,
          116.89999398496217,
          116.87847524752497,
          116.88934222222228,
          116.89413286713273,
          116.91094957983195,
          116.9216391304346,
          116.88665637860052,
          116.85738200000013,
          116.81398128342259,
          116.82282697201042,
          116.82205241935515,
          116.83894444444445,
          116.80790232558144,
          116.74670909090916,
          116.74773469387749,
          116.78588357588346,
          116.75803846153822,
          116.76998454746145,
          116.84592505854818,
          116.87005380577409,
          116.93882269503551,
          116.94702333333332,
          116.95111730205282,
          116.91311953352765,
          116.93193449781661,
          117.06370611702138,
          117.09042780026992,
          117.0997509803923,
          117.18519573796394,
          117.37430676691726,
          117.30849522154647,
          117.29035457809708,
          117.19115232974896,
          117.10178613199668,
          117.01790900473934,
          116.95671049949031,
          116.99689563106782,
          117.07176541717055,
          117.16929079754591,
          117.14561820652189,
          117.09957917383825,
          117.19231566265057,
          117.08705871725405,
          116.99698046875014,
          116.9888315789472,
          117.03856485355647
         ],
         "yaxis": "y2"
        }
       ],
       "layout": {
        "autosize": false,
        "height": 600,
        "margin": {
         "b": 10,
         "l": 10,
         "r": 10,
         "t": 10
        },
        "template": {
         "data": {
          "bar": [
           {
            "error_x": {
             "color": "#2a3f5f"
            },
            "error_y": {
             "color": "#2a3f5f"
            },
            "marker": {
             "line": {
              "color": "#E5ECF6",
              "width": 0.5
             }
            },
            "type": "bar"
           }
          ],
          "barpolar": [
           {
            "marker": {
             "line": {
              "color": "#E5ECF6",
              "width": 0.5
             }
            },
            "type": "barpolar"
           }
          ],
          "carpet": [
           {
            "aaxis": {
             "endlinecolor": "#2a3f5f",
             "gridcolor": "white",
             "linecolor": "white",
             "minorgridcolor": "white",
             "startlinecolor": "#2a3f5f"
            },
            "baxis": {
             "endlinecolor": "#2a3f5f",
             "gridcolor": "white",
             "linecolor": "white",
             "minorgridcolor": "white",
             "startlinecolor": "#2a3f5f"
            },
            "type": "carpet"
           }
          ],
          "choropleth": [
           {
            "colorbar": {
             "outlinewidth": 0,
             "ticks": ""
            },
            "type": "choropleth"
           }
          ],
          "contour": [
           {
            "colorbar": {
             "outlinewidth": 0,
             "ticks": ""
            },
            "colorscale": [
             [
              0,
              "#0d0887"
             ],
             [
              0.1111111111111111,
              "#46039f"
             ],
             [
              0.2222222222222222,
              "#7201a8"
             ],
             [
              0.3333333333333333,
              "#9c179e"
             ],
             [
              0.4444444444444444,
              "#bd3786"
             ],
             [
              0.5555555555555556,
              "#d8576b"
             ],
             [
              0.6666666666666666,
              "#ed7953"
             ],
             [
              0.7777777777777778,
              "#fb9f3a"
             ],
             [
              0.8888888888888888,
              "#fdca26"
             ],
             [
              1,
              "#f0f921"
             ]
            ],
            "type": "contour"
           }
          ],
          "contourcarpet": [
           {
            "colorbar": {
             "outlinewidth": 0,
             "ticks": ""
            },
            "type": "contourcarpet"
           }
          ],
          "heatmap": [
           {
            "colorbar": {
             "outlinewidth": 0,
             "ticks": ""
            },
            "colorscale": [
             [
              0,
              "#0d0887"
             ],
             [
              0.1111111111111111,
              "#46039f"
             ],
             [
              0.2222222222222222,
              "#7201a8"
             ],
             [
              0.3333333333333333,
              "#9c179e"
             ],
             [
              0.4444444444444444,
              "#bd3786"
             ],
             [
              0.5555555555555556,
              "#d8576b"
             ],
             [
              0.6666666666666666,
              "#ed7953"
             ],
             [
              0.7777777777777778,
              "#fb9f3a"
             ],
             [
              0.8888888888888888,
              "#fdca26"
             ],
             [
              1,
              "#f0f921"
             ]
            ],
            "type": "heatmap"
           }
          ],
          "heatmapgl": [
           {
            "colorbar": {
             "outlinewidth": 0,
             "ticks": ""
            },
            "colorscale": [
             [
              0,
              "#0d0887"
             ],
             [
              0.1111111111111111,
              "#46039f"
             ],
             [
              0.2222222222222222,
              "#7201a8"
             ],
             [
              0.3333333333333333,
              "#9c179e"
             ],
             [
              0.4444444444444444,
              "#bd3786"
             ],
             [
              0.5555555555555556,
              "#d8576b"
             ],
             [
              0.6666666666666666,
              "#ed7953"
             ],
             [
              0.7777777777777778,
              "#fb9f3a"
             ],
             [
              0.8888888888888888,
              "#fdca26"
             ],
             [
              1,
              "#f0f921"
             ]
            ],
            "type": "heatmapgl"
           }
          ],
          "histogram": [
           {
            "marker": {
             "colorbar": {
              "outlinewidth": 0,
              "ticks": ""
             }
            },
            "type": "histogram"
           }
          ],
          "histogram2d": [
           {
            "colorbar": {
             "outlinewidth": 0,
             "ticks": ""
            },
            "colorscale": [
             [
              0,
              "#0d0887"
             ],
             [
              0.1111111111111111,
              "#46039f"
             ],
             [
              0.2222222222222222,
              "#7201a8"
             ],
             [
              0.3333333333333333,
              "#9c179e"
             ],
             [
              0.4444444444444444,
              "#bd3786"
             ],
             [
              0.5555555555555556,
              "#d8576b"
             ],
             [
              0.6666666666666666,
              "#ed7953"
             ],
             [
              0.7777777777777778,
              "#fb9f3a"
             ],
             [
              0.8888888888888888,
              "#fdca26"
             ],
             [
              1,
              "#f0f921"
             ]
            ],
            "type": "histogram2d"
           }
          ],
          "histogram2dcontour": [
           {
            "colorbar": {
             "outlinewidth": 0,
             "ticks": ""
            },
            "colorscale": [
             [
              0,
              "#0d0887"
             ],
             [
              0.1111111111111111,
              "#46039f"
             ],
             [
              0.2222222222222222,
              "#7201a8"
             ],
             [
              0.3333333333333333,
              "#9c179e"
             ],
             [
              0.4444444444444444,
              "#bd3786"
             ],
             [
              0.5555555555555556,
              "#d8576b"
             ],
             [
              0.6666666666666666,
              "#ed7953"
             ],
             [
              0.7777777777777778,
              "#fb9f3a"
             ],
             [
              0.8888888888888888,
              "#fdca26"
             ],
             [
              1,
              "#f0f921"
             ]
            ],
            "type": "histogram2dcontour"
           }
          ],
          "mesh3d": [
           {
            "colorbar": {
             "outlinewidth": 0,
             "ticks": ""
            },
            "type": "mesh3d"
           }
          ],
          "parcoords": [
           {
            "line": {
             "colorbar": {
              "outlinewidth": 0,
              "ticks": ""
             }
            },
            "type": "parcoords"
           }
          ],
          "pie": [
           {
            "automargin": true,
            "type": "pie"
           }
          ],
          "scatter": [
           {
            "marker": {
             "colorbar": {
              "outlinewidth": 0,
              "ticks": ""
             }
            },
            "type": "scatter"
           }
          ],
          "scatter3d": [
           {
            "line": {
             "colorbar": {
              "outlinewidth": 0,
              "ticks": ""
             }
            },
            "marker": {
             "colorbar": {
              "outlinewidth": 0,
              "ticks": ""
             }
            },
            "type": "scatter3d"
           }
          ],
          "scattercarpet": [
           {
            "marker": {
             "colorbar": {
              "outlinewidth": 0,
              "ticks": ""
             }
            },
            "type": "scattercarpet"
           }
          ],
          "scattergeo": [
           {
            "marker": {
             "colorbar": {
              "outlinewidth": 0,
              "ticks": ""
             }
            },
            "type": "scattergeo"
           }
          ],
          "scattergl": [
           {
            "marker": {
             "colorbar": {
              "outlinewidth": 0,
              "ticks": ""
             }
            },
            "type": "scattergl"
           }
          ],
          "scattermapbox": [
           {
            "marker": {
             "colorbar": {
              "outlinewidth": 0,
              "ticks": ""
             }
            },
            "type": "scattermapbox"
           }
          ],
          "scatterpolar": [
           {
            "marker": {
             "colorbar": {
              "outlinewidth": 0,
              "ticks": ""
             }
            },
            "type": "scatterpolar"
           }
          ],
          "scatterpolargl": [
           {
            "marker": {
             "colorbar": {
              "outlinewidth": 0,
              "ticks": ""
             }
            },
            "type": "scatterpolargl"
           }
          ],
          "scatterternary": [
           {
            "marker": {
             "colorbar": {
              "outlinewidth": 0,
              "ticks": ""
             }
            },
            "type": "scatterternary"
           }
          ],
          "surface": [
           {
            "colorbar": {
             "outlinewidth": 0,
             "ticks": ""
            },
            "colorscale": [
             [
              0,
              "#0d0887"
             ],
             [
              0.1111111111111111,
              "#46039f"
             ],
             [
              0.2222222222222222,
              "#7201a8"
             ],
             [
              0.3333333333333333,
              "#9c179e"
             ],
             [
              0.4444444444444444,
              "#bd3786"
             ],
             [
              0.5555555555555556,
              "#d8576b"
             ],
             [
              0.6666666666666666,
              "#ed7953"
             ],
             [
              0.7777777777777778,
              "#fb9f3a"
             ],
             [
              0.8888888888888888,
              "#fdca26"
             ],
             [
              1,
              "#f0f921"
             ]
            ],
            "type": "surface"
           }
          ],
          "table": [
           {
            "cells": {
             "fill": {
              "color": "#EBF0F8"
             },
             "line": {
              "color": "white"
             }
            },
            "header": {
             "fill": {
              "color": "#C8D4E3"
             },
             "line": {
              "color": "white"
             }
            },
            "type": "table"
           }
          ]
         },
         "layout": {
          "annotationdefaults": {
           "arrowcolor": "#2a3f5f",
           "arrowhead": 0,
           "arrowwidth": 1
          },
          "coloraxis": {
           "colorbar": {
            "outlinewidth": 0,
            "ticks": ""
           }
          },
          "colorscale": {
           "diverging": [
            [
             0,
             "#8e0152"
            ],
            [
             0.1,
             "#c51b7d"
            ],
            [
             0.2,
             "#de77ae"
            ],
            [
             0.3,
             "#f1b6da"
            ],
            [
             0.4,
             "#fde0ef"
            ],
            [
             0.5,
             "#f7f7f7"
            ],
            [
             0.6,
             "#e6f5d0"
            ],
            [
             0.7,
             "#b8e186"
            ],
            [
             0.8,
             "#7fbc41"
            ],
            [
             0.9,
             "#4d9221"
            ],
            [
             1,
             "#276419"
            ]
           ],
           "sequential": [
            [
             0,
             "#0d0887"
            ],
            [
             0.1111111111111111,
             "#46039f"
            ],
            [
             0.2222222222222222,
             "#7201a8"
            ],
            [
             0.3333333333333333,
             "#9c179e"
            ],
            [
             0.4444444444444444,
             "#bd3786"
            ],
            [
             0.5555555555555556,
             "#d8576b"
            ],
            [
             0.6666666666666666,
             "#ed7953"
            ],
            [
             0.7777777777777778,
             "#fb9f3a"
            ],
            [
             0.8888888888888888,
             "#fdca26"
            ],
            [
             1,
             "#f0f921"
            ]
           ],
           "sequentialminus": [
            [
             0,
             "#0d0887"
            ],
            [
             0.1111111111111111,
             "#46039f"
            ],
            [
             0.2222222222222222,
             "#7201a8"
            ],
            [
             0.3333333333333333,
             "#9c179e"
            ],
            [
             0.4444444444444444,
             "#bd3786"
            ],
            [
             0.5555555555555556,
             "#d8576b"
            ],
            [
             0.6666666666666666,
             "#ed7953"
            ],
            [
             0.7777777777777778,
             "#fb9f3a"
            ],
            [
             0.8888888888888888,
             "#fdca26"
            ],
            [
             1,
             "#f0f921"
            ]
           ]
          },
          "colorway": [
           "#636efa",
           "#EF553B",
           "#00cc96",
           "#ab63fa",
           "#FFA15A",
           "#19d3f3",
           "#FF6692",
           "#B6E880",
           "#FF97FF",
           "#FECB52"
          ],
          "font": {
           "color": "#2a3f5f"
          },
          "geo": {
           "bgcolor": "white",
           "lakecolor": "white",
           "landcolor": "#E5ECF6",
           "showlakes": true,
           "showland": true,
           "subunitcolor": "white"
          },
          "hoverlabel": {
           "align": "left"
          },
          "hovermode": "closest",
          "mapbox": {
           "style": "light"
          },
          "paper_bgcolor": "white",
          "plot_bgcolor": "#E5ECF6",
          "polar": {
           "angularaxis": {
            "gridcolor": "white",
            "linecolor": "white",
            "ticks": ""
           },
           "bgcolor": "#E5ECF6",
           "radialaxis": {
            "gridcolor": "white",
            "linecolor": "white",
            "ticks": ""
           }
          },
          "scene": {
           "xaxis": {
            "backgroundcolor": "#E5ECF6",
            "gridcolor": "white",
            "gridwidth": 2,
            "linecolor": "white",
            "showbackground": true,
            "ticks": "",
            "zerolinecolor": "white"
           },
           "yaxis": {
            "backgroundcolor": "#E5ECF6",
            "gridcolor": "white",
            "gridwidth": 2,
            "linecolor": "white",
            "showbackground": true,
            "ticks": "",
            "zerolinecolor": "white"
           },
           "zaxis": {
            "backgroundcolor": "#E5ECF6",
            "gridcolor": "white",
            "gridwidth": 2,
            "linecolor": "white",
            "showbackground": true,
            "ticks": "",
            "zerolinecolor": "white"
           }
          },
          "shapedefaults": {
           "line": {
            "color": "#2a3f5f"
           }
          },
          "ternary": {
           "aaxis": {
            "gridcolor": "white",
            "linecolor": "white",
            "ticks": ""
           },
           "baxis": {
            "gridcolor": "white",
            "linecolor": "white",
            "ticks": ""
           },
           "bgcolor": "#E5ECF6",
           "caxis": {
            "gridcolor": "white",
            "linecolor": "white",
            "ticks": ""
           }
          },
          "title": {
           "x": 0.05
          },
          "xaxis": {
           "automargin": true,
           "gridcolor": "white",
           "linecolor": "white",
           "ticks": "",
           "title": {
            "standoff": 15
           },
           "zerolinecolor": "white",
           "zerolinewidth": 2
          },
          "yaxis": {
           "automargin": true,
           "gridcolor": "white",
           "linecolor": "white",
           "ticks": "",
           "title": {
            "standoff": 15
           },
           "zerolinecolor": "white",
           "zerolinewidth": 2
          }
         }
        },
        "width": 1200,
        "xaxis": {
         "anchor": "y",
         "domain": [
          0,
          0.94
         ],
         "rangeslider": {
          "visible": false
         }
        },
        "yaxis": {
         "anchor": "x",
         "domain": [
          0,
          1
         ]
        },
        "yaxis2": {
         "anchor": "x",
         "overlaying": "y",
         "side": "right"
        }
       }
      }
     },
     "metadata": {}
    },
    {
     "output_type": "display_data",
     "data": {
      "application/vnd.plotly.v1+json": {
       "config": {
        "plotlyServerURL": "https://plot.ly"
       },
       "data": [
        {
         "close": [
          0.00001760018359916342,
          0.00015025559249899409,
          -0.00004241969203332597,
          0.0003673877542666927,
          -0.00043968812901278546,
          0.00003499044110490887,
          0.00019684961945783523,
          0.000056684416359727946,
          0.000020550470219155227,
          0.00008345091016667297,
          -0.00028097464354170536,
          -0.00015597138918717975,
          -0.0002763658287001373,
          0.00002128634437542002,
          0.000007545411187290991,
          0.0002687396817025656,
          -0.000011424641542195718,
          -0.00022001907302808294,
          0.00011336156970843187,
          0.0002269444089052032,
          -0.0004266015056104554,
          0.00018744001000402702,
          0.0003148236396968224,
          -0.00006182296209525179,
          0.0003213876943076744,
          -0.000034070097325796765,
          0.000039779770181860406,
          -0.00022315822041527722,
          -0.00006130662948000561,
          0.0006101481815144201,
          0.000015378693905909147,
          -0.00003203169030577966,
          0.0002552973737200563,
          0.001155548373799809,
          -0.00036398541058342657,
          0.0002637915289214221,
          -0.0005205025420381634,
          -0.0003120076947884956,
          -0.00015658200150167972,
          -0.000255805430674204,
          0.00030074300773755644,
          0.00020171385100458533,
          0.0008391805849880916,
          -0.0004294368479343654,
          -0.000608132936709528,
          0.0007818834132552948,
          -0.00012440335919232482,
          -0.0007574960489700111,
          -0.00013988367869162746,
          0.00030748090139760245
         ],
         "decreasing": {
          "line": {
           "color": "blue"
          }
         },
         "high": [
          0.00025705969043078364,
          0.000210112022593939,
          0.00026534364039509413,
          0.0003673877542666927,
          0.00046672867952285055,
          0.00012053364047273348,
          0.0003337128847157142,
          0.00014222615222480578,
          0.00012319089524042201,
          0.00009200365709517034,
          0.00026644565205019853,
          0.0002204830984895002,
          0.00025429254247766786,
          0.00018392207066692958,
          0.0002129580345151062,
          0.00030296545199956466,
          0.00046783456983573386,
          0.0003536282694635363,
          0.0002675226340675542,
          0.0002269444089052032,
          0.00022423947238754091,
          0.00018744001000402702,
          0.00042608642968333183,
          0.00047725830248421735,
          0.00037269123169786773,
          0.00023953239416357912,
          0.00033899028410685464,
          0.00023862495493912658,
          0.00024663571930284584,
          0.0007126509577211814,
          0.0002032683519871057,
          0.0002326778352324756,
          0.0006990818383063577,
          0.00124924473802361,
          0.0005389722628703782,
          0.0005876560881855854,
          0.0011252655203694687,
          0.00039620461077650857,
          0.0010048781526356453,
          0.0004706127189914201,
          0.0003691301817495737,
          0.00043231259739851593,
          0.0008818406990678038,
          0.0003216856032629396,
          0.0006725830731170441,
          0.0010718250005851073,
          0.0008739796846681563,
          0.000686350128976866,
          0.0005865406790665506,
          0.0004441757900758621
         ],
         "increasing": {
          "line": {
           "color": "red"
          }
         },
         "low": [
          -0.00027324918414282,
          -0.0002859494307751911,
          -0.00023054392298904475,
          -0.00023968076478955388,
          -0.00046535339407235765,
          -0.00019601275546662,
          -0.00025664378485143127,
          -0.00013153316371785297,
          -0.00010776487775573223,
          -0.00010472803145454114,
          -0.000434990610167901,
          -0.000275782088425881,
          -0.0002934885299780217,
          -0.0000900059735732305,
          -0.00019790941515563813,
          -0.0002875933279004962,
          -0.00018264432537538333,
          -0.0003227966367763374,
          -0.0002121676322787836,
          -0.0001927108804139789,
          -0.0004266015056104554,
          -0.0002322584128658268,
          -0.0003787081343032536,
          -0.0004898721771681869,
          -0.0007737152521348831,
          -0.0002564272551491776,
          -0.0003279443211721733,
          -0.00032580566928856253,
          -0.00027521128871117593,
          -0.0008944342388276233,
          -0.0002921532790289045,
          -0.0002797266338976471,
          -0.0004790863320576432,
          -0.0014288180827069185,
          -0.00039807525437002863,
          -0.0006145797033340058,
          -0.0009131581795574688,
          -0.0004912734738582262,
          -0.0008147720028248898,
          -0.00042680406310187786,
          -0.00040049530518746005,
          -0.0006357212539932875,
          -0.000518361022107538,
          -0.0005062880000989901,
          -0.0006935723516724874,
          -0.0009766214575043371,
          -0.0006367815738332303,
          -0.0007574960489700111,
          -0.0003365363095542017,
          -0.0003762739649438886
         ],
         "name": "OHLC r",
         "open": [
          -0.000042273653690187104,
          -0.00008065277638969682,
          -0.000153579732678372,
          0.00004252368137567696,
          0.0004068962956546263,
          0.000009326054289816024,
          0.00020540412233424025,
          0.00003957519106494053,
          -0.00005643676276958704,
          -0.000027741457019797695,
          0.00007830372406667542,
          0.00002371774908791131,
          0.00016872152703977634,
          -0.0000728832722953926,
          -0.00006949520209407975,
          -0.00009070164764992876,
          0.000416496353656238,
          0.00027659029398331686,
          0.00019900953947562912,
          -0.0000727913976371637,
          0.0000358816947947422,
          -0.00016372418856078322,
          -0.00019029389648089144,
          -0.00007038215102652972,
          -0.0006538799399488299,
          0.000017236072252245523,
          -0.00009703200268449068,
          0.00017022608691382845,
          0.0001354452541985125,
          -0.0008944342388276233,
          -0.00010420583541512691,
          -0.00014305976771236966,
          -0.00023138504146335623,
          -0.000984821422464908,
          0.00010463213366049325,
          0.0004939166071781304,
          0.0006821126509459116,
          -0.00007303663475342987,
          0.0009536656977554339,
          0.00023992531221900625,
          0.00024090039379417923,
          -0.0006357212539932875,
          -0.00025353843033858664,
          0.00030462090244942944,
          -0.000035877080026381906,
          -0.0009424462755181431,
          0.0008654507181657433,
          0.000686350128976866,
          -0.00018263096103962953,
          -0.0003249761297011594
         ],
         "type": "candlestick",
         "x": [
          "2016-01-21T10:47:00",
          "2016-01-21T10:52:00",
          "2016-01-21T10:57:00",
          "2016-01-21T11:02:00",
          "2016-01-21T11:07:00",
          "2016-01-21T11:12:00",
          "2016-01-21T11:17:00",
          "2016-01-21T11:22:00",
          "2016-01-21T11:27:00",
          "2016-01-21T11:32:00",
          "2016-01-21T11:37:00",
          "2016-01-21T11:42:00",
          "2016-01-21T11:47:00",
          "2016-01-21T11:52:00",
          "2016-01-21T11:57:00",
          "2016-01-21T12:02:00",
          "2016-01-21T12:07:00",
          "2016-01-21T12:12:00",
          "2016-01-21T12:17:00",
          "2016-01-21T12:22:00",
          "2016-01-21T12:27:00",
          "2016-01-21T12:32:00",
          "2016-01-21T12:37:00",
          "2016-01-21T12:42:00",
          "2016-01-21T12:47:00",
          "2016-01-21T12:52:00",
          "2016-01-21T12:57:00",
          "2016-01-21T13:02:00",
          "2016-01-21T13:07:00",
          "2016-01-21T13:12:00",
          "2016-01-21T13:17:00",
          "2016-01-21T13:22:00",
          "2016-01-21T13:27:00",
          "2016-01-21T13:32:00",
          "2016-01-21T13:37:00",
          "2016-01-21T13:42:00",
          "2016-01-21T13:47:00",
          "2016-01-21T13:52:00",
          "2016-01-21T13:57:00",
          "2016-01-21T14:02:00",
          "2016-01-21T14:07:00",
          "2016-01-21T14:12:00",
          "2016-01-21T14:17:00",
          "2016-01-21T14:22:00",
          "2016-01-21T14:27:00",
          "2016-01-21T14:32:00",
          "2016-01-21T14:37:00",
          "2016-01-21T14:42:00",
          "2016-01-21T14:47:00",
          "2016-01-21T14:52:00"
         ]
        },
        {
         "close": [
          -0.00013636835580012053,
          -0.00008920596223757876,
          -0.00006807091239146321,
          -0.00008574119431919232,
          -0.0002429429775045985,
          -0.000050560076527906086,
          -0.000153948020961285,
          -0.00004597532656777061,
          -0.00003932797655193064,
          -0.00004484907247502466,
          -0.0001697556403771933,
          -0.0001003498722029153,
          -0.00011371478758900503,
          -0.00004077899760846204,
          -0.00006949520209407975,
          -0.0001591813134959735,
          -0.00009703081893633302,
          -0.0001943263325103536,
          -0.00012649177825244963,
          -0.0000727913976371637,
          -0.00004974720672446891,
          -0.00005022471042935498,
          -0.0002416760771520507,
          -0.00018807842842915958,
          -0.00008913538627544486,
          -0.00007682724953484136,
          -0.00008848071849531986,
          -0.000052102549930397685,
          -0.00006130662948000561,
          -0.00041545787057488496,
          -0.00006149543329025733,
          -0.00006619286272049455,
          -0.00016306444704770995,
          -0.0007522287924686128,
          -0.00018503279420206283,
          -0.0002648443470695293,
          -0.000392495987927866,
          -0.00008157033219114736,
          -0.00033604540640421913,
          -0.00011902757479581954,
          -0.00010967827836704018,
          -0.0001998256739954042,
          -0.0003474997098187682,
          -0.00013916356213694952,
          -0.0003176935169135797,
          -0.00073741970677391,
          -0.0003464016865782365,
          -0.0002446492250724521,
          -0.00016553182882000838,
          -0.00011126346983212948
         ],
         "decreasing": {
          "line": {
           "color": "gray"
          }
         },
         "high": [
          0.00012023270793621864,
          0.00010749880592154325,
          0.00004307962402434121,
          0.00006817468240750368,
          0.00019317998187507387,
          0.00006065416927593274,
          0.00015407600734814228,
          0.000056684416359727946,
          0.00003765793934033488,
          0.00004068607824713087,
          0.00014672306624139762,
          0.00011782774663368764,
          0.00011737540280487907,
          0.000038407140150380843,
          0.0000760209739975406,
          0.00022595582147946221,
          0.000031375699154878107,
          0.00020810711085832249,
          0.00012192669679346483,
          0.0000642418331354938,
          0.00012150326463275522,
          0.00006754414798043225,
          0.00024634807688639137,
          0.00015213295524389557,
          0.00021877272269343136,
          0.00006853960964240896,
          0.00007825470910776694,
          0.00005906794724460329,
          0.00007556834400018243,
          0.0004820049342746401,
          0.00008370629059495012,
          0.00006190551701017005,
          0.00009309621832150804,
          0.0007125012246326523,
          0.00014722284122634062,
          0.0002637915289214221,
          0.0005116169342378463,
          0.00009762202274773509,
          0.00043072178918004294,
          0.00012028866566247978,
          0.00012120442142089604,
          0.00023587998382882546,
          0.0003847374353650999,
          0.00015955918696813583,
          0.0002629323799432099,
          0.0005771681373689856,
          0.0003962455005266005,
          0.0002935570234229432,
          0.00014220256463633917,
          0.00009385772332488932
         ],
         "increasing": {
          "line": {
           "color": "gray"
          }
         },
         "low": [
          -0.00013636835580012053,
          -0.00008920596223757876,
          -0.00006807091239146321,
          -0.00008574119431919232,
          -0.0002429429775045985,
          -0.000050560076527906086,
          -0.000153948020961285,
          -0.00004597532656777061,
          -0.00003932797655193064,
          -0.00004484907247502466,
          -0.0001697556403771933,
          -0.0001003498722029153,
          -0.00011371478758900503,
          -0.00004077899760846204,
          -0.00006949520209407975,
          -0.0001591813134959735,
          -0.00009703081893633302,
          -0.0001943263325103536,
          -0.00012649177825244963,
          -0.0000727913976371637,
          -0.00004974720672446891,
          -0.00005022471042935498,
          -0.0002416760771520507,
          -0.00018807842842915958,
          -0.00008913538627544486,
          -0.00007682724953484136,
          -0.00008848071849531986,
          -0.000052102549930397685,
          -0.00006130662948000561,
          -0.00041545787057488496,
          -0.00006149543329025733,
          -0.00006619286272049455,
          -0.00016306444704770995,
          -0.0007522287924686128,
          -0.00018503279420206283,
          -0.0002648443470695293,
          -0.000392495987927866,
          -0.00008157033219114736,
          -0.00033604540640421913,
          -0.00011902757479581954,
          -0.00010967827836704018,
          -0.0001998256739954042,
          -0.0003474997098187682,
          -0.00013916356213694952,
          -0.0003176935169135797,
          -0.00073741970677391,
          -0.0003464016865782365,
          -0.0002446492250724521,
          -0.00016553182882000838,
          -0.00011126346983212948
         ],
         "name": "25-75 quantiles r",
         "open": [
          0.00012023270793621864,
          0.00010749880592154325,
          0.00004307962402434121,
          0.00006817468240750368,
          0.00019317998187507387,
          0.00006065416927593274,
          0.00015407600734814228,
          0.000056684416359727946,
          0.00003765793934033488,
          0.00004068607824713087,
          0.00014672306624139762,
          0.00011782774663368764,
          0.00011737540280487907,
          0.000038407140150380843,
          0.0000760209739975406,
          0.00022595582147946221,
          0.000031375699154878107,
          0.00020810711085832249,
          0.00012192669679346483,
          0.0000642418331354938,
          0.00012150326463275522,
          0.00006754414798043225,
          0.00024634807688639137,
          0.00015213295524389557,
          0.00021877272269343136,
          0.00006853960964240896,
          0.00007825470910776694,
          0.00005906794724460329,
          0.00007556834400018243,
          0.0004820049342746401,
          0.00008370629059495012,
          0.00006190551701017005,
          0.00009309621832150804,
          0.0007125012246326523,
          0.00014722284122634062,
          0.0002637915289214221,
          0.0005116169342378463,
          0.00009762202274773509,
          0.00043072178918004294,
          0.00012028866566247978,
          0.00012120442142089604,
          0.00023587998382882546,
          0.0003847374353650999,
          0.00015955918696813583,
          0.0002629323799432099,
          0.0005771681373689856,
          0.0003962455005266005,
          0.0002935570234229432,
          0.00014220256463633917,
          0.00009385772332488932
         ],
         "type": "candlestick",
         "x": [
          "2016-01-21T10:47:00",
          "2016-01-21T10:52:00",
          "2016-01-21T10:57:00",
          "2016-01-21T11:02:00",
          "2016-01-21T11:07:00",
          "2016-01-21T11:12:00",
          "2016-01-21T11:17:00",
          "2016-01-21T11:22:00",
          "2016-01-21T11:27:00",
          "2016-01-21T11:32:00",
          "2016-01-21T11:37:00",
          "2016-01-21T11:42:00",
          "2016-01-21T11:47:00",
          "2016-01-21T11:52:00",
          "2016-01-21T11:57:00",
          "2016-01-21T12:02:00",
          "2016-01-21T12:07:00",
          "2016-01-21T12:12:00",
          "2016-01-21T12:17:00",
          "2016-01-21T12:22:00",
          "2016-01-21T12:27:00",
          "2016-01-21T12:32:00",
          "2016-01-21T12:37:00",
          "2016-01-21T12:42:00",
          "2016-01-21T12:47:00",
          "2016-01-21T12:52:00",
          "2016-01-21T12:57:00",
          "2016-01-21T13:02:00",
          "2016-01-21T13:07:00",
          "2016-01-21T13:12:00",
          "2016-01-21T13:17:00",
          "2016-01-21T13:22:00",
          "2016-01-21T13:27:00",
          "2016-01-21T13:32:00",
          "2016-01-21T13:37:00",
          "2016-01-21T13:42:00",
          "2016-01-21T13:47:00",
          "2016-01-21T13:52:00",
          "2016-01-21T13:57:00",
          "2016-01-21T14:02:00",
          "2016-01-21T14:07:00",
          "2016-01-21T14:12:00",
          "2016-01-21T14:17:00",
          "2016-01-21T14:22:00",
          "2016-01-21T14:27:00",
          "2016-01-21T14:32:00",
          "2016-01-21T14:37:00",
          "2016-01-21T14:42:00",
          "2016-01-21T14:47:00",
          "2016-01-21T14:52:00"
         ]
        },
        {
         "name": "bar mean",
         "type": "scatter",
         "x": [
          "2016-01-21T10:47:00",
          "2016-01-21T10:52:00",
          "2016-01-21T10:57:00",
          "2016-01-21T11:02:00",
          "2016-01-21T11:07:00",
          "2016-01-21T11:12:00",
          "2016-01-21T11:17:00",
          "2016-01-21T11:22:00",
          "2016-01-21T11:27:00",
          "2016-01-21T11:32:00",
          "2016-01-21T11:37:00",
          "2016-01-21T11:42:00",
          "2016-01-21T11:47:00",
          "2016-01-21T11:52:00",
          "2016-01-21T11:57:00",
          "2016-01-21T12:02:00",
          "2016-01-21T12:07:00",
          "2016-01-21T12:12:00",
          "2016-01-21T12:17:00",
          "2016-01-21T12:22:00",
          "2016-01-21T12:27:00",
          "2016-01-21T12:32:00",
          "2016-01-21T12:37:00",
          "2016-01-21T12:42:00",
          "2016-01-21T12:47:00",
          "2016-01-21T12:52:00",
          "2016-01-21T12:57:00",
          "2016-01-21T13:02:00",
          "2016-01-21T13:07:00",
          "2016-01-21T13:12:00",
          "2016-01-21T13:17:00",
          "2016-01-21T13:22:00",
          "2016-01-21T13:27:00",
          "2016-01-21T13:32:00",
          "2016-01-21T13:37:00",
          "2016-01-21T13:42:00",
          "2016-01-21T13:47:00",
          "2016-01-21T13:52:00",
          "2016-01-21T13:57:00",
          "2016-01-21T14:02:00",
          "2016-01-21T14:07:00",
          "2016-01-21T14:12:00",
          "2016-01-21T14:17:00",
          "2016-01-21T14:22:00",
          "2016-01-21T14:27:00",
          "2016-01-21T14:32:00",
          "2016-01-21T14:37:00",
          "2016-01-21T14:42:00",
          "2016-01-21T14:47:00",
          "2016-01-21T14:52:00"
         ],
         "xaxis": "x",
         "y": [
          116.91394227504253,
          116.9254299802763,
          116.95996130030943,
          116.94802683363149,
          116.94240688575896,
          116.8909098639453,
          116.87399113475172,
          116.89037394957947,
          116.90459753086412,
          116.91124324324319,
          116.91284493041738,
          116.87622792607814,
          116.83728537170259,
          116.81351344086042,
          116.82511850311828,
          116.83759688196007,
          116.8203346228241,
          116.78869291338582,
          116.73876556016602,
          116.76049885057479,
          116.78380952380945,
          116.75311374407588,
          116.79722368421022,
          116.8412232472324,
          116.91042039106149,
          116.94598429319372,
          116.95234756995575,
          116.93709256198353,
          116.89416616766458,
          116.99259539918806,
          117.07719949174094,
          117.09775077881623,
          117.11809624060147,
          117.25942274678127,
          117.38171745788655,
          117.28305764192152,
          117.23500524017476,
          117.19155896452548,
          117.04432559999987,
          116.99992538860124,
          116.94182527472535,
          117.04938713592227,
          117.10468677494202,
          117.16430386740304,
          117.11820178372362,
          117.1563615635179,
          117.14557239627429,
          117.05263333333347,
          116.98536319845839,
          117.00501766004419
         ],
         "yaxis": "y2"
        }
       ],
       "layout": {
        "autosize": false,
        "height": 600,
        "margin": {
         "b": 10,
         "l": 10,
         "r": 10,
         "t": 10
        },
        "template": {
         "data": {
          "bar": [
           {
            "error_x": {
             "color": "#2a3f5f"
            },
            "error_y": {
             "color": "#2a3f5f"
            },
            "marker": {
             "line": {
              "color": "#E5ECF6",
              "width": 0.5
             }
            },
            "type": "bar"
           }
          ],
          "barpolar": [
           {
            "marker": {
             "line": {
              "color": "#E5ECF6",
              "width": 0.5
             }
            },
            "type": "barpolar"
           }
          ],
          "carpet": [
           {
            "aaxis": {
             "endlinecolor": "#2a3f5f",
             "gridcolor": "white",
             "linecolor": "white",
             "minorgridcolor": "white",
             "startlinecolor": "#2a3f5f"
            },
            "baxis": {
             "endlinecolor": "#2a3f5f",
             "gridcolor": "white",
             "linecolor": "white",
             "minorgridcolor": "white",
             "startlinecolor": "#2a3f5f"
            },
            "type": "carpet"
           }
          ],
          "choropleth": [
           {
            "colorbar": {
             "outlinewidth": 0,
             "ticks": ""
            },
            "type": "choropleth"
           }
          ],
          "contour": [
           {
            "colorbar": {
             "outlinewidth": 0,
             "ticks": ""
            },
            "colorscale": [
             [
              0,
              "#0d0887"
             ],
             [
              0.1111111111111111,
              "#46039f"
             ],
             [
              0.2222222222222222,
              "#7201a8"
             ],
             [
              0.3333333333333333,
              "#9c179e"
             ],
             [
              0.4444444444444444,
              "#bd3786"
             ],
             [
              0.5555555555555556,
              "#d8576b"
             ],
             [
              0.6666666666666666,
              "#ed7953"
             ],
             [
              0.7777777777777778,
              "#fb9f3a"
             ],
             [
              0.8888888888888888,
              "#fdca26"
             ],
             [
              1,
              "#f0f921"
             ]
            ],
            "type": "contour"
           }
          ],
          "contourcarpet": [
           {
            "colorbar": {
             "outlinewidth": 0,
             "ticks": ""
            },
            "type": "contourcarpet"
           }
          ],
          "heatmap": [
           {
            "colorbar": {
             "outlinewidth": 0,
             "ticks": ""
            },
            "colorscale": [
             [
              0,
              "#0d0887"
             ],
             [
              0.1111111111111111,
              "#46039f"
             ],
             [
              0.2222222222222222,
              "#7201a8"
             ],
             [
              0.3333333333333333,
              "#9c179e"
             ],
             [
              0.4444444444444444,
              "#bd3786"
             ],
             [
              0.5555555555555556,
              "#d8576b"
             ],
             [
              0.6666666666666666,
              "#ed7953"
             ],
             [
              0.7777777777777778,
              "#fb9f3a"
             ],
             [
              0.8888888888888888,
              "#fdca26"
             ],
             [
              1,
              "#f0f921"
             ]
            ],
            "type": "heatmap"
           }
          ],
          "heatmapgl": [
           {
            "colorbar": {
             "outlinewidth": 0,
             "ticks": ""
            },
            "colorscale": [
             [
              0,
              "#0d0887"
             ],
             [
              0.1111111111111111,
              "#46039f"
             ],
             [
              0.2222222222222222,
              "#7201a8"
             ],
             [
              0.3333333333333333,
              "#9c179e"
             ],
             [
              0.4444444444444444,
              "#bd3786"
             ],
             [
              0.5555555555555556,
              "#d8576b"
             ],
             [
              0.6666666666666666,
              "#ed7953"
             ],
             [
              0.7777777777777778,
              "#fb9f3a"
             ],
             [
              0.8888888888888888,
              "#fdca26"
             ],
             [
              1,
              "#f0f921"
             ]
            ],
            "type": "heatmapgl"
           }
          ],
          "histogram": [
           {
            "marker": {
             "colorbar": {
              "outlinewidth": 0,
              "ticks": ""
             }
            },
            "type": "histogram"
           }
          ],
          "histogram2d": [
           {
            "colorbar": {
             "outlinewidth": 0,
             "ticks": ""
            },
            "colorscale": [
             [
              0,
              "#0d0887"
             ],
             [
              0.1111111111111111,
              "#46039f"
             ],
             [
              0.2222222222222222,
              "#7201a8"
             ],
             [
              0.3333333333333333,
              "#9c179e"
             ],
             [
              0.4444444444444444,
              "#bd3786"
             ],
             [
              0.5555555555555556,
              "#d8576b"
             ],
             [
              0.6666666666666666,
              "#ed7953"
             ],
             [
              0.7777777777777778,
              "#fb9f3a"
             ],
             [
              0.8888888888888888,
              "#fdca26"
             ],
             [
              1,
              "#f0f921"
             ]
            ],
            "type": "histogram2d"
           }
          ],
          "histogram2dcontour": [
           {
            "colorbar": {
             "outlinewidth": 0,
             "ticks": ""
            },
            "colorscale": [
             [
              0,
              "#0d0887"
             ],
             [
              0.1111111111111111,
              "#46039f"
             ],
             [
              0.2222222222222222,
              "#7201a8"
             ],
             [
              0.3333333333333333,
              "#9c179e"
             ],
             [
              0.4444444444444444,
              "#bd3786"
             ],
             [
              0.5555555555555556,
              "#d8576b"
             ],
             [
              0.6666666666666666,
              "#ed7953"
             ],
             [
              0.7777777777777778,
              "#fb9f3a"
             ],
             [
              0.8888888888888888,
              "#fdca26"
             ],
             [
              1,
              "#f0f921"
             ]
            ],
            "type": "histogram2dcontour"
           }
          ],
          "mesh3d": [
           {
            "colorbar": {
             "outlinewidth": 0,
             "ticks": ""
            },
            "type": "mesh3d"
           }
          ],
          "parcoords": [
           {
            "line": {
             "colorbar": {
              "outlinewidth": 0,
              "ticks": ""
             }
            },
            "type": "parcoords"
           }
          ],
          "pie": [
           {
            "automargin": true,
            "type": "pie"
           }
          ],
          "scatter": [
           {
            "marker": {
             "colorbar": {
              "outlinewidth": 0,
              "ticks": ""
             }
            },
            "type": "scatter"
           }
          ],
          "scatter3d": [
           {
            "line": {
             "colorbar": {
              "outlinewidth": 0,
              "ticks": ""
             }
            },
            "marker": {
             "colorbar": {
              "outlinewidth": 0,
              "ticks": ""
             }
            },
            "type": "scatter3d"
           }
          ],
          "scattercarpet": [
           {
            "marker": {
             "colorbar": {
              "outlinewidth": 0,
              "ticks": ""
             }
            },
            "type": "scattercarpet"
           }
          ],
          "scattergeo": [
           {
            "marker": {
             "colorbar": {
              "outlinewidth": 0,
              "ticks": ""
             }
            },
            "type": "scattergeo"
           }
          ],
          "scattergl": [
           {
            "marker": {
             "colorbar": {
              "outlinewidth": 0,
              "ticks": ""
             }
            },
            "type": "scattergl"
           }
          ],
          "scattermapbox": [
           {
            "marker": {
             "colorbar": {
              "outlinewidth": 0,
              "ticks": ""
             }
            },
            "type": "scattermapbox"
           }
          ],
          "scatterpolar": [
           {
            "marker": {
             "colorbar": {
              "outlinewidth": 0,
              "ticks": ""
             }
            },
            "type": "scatterpolar"
           }
          ],
          "scatterpolargl": [
           {
            "marker": {
             "colorbar": {
              "outlinewidth": 0,
              "ticks": ""
             }
            },
            "type": "scatterpolargl"
           }
          ],
          "scatterternary": [
           {
            "marker": {
             "colorbar": {
              "outlinewidth": 0,
              "ticks": ""
             }
            },
            "type": "scatterternary"
           }
          ],
          "surface": [
           {
            "colorbar": {
             "outlinewidth": 0,
             "ticks": ""
            },
            "colorscale": [
             [
              0,
              "#0d0887"
             ],
             [
              0.1111111111111111,
              "#46039f"
             ],
             [
              0.2222222222222222,
              "#7201a8"
             ],
             [
              0.3333333333333333,
              "#9c179e"
             ],
             [
              0.4444444444444444,
              "#bd3786"
             ],
             [
              0.5555555555555556,
              "#d8576b"
             ],
             [
              0.6666666666666666,
              "#ed7953"
             ],
             [
              0.7777777777777778,
              "#fb9f3a"
             ],
             [
              0.8888888888888888,
              "#fdca26"
             ],
             [
              1,
              "#f0f921"
             ]
            ],
            "type": "surface"
           }
          ],
          "table": [
           {
            "cells": {
             "fill": {
              "color": "#EBF0F8"
             },
             "line": {
              "color": "white"
             }
            },
            "header": {
             "fill": {
              "color": "#C8D4E3"
             },
             "line": {
              "color": "white"
             }
            },
            "type": "table"
           }
          ]
         },
         "layout": {
          "annotationdefaults": {
           "arrowcolor": "#2a3f5f",
           "arrowhead": 0,
           "arrowwidth": 1
          },
          "coloraxis": {
           "colorbar": {
            "outlinewidth": 0,
            "ticks": ""
           }
          },
          "colorscale": {
           "diverging": [
            [
             0,
             "#8e0152"
            ],
            [
             0.1,
             "#c51b7d"
            ],
            [
             0.2,
             "#de77ae"
            ],
            [
             0.3,
             "#f1b6da"
            ],
            [
             0.4,
             "#fde0ef"
            ],
            [
             0.5,
             "#f7f7f7"
            ],
            [
             0.6,
             "#e6f5d0"
            ],
            [
             0.7,
             "#b8e186"
            ],
            [
             0.8,
             "#7fbc41"
            ],
            [
             0.9,
             "#4d9221"
            ],
            [
             1,
             "#276419"
            ]
           ],
           "sequential": [
            [
             0,
             "#0d0887"
            ],
            [
             0.1111111111111111,
             "#46039f"
            ],
            [
             0.2222222222222222,
             "#7201a8"
            ],
            [
             0.3333333333333333,
             "#9c179e"
            ],
            [
             0.4444444444444444,
             "#bd3786"
            ],
            [
             0.5555555555555556,
             "#d8576b"
            ],
            [
             0.6666666666666666,
             "#ed7953"
            ],
            [
             0.7777777777777778,
             "#fb9f3a"
            ],
            [
             0.8888888888888888,
             "#fdca26"
            ],
            [
             1,
             "#f0f921"
            ]
           ],
           "sequentialminus": [
            [
             0,
             "#0d0887"
            ],
            [
             0.1111111111111111,
             "#46039f"
            ],
            [
             0.2222222222222222,
             "#7201a8"
            ],
            [
             0.3333333333333333,
             "#9c179e"
            ],
            [
             0.4444444444444444,
             "#bd3786"
            ],
            [
             0.5555555555555556,
             "#d8576b"
            ],
            [
             0.6666666666666666,
             "#ed7953"
            ],
            [
             0.7777777777777778,
             "#fb9f3a"
            ],
            [
             0.8888888888888888,
             "#fdca26"
            ],
            [
             1,
             "#f0f921"
            ]
           ]
          },
          "colorway": [
           "#636efa",
           "#EF553B",
           "#00cc96",
           "#ab63fa",
           "#FFA15A",
           "#19d3f3",
           "#FF6692",
           "#B6E880",
           "#FF97FF",
           "#FECB52"
          ],
          "font": {
           "color": "#2a3f5f"
          },
          "geo": {
           "bgcolor": "white",
           "lakecolor": "white",
           "landcolor": "#E5ECF6",
           "showlakes": true,
           "showland": true,
           "subunitcolor": "white"
          },
          "hoverlabel": {
           "align": "left"
          },
          "hovermode": "closest",
          "mapbox": {
           "style": "light"
          },
          "paper_bgcolor": "white",
          "plot_bgcolor": "#E5ECF6",
          "polar": {
           "angularaxis": {
            "gridcolor": "white",
            "linecolor": "white",
            "ticks": ""
           },
           "bgcolor": "#E5ECF6",
           "radialaxis": {
            "gridcolor": "white",
            "linecolor": "white",
            "ticks": ""
           }
          },
          "scene": {
           "xaxis": {
            "backgroundcolor": "#E5ECF6",
            "gridcolor": "white",
            "gridwidth": 2,
            "linecolor": "white",
            "showbackground": true,
            "ticks": "",
            "zerolinecolor": "white"
           },
           "yaxis": {
            "backgroundcolor": "#E5ECF6",
            "gridcolor": "white",
            "gridwidth": 2,
            "linecolor": "white",
            "showbackground": true,
            "ticks": "",
            "zerolinecolor": "white"
           },
           "zaxis": {
            "backgroundcolor": "#E5ECF6",
            "gridcolor": "white",
            "gridwidth": 2,
            "linecolor": "white",
            "showbackground": true,
            "ticks": "",
            "zerolinecolor": "white"
           }
          },
          "shapedefaults": {
           "line": {
            "color": "#2a3f5f"
           }
          },
          "ternary": {
           "aaxis": {
            "gridcolor": "white",
            "linecolor": "white",
            "ticks": ""
           },
           "baxis": {
            "gridcolor": "white",
            "linecolor": "white",
            "ticks": ""
           },
           "bgcolor": "#E5ECF6",
           "caxis": {
            "gridcolor": "white",
            "linecolor": "white",
            "ticks": ""
           }
          },
          "title": {
           "x": 0.05
          },
          "xaxis": {
           "automargin": true,
           "gridcolor": "white",
           "linecolor": "white",
           "ticks": "",
           "title": {
            "standoff": 15
           },
           "zerolinecolor": "white",
           "zerolinewidth": 2
          },
          "yaxis": {
           "automargin": true,
           "gridcolor": "white",
           "linecolor": "white",
           "ticks": "",
           "title": {
            "standoff": 15
           },
           "zerolinecolor": "white",
           "zerolinewidth": 2
          }
         }
        },
        "width": 1200,
        "xaxis": {
         "anchor": "y",
         "domain": [
          0,
          0.94
         ],
         "rangeslider": {
          "visible": false
         }
        },
        "yaxis": {
         "anchor": "x",
         "domain": [
          0,
          1
         ]
        },
        "yaxis2": {
         "anchor": "x",
         "overlaying": "y",
         "side": "right"
        }
       }
      }
     },
     "metadata": {}
    }
   ],
   "source": [
    "# Fig4\n",
    "fig4 = make_subplots(specs=[[{\"secondary_y\": True}]])\n",
    "fig4.add_trace(go.Candlestick(x=df_5m_aux[5050:5100].index,\n",
    "                open=df_5m['first_r'][5050:5100],\n",
    "                high=df_5m['max_r'][5050:5100],\n",
    "                low=df_5m['min_r'][5050:5100],\n",
    "                close=df_5m['last_r'][5050:5100],\n",
    "                increasing_line_color= 'red', decreasing_line_color= 'blue',\n",
    "                name=\"OHLC r\"))\n",
    "fig4.add_trace(go.Candlestick(x=df_5m[5050:5100].index,\n",
    "                open=df_5m[5050:5100]['bar_quantile_75_r'],\n",
    "                high=df_5m[5050:5100]['bar_quantile_75_r'],\n",
    "                low=df_5m[5050:5100]['bar_quantile_25_r'],\n",
    "                close=df_5m[5050:5100]['bar_quantile_25_r'],\n",
    "                increasing_line_color= 'gray', decreasing_line_color= 'gray',\n",
    "                name=\"25-75 quantiles r\"))\n",
    "fig4.add_trace(go.Scatter(\n",
    "                x=df_5m[5050:5100].index,\n",
    "                y=df_5m[5050:5100]['mean'],\n",
    "                name=\"bar mean\"),\n",
    "                secondary_y=True)\n",
    "\n",
    "fig4.update(layout_xaxis_rangeslider_visible=False)\n",
    "fig4.update_layout(\n",
    "    autosize=False,\n",
    "    width=1200,\n",
    "    height=600,\n",
    "    margin=dict(l=10,r=10,b=10,t=10))\n",
    "fig4.show()\n",
    "\n",
    "# Fig5\n",
    "fig5 = make_subplots(specs=[[{\"secondary_y\": True}]])\n",
    "fig5.add_trace(go.Candlestick(x=df_5m_sft2[5050:5100].index,\n",
    "                open=df_5m_sft2['first_r'][5050:5100],\n",
    "                high=df_5m_sft2['max_r'][5050:5100],\n",
    "                low=df_5m_sft2['min_r'][5050:5100],\n",
    "                close=df_5m_sft2['last_r'][5050:5100],\n",
    "                increasing_line_color= 'red', decreasing_line_color= 'blue',\n",
    "                name=\"OHLC r\"))\n",
    "fig5.add_trace(go.Candlestick(x=df_5m_sft2[5050:5100].index,\n",
    "                open=df_5m_sft2[5050:5100]['bar_quantile_75_r'],\n",
    "                high=df_5m_sft2[5050:5100]['bar_quantile_75_r'],\n",
    "                low=df_5m_sft2[5050:5100]['bar_quantile_25_r'],\n",
    "                close=df_5m_sft2[5050:5100]['bar_quantile_25_r'],\n",
    "                increasing_line_color= 'gray', decreasing_line_color= 'gray',\n",
    "                name=\"25-75 quantiles r\"))\n",
    "fig5.add_trace(go.Scatter(\n",
    "                x=df_5m_sft2[5050:5100].index,\n",
    "                y=df_5m_sft2[5050:5100]['mean'],\n",
    "                name=\"bar mean\"),\n",
    "                secondary_y=True)\n",
    "\n",
    "fig5.update(layout_xaxis_rangeslider_visible=False)\n",
    "fig5.update_layout(\n",
    "    autosize=False,\n",
    "    width=1200,\n",
    "    height=600,\n",
    "    margin=dict(l=10,r=10,b=10,t=10))\n",
    "fig5.show()"
   ]
  },
  {
   "cell_type": "markdown",
   "metadata": {},
   "source": [
    "## Sacrilege!!!"
   ]
  },
  {
   "cell_type": "markdown",
   "metadata": {},
   "source": [
    "Let's break some rules, or at least sacrifice some advantage of the bars sampled after equal time periods, certain tick numbers, or predefined volumes.\n",
    "\n",
    "Let's build a bar sequence, where the bars further in the past cover larger and larger ranges. \n",
    "\n",
    "But why would we do that? Because we want to enable our model to process a sequence of a very long period. If we use equally sampled bars, then for our forecast the last bar of the past denoted as \"t\" is the most important, and the earlier bar at \"t-1\" is probably very important as well. The bar at \"t-46\" and \"t-47\" alone can be relativelly unimportant, but some characteristic of the range between \"t-40\" and \"t-50\" can be usefull for the model. We can sample this full range as one bar. \n",
    "\n",
    "The range of a full input sequence can be very large this way. In the following calculations there are some simple examples how large ranges can be processed with this teqhnique. For example if our last bar is a one minute bar, and every earlier bar is longer by 1.1, then a 20 bar sequence is almost an hour. Instead of 60 1 minute bars we can use only 20 not equal length bars. But if our sequence is 100 bar long, then the range of our full sequence is 137796 minutes. This is more than 95 days!\n",
    "\n",
    "These bar types have their strong disadvantages. These bars will distort or even abolish seasonality. If we have clearly seasonal data probably we should use other sampling methods. These bars need more computation power than the regularly sampled bars, because we need to calculate more bars of different ranges.\n",
    "\n",
    "I have to admit that I didn't use this bar type earlier. This article is part of a squence of loosly/closly related articles I wrote and will write, and this idea belongs here. In the code below I show a simple implementation of these bars. Live implementation for model training will come later."
   ]
  },
  {
   "cell_type": "code",
   "execution_count": 32,
   "metadata": {},
   "outputs": [],
   "source": [
    "# calculate exponentialy growing numbers\n",
    "bar_ranger = lambda start_bar, p_base, steps : [start_bar*p_base**i for i in range(steps)]"
   ]
  },
  {
   "cell_type": "code",
   "execution_count": 33,
   "metadata": {},
   "outputs": [
    {
     "output_type": "stream",
     "name": "stdout",
     "text": "[1.0, 1.1, 1.2100000000000002, 1.3310000000000004, 1.4641000000000004, 1.6105100000000006, 1.7715610000000008, 1.9487171000000012, 2.1435888100000016, 2.357947691000002, 2.5937424601000023, 2.8531167061100025, 3.138428376721003, 3.452271214393104, 3.7974983358324144, 4.177248169415656, 4.594972986357222, 5.054470284992945, 5.55991731349224, 6.115909044841464]\n57.27499949325606\n"
    }
   ],
   "source": [
    "# just an example of ranges and the sum of ranges\n",
    "print(bar_ranger(1,1.1,20))\n",
    "print(sum(bar_ranger(1,1.1,20)))"
   ]
  },
  {
   "cell_type": "code",
   "execution_count": 34,
   "metadata": {},
   "outputs": [
    {
     "output_type": "stream",
     "name": "stdout",
     "text": "137796.12339822372\n"
    }
   ],
   "source": [
    "# an other example\n",
    "print(sum(bar_ranger(1,1.1,100)))"
   ]
  },
  {
   "cell_type": "code",
   "execution_count": 35,
   "metadata": {},
   "outputs": [
    {
     "output_type": "stream",
     "name": "stdout",
     "text": "2868.8507820769573\n"
    }
   ],
   "source": [
    "# our working example: sum of ranges\n",
    "print(sum(bar_ranger(5,1.08,50)))"
   ]
  },
  {
   "cell_type": "code",
   "execution_count": 36,
   "metadata": {},
   "outputs": [
    {
     "output_type": "execute_result",
     "data": {
      "text/plain": "[0,\n 5.0,\n 5.4,\n 5.832000000000001,\n 6.298560000000001,\n 6.802444800000002,\n 7.346640384000002,\n 7.9343716147200025,\n 8.569121343897605,\n 9.254651051409413,\n 9.995023135522166,\n 10.79462498636394,\n 11.658194985273056,\n 12.590850584094902,\n 13.598118630822496,\n 14.685968121288296,\n 15.86084557099136,\n 17.12971321667067,\n 18.500090274004325,\n 19.98009749592467,\n 21.578505295598646,\n 23.304785719246542,\n 25.169168576786266,\n 27.18270206292917,\n 29.357318227963503,\n 31.705903686200585,\n 34.242375981096636,\n 36.981766059584366,\n 39.940307344351126,\n 43.135531931899216,\n 46.586374486451156,\n 50.31328444536725,\n 54.33834720099664,\n 58.68541497707636,\n 63.380248175242485,\n 68.45066802926189,\n 73.92672147160285,\n 79.84085918933107,\n 86.22812792447758,\n 93.12637815843578,\n 100.57648841111063,\n 108.6226074839995,\n 117.31241608271947,\n 126.69740936933704,\n 136.833202118884,\n 147.77985828839473,\n 159.60224695146633,\n 172.37042670758365,\n 186.16006084419035,\n 201.0528657117256,\n 217.13709496866363]"
     },
     "metadata": {},
     "execution_count": 36
    }
   ],
   "source": [
    "# ranges\n",
    "bar_times = bar_ranger(5,1.08,50)\n",
    "# starting zero for later calculations\n",
    "bar_times.insert(0, 0)\n",
    "bar_times"
   ]
  },
  {
   "cell_type": "code",
   "execution_count": 37,
   "metadata": {},
   "outputs": [
    {
     "output_type": "execute_result",
     "data": {
      "text/plain": "TimedeltaIndex([       '00:00:00',        '00:05:00',        '00:05:24',\n                '00:05:49.920000', '00:06:17.913600', '00:06:48.146688',\n                '00:07:20.798423', '00:07:56.062296', '00:08:34.147280',\n                '00:09:15.279063', '00:09:59.701388', '00:10:47.677499',\n                '00:11:39.491699', '00:12:35.451035', '00:13:35.887117',\n                '00:14:41.158087', '00:15:51.650734', '00:17:07.782793',\n                '00:18:30.005416', '00:19:58.805849', '00:21:34.710317',\n                '00:23:18.287143', '00:25:10.150114', '00:27:10.962123',\n                '00:29:21.439093', '00:31:42.354221', '00:34:14.542558',\n                '00:36:58.905963', '00:39:56.418440', '00:43:08.131915',\n                '00:46:35.182469', '00:50:18.797066', '00:54:20.300832',\n                '00:58:41.124898', '01:03:22.814890', '01:08:27.040081',\n                '01:13:55.603288', '01:19:50.451551', '01:26:13.687675',\n                '01:33:07.582689', '01:40:34.589304', '01:48:37.356449',\n                '01:57:18.744964', '02:06:41.844562', '02:16:49.992127',\n                '02:27:46.791497', '02:39:36.134817', '02:52:22.225602',\n                '03:06:09.603650', '03:21:03.171942', '03:37:08.225698'],\n               dtype='timedelta64[ns]', freq=None)"
     },
     "metadata": {},
     "execution_count": 37
    }
   ],
   "source": [
    "# ranges to timedelta\n",
    "bar_times = pd.to_timedelta(bar_times, unit='min')\n",
    "bar_times"
   ]
  },
  {
   "cell_type": "code",
   "execution_count": 38,
   "metadata": {},
   "outputs": [
    {
     "output_type": "execute_result",
     "data": {
      "text/plain": "TimedeltaIndex([       '0 days 00:00:00',        '0 days 00:05:00',\n                       '0 days 00:10:24', '0 days 00:16:13.920000',\n                '0 days 00:22:31.833600', '0 days 00:29:19.980288',\n                '0 days 00:36:40.778711', '0 days 00:44:36.841007',\n                '0 days 00:53:10.988288', '0 days 01:02:26.267351',\n                '0 days 01:12:25.968739', '0 days 01:23:13.646238',\n                '0 days 01:34:53.137938', '0 days 01:47:28.588973',\n                '0 days 02:01:04.476090', '0 days 02:15:45.634178',\n                '0 days 02:31:37.284912', '0 days 02:48:45.067705',\n                '0 days 03:07:15.073121', '0 days 03:27:13.878971',\n                '0 days 03:48:48.589289', '0 days 04:12:06.876432',\n                '0 days 04:37:17.026547', '0 days 05:04:27.988670',\n                '0 days 05:33:49.427764', '0 days 06:05:31.781985',\n                '0 days 06:39:46.324544', '0 days 07:16:45.230508',\n                '0 days 07:56:41.648948', '0 days 08:39:49.780864',\n                '0 days 09:26:24.963334', '0 days 10:16:43.760400',\n                '0 days 11:11:04.061232', '0 days 12:09:45.186131',\n                '0 days 13:13:08.001021', '0 days 14:21:35.041103',\n                '0 days 15:35:30.644391', '0 days 16:55:21.095943',\n                '0 days 18:21:34.783618', '0 days 19:54:42.366308',\n                '0 days 21:35:16.955612', '0 days 23:23:54.312061',\n                '1 days 01:21:13.057026', '1 days 03:27:54.901589',\n                '1 days 05:44:44.893716', '1 days 08:12:31.685213',\n                '1 days 10:52:07.820030', '1 days 13:44:30.045632',\n                '1 days 16:50:39.649283', '1 days 20:11:42.821226',\n                '1 days 23:48:51.046924'],\n               dtype='timedelta64[ns]', freq=None)"
     },
     "metadata": {},
     "execution_count": 38
    }
   ],
   "source": [
    "# cumulative sum of ranges\n",
    "cumsum_range = np.cumsum(bar_times)\n",
    "cumsum_range"
   ]
  },
  {
   "cell_type": "code",
   "execution_count": 39,
   "metadata": {},
   "outputs": [],
   "source": [
    "def exp_resampler(i, cumsum_range, df, column_name):\n",
    "    '''\n",
    "    This function creates bars from tickdata\n",
    "    The start and end dates of the bars are calculated from the subsequent cumsum ranges\n",
    "    The cumsum_range can be any increasing timedelta series, so we can sample unequel length bars\n",
    "\n",
    "    Parameters:\n",
    "    i (int): index of the starting tick\n",
    "    cumsum_range (TimedeltaIndex): bar time borders\n",
    "    df (Dataframe): dataframe with tickdata\n",
    "    column_name (string): name of column to sample\n",
    "\n",
    "    Return:\n",
    "    df_data (Dataframe): dataframe of sampled candles\n",
    "    '''\n",
    "    df_data = pd.DataFrame(columns=[    \"start\", \n",
    "                                        \"end\", \n",
    "                                        \"timedelta\",\n",
    "                                        \"ticks\", \"open\", \"high\", \"low\", \"close\", \"mean\", \"std\"])\n",
    "    seq_limits = [(df[i:i+1].index - st) for st in cumsum_range]\n",
    "    for idx, limit in enumerate(seq_limits):\n",
    "        if idx>0:\n",
    "            df_work = df.loc[seq_limits[idx][0] : seq_limits[idx-1][0]]\n",
    "            row = { \"start\" :seq_limits[idx][0],\n",
    "                    \"end\" : seq_limits[idx-1][0],\n",
    "                    \"timedelta\" : seq_limits[idx-1][0] - seq_limits[idx][0],\n",
    "                    \"ticks\" : df_work[column_name].shape[0], \n",
    "                    \"open\" : df_work[column_name].iloc[0], \n",
    "                    \"high\" : df_work[column_name].max(), \n",
    "                    \"low\" : df_work[column_name].min(), \n",
    "                    \"close\" : df_work[column_name].iloc[-1], \n",
    "                    \"mean\" : df_work[column_name].mean(),\n",
    "                    \"std\" : df_work[column_name].std()}        \n",
    "            df_data = df_data.append(row, ignore_index=True)\n",
    "    return df_data"
   ]
  },
  {
   "cell_type": "code",
   "execution_count": 40,
   "metadata": {},
   "outputs": [
    {
     "output_type": "execute_result",
     "data": {
      "text/plain": "Ask price    118.46\nName: 2016-01-26 21:13:54, dtype: float64"
     },
     "metadata": {},
     "execution_count": 40
    }
   ],
   "source": [
    "# check last tick to sample, and the time of the last tick\n",
    "df.iloc[2000000]"
   ]
  },
  {
   "cell_type": "code",
   "execution_count": 41,
   "metadata": {
    "tags": [
     "outputPrepend"
    ]
   },
   "outputs": [
    {
     "output_type": "execute_result",
     "data": {
      "text/plain": "(50, 10)"
     },
     "metadata": {},
     "execution_count": 41
    }
   ],
   "source": [
    "# sample one sequence\n",
    "df_exp = exp_resampler(2000000, cumsum_range, df, 'Ask price')\n",
    "df_exp.shape"
   ]
  },
  {
   "cell_type": "code",
   "execution_count": 42,
   "metadata": {},
   "outputs": [
    {
     "output_type": "display_data",
     "data": {
      "application/vnd.plotly.v1+json": {
       "config": {
        "plotlyServerURL": "https://plot.ly"
       },
       "data": [
        {
         "close": [
          118.46,
          118.47,
          118.464,
          118.42299999999999,
          118.43700000000001,
          118.459,
          118.428,
          118.421,
          118.43299999999999,
          118.413,
          118.45200000000001,
          118.492,
          118.476,
          118.492,
          118.54899999999999,
          118.556,
          118.56200000000001,
          118.57700000000001,
          118.51,
          118.53299999999999,
          118.559,
          118.52600000000001,
          118.492,
          118.505,
          118.523,
          118.52600000000001,
          118.512,
          118.507,
          118.316,
          118.40899999999999,
          118.447,
          118.397,
          118.204,
          118.045,
          117.80799999999999,
          117.80799999999999,
          118.072,
          118.11200000000001,
          118.20700000000001,
          118.07600000000001,
          118.351,
          118.31200000000001,
          118.48299999999999,
          118.566,
          118.54,
          118.561,
          118.37700000000001,
          118.568,
          118.669,
          118.574
         ],
         "decreasing": {
          "line": {
           "color": "blue"
          }
         },
         "high": [
          118.473,
          118.47200000000001,
          118.465,
          118.449,
          118.464,
          118.464,
          118.44200000000001,
          118.455,
          118.465,
          118.456,
          118.505,
          118.51700000000001,
          118.52,
          118.56,
          118.579,
          118.58,
          118.589,
          118.6,
          118.587,
          118.624,
          118.561,
          118.536,
          118.521,
          118.54799999999999,
          118.601,
          118.595,
          118.613,
          118.527,
          118.43700000000001,
          118.488,
          118.447,
          118.42,
          118.23899999999999,
          118.12100000000001,
          117.90700000000001,
          118.118,
          118.15100000000001,
          118.275,
          118.228,
          118.35700000000001,
          118.36200000000001,
          118.531,
          118.637,
          118.64399999999999,
          118.65700000000001,
          118.588,
          118.587,
          118.852,
          118.859,
          118.79799999999999
         ],
         "increasing": {
          "line": {
           "color": "red"
          }
         },
         "low": [
          118.459,
          118.44200000000001,
          118.42200000000001,
          118.40799999999999,
          118.43299999999999,
          118.428,
          118.399,
          118.41799999999999,
          118.40299999999999,
          118.397,
          118.45,
          118.475,
          118.459,
          118.492,
          118.541,
          118.53399999999999,
          118.53399999999999,
          118.49700000000001,
          118.51,
          118.527,
          118.476,
          118.469,
          118.416,
          118.39399999999999,
          118.47399999999999,
          118.37799999999999,
          118.46,
          118.28399999999999,
          118.28,
          118.335,
          118.27600000000001,
          118.197,
          118.023,
          117.796,
          117.66,
          117.785,
          117.965,
          118.08,
          118.03399999999999,
          118.01799999999999,
          118.29799999999999,
          118.291,
          118.455,
          118.459,
          118.33200000000001,
          118.333,
          118.17399999999999,
          118.546,
          118.469,
          118.434
         ],
         "name": "OHLC exp",
         "open": [
          118.47200000000001,
          118.465,
          118.42399999999999,
          118.436,
          118.46,
          118.428,
          118.421,
          118.431,
          118.413,
          118.45200000000001,
          118.492,
          118.475,
          118.491,
          118.54899999999999,
          118.557,
          118.56200000000001,
          118.57700000000001,
          118.51100000000001,
          118.53399999999999,
          118.55799999999999,
          118.525,
          118.492,
          118.505,
          118.524,
          118.525,
          118.51100000000001,
          118.505,
          118.31700000000001,
          118.40899999999999,
          118.447,
          118.395,
          118.20299999999999,
          118.045,
          117.809,
          117.80799999999999,
          118.071,
          118.11200000000001,
          118.209,
          118.074,
          118.35,
          118.31200000000001,
          118.48299999999999,
          118.565,
          118.54,
          118.561,
          118.37799999999999,
          118.569,
          118.67,
          118.574,
          118.68299999999999
         ],
         "type": "candlestick",
         "x": [
          "2016-01-26T21:08:54",
          "2016-01-26T21:03:30",
          "2016-01-26T20:57:40.080000",
          "2016-01-26T20:51:22.166400",
          "2016-01-26T20:44:34.019712",
          "2016-01-26T20:37:13.221288",
          "2016-01-26T20:29:17.158992",
          "2016-01-26T20:20:43.011711",
          "2016-01-26T20:11:27.732648",
          "2016-01-26T20:01:28.031260",
          "2016-01-26T19:50:40.353761",
          "2016-01-26T19:39:00.862061",
          "2016-01-26T19:26:25.411026",
          "2016-01-26T19:12:49.523909",
          "2016-01-26T18:58:08.365821",
          "2016-01-26T18:42:16.715087",
          "2016-01-26T18:25:08.932294",
          "2016-01-26T18:06:38.926878",
          "2016-01-26T17:46:40.121028",
          "2016-01-26T17:25:05.410710",
          "2016-01-26T17:01:47.123567",
          "2016-01-26T16:36:36.973452",
          "2016-01-26T16:09:26.011329",
          "2016-01-26T15:40:04.572235",
          "2016-01-26T15:08:22.218014",
          "2016-01-26T14:34:07.675455",
          "2016-01-26T13:57:08.769491",
          "2016-01-26T13:17:12.351051",
          "2016-01-26T12:34:04.219135",
          "2016-01-26T11:47:29.036665",
          "2016-01-26T10:57:10.239599",
          "2016-01-26T10:02:49.938767",
          "2016-01-26T09:04:08.813868",
          "2016-01-26T08:00:45.998978",
          "2016-01-26T06:52:18.958896",
          "2016-01-26T05:38:23.355608",
          "2016-01-26T04:18:32.904056",
          "2016-01-26T02:52:19.216381",
          "2016-01-26T01:19:11.633691",
          "2016-01-25T23:38:37.044387",
          "2016-01-25T21:49:59.687938",
          "2016-01-25T19:52:40.942973",
          "2016-01-25T17:45:59.098410",
          "2016-01-25T15:29:09.106283",
          "2016-01-25T13:01:22.314786",
          "2016-01-25T10:21:46.179969",
          "2016-01-25T07:29:23.954367",
          "2016-01-25T04:23:14.350716",
          "2016-01-25T01:02:11.178773",
          "2016-01-24T21:25:02.953075"
         ]
        },
        {
         "marker": {
          "color": "purple"
         },
         "name": "bar mean",
         "type": "scatter",
         "x": [
          "2016-01-26T21:08:54",
          "2016-01-26T21:03:30",
          "2016-01-26T20:57:40.080000",
          "2016-01-26T20:51:22.166400",
          "2016-01-26T20:44:34.019712",
          "2016-01-26T20:37:13.221288",
          "2016-01-26T20:29:17.158992",
          "2016-01-26T20:20:43.011711",
          "2016-01-26T20:11:27.732648",
          "2016-01-26T20:01:28.031260",
          "2016-01-26T19:50:40.353761",
          "2016-01-26T19:39:00.862061",
          "2016-01-26T19:26:25.411026",
          "2016-01-26T19:12:49.523909",
          "2016-01-26T18:58:08.365821",
          "2016-01-26T18:42:16.715087",
          "2016-01-26T18:25:08.932294",
          "2016-01-26T18:06:38.926878",
          "2016-01-26T17:46:40.121028",
          "2016-01-26T17:25:05.410710",
          "2016-01-26T17:01:47.123567",
          "2016-01-26T16:36:36.973452",
          "2016-01-26T16:09:26.011329",
          "2016-01-26T15:40:04.572235",
          "2016-01-26T15:08:22.218014",
          "2016-01-26T14:34:07.675455",
          "2016-01-26T13:57:08.769491",
          "2016-01-26T13:17:12.351051",
          "2016-01-26T12:34:04.219135",
          "2016-01-26T11:47:29.036665",
          "2016-01-26T10:57:10.239599",
          "2016-01-26T10:02:49.938767",
          "2016-01-26T09:04:08.813868",
          "2016-01-26T08:00:45.998978",
          "2016-01-26T06:52:18.958896",
          "2016-01-26T05:38:23.355608",
          "2016-01-26T04:18:32.904056",
          "2016-01-26T02:52:19.216381",
          "2016-01-26T01:19:11.633691",
          "2016-01-25T23:38:37.044387",
          "2016-01-25T21:49:59.687938",
          "2016-01-25T19:52:40.942973",
          "2016-01-25T17:45:59.098410",
          "2016-01-25T15:29:09.106283",
          "2016-01-25T13:01:22.314786",
          "2016-01-25T10:21:46.179969",
          "2016-01-25T07:29:23.954367",
          "2016-01-25T04:23:14.350716",
          "2016-01-25T01:02:11.178773",
          "2016-01-24T21:25:02.953075"
         ],
         "y": [
          118.46434090909092,
          118.4573614457831,
          118.44050530035337,
          118.42839682539685,
          118.450929245283,
          118.44791627906979,
          118.42174722222222,
          118.43592990654207,
          118.43545555555555,
          118.42364301552107,
          118.47963106796117,
          118.49542613636363,
          118.49261367837339,
          118.53062693498453,
          118.56216212121213,
          118.56041783216784,
          118.55436791147996,
          118.54670280612244,
          118.55503435114504,
          118.57583396946566,
          118.51795999999999,
          118.49995426659231,
          118.47134394668643,
          118.47989698417437,
          118.52683218772219,
          118.4589439063761,
          118.52442834181623,
          118.43525463743676,
          118.34132854961832,
          118.41431540880502,
          118.3533277903044,
          118.28246690048226,
          118.11654419030194,
          117.89874689589304,
          117.79400271265258,
          117.94500655864198,
          118.05085685029695,
          118.17958382229672,
          118.11647725644698,
          118.16835084557805,
          118.33915148971883,
          118.38986020761246,
          118.53793768945772,
          118.54934046932894,
          118.44529426751593,
          118.44012671755725,
          118.3832922222827,
          118.71207277766372,
          118.6933013392857,
          118.60131776987497
         ]
        }
       ],
       "layout": {
        "autosize": false,
        "height": 600,
        "margin": {
         "b": 10,
         "l": 10,
         "r": 10,
         "t": 10
        },
        "template": {
         "data": {
          "bar": [
           {
            "error_x": {
             "color": "#2a3f5f"
            },
            "error_y": {
             "color": "#2a3f5f"
            },
            "marker": {
             "line": {
              "color": "#E5ECF6",
              "width": 0.5
             }
            },
            "type": "bar"
           }
          ],
          "barpolar": [
           {
            "marker": {
             "line": {
              "color": "#E5ECF6",
              "width": 0.5
             }
            },
            "type": "barpolar"
           }
          ],
          "carpet": [
           {
            "aaxis": {
             "endlinecolor": "#2a3f5f",
             "gridcolor": "white",
             "linecolor": "white",
             "minorgridcolor": "white",
             "startlinecolor": "#2a3f5f"
            },
            "baxis": {
             "endlinecolor": "#2a3f5f",
             "gridcolor": "white",
             "linecolor": "white",
             "minorgridcolor": "white",
             "startlinecolor": "#2a3f5f"
            },
            "type": "carpet"
           }
          ],
          "choropleth": [
           {
            "colorbar": {
             "outlinewidth": 0,
             "ticks": ""
            },
            "type": "choropleth"
           }
          ],
          "contour": [
           {
            "colorbar": {
             "outlinewidth": 0,
             "ticks": ""
            },
            "colorscale": [
             [
              0,
              "#0d0887"
             ],
             [
              0.1111111111111111,
              "#46039f"
             ],
             [
              0.2222222222222222,
              "#7201a8"
             ],
             [
              0.3333333333333333,
              "#9c179e"
             ],
             [
              0.4444444444444444,
              "#bd3786"
             ],
             [
              0.5555555555555556,
              "#d8576b"
             ],
             [
              0.6666666666666666,
              "#ed7953"
             ],
             [
              0.7777777777777778,
              "#fb9f3a"
             ],
             [
              0.8888888888888888,
              "#fdca26"
             ],
             [
              1,
              "#f0f921"
             ]
            ],
            "type": "contour"
           }
          ],
          "contourcarpet": [
           {
            "colorbar": {
             "outlinewidth": 0,
             "ticks": ""
            },
            "type": "contourcarpet"
           }
          ],
          "heatmap": [
           {
            "colorbar": {
             "outlinewidth": 0,
             "ticks": ""
            },
            "colorscale": [
             [
              0,
              "#0d0887"
             ],
             [
              0.1111111111111111,
              "#46039f"
             ],
             [
              0.2222222222222222,
              "#7201a8"
             ],
             [
              0.3333333333333333,
              "#9c179e"
             ],
             [
              0.4444444444444444,
              "#bd3786"
             ],
             [
              0.5555555555555556,
              "#d8576b"
             ],
             [
              0.6666666666666666,
              "#ed7953"
             ],
             [
              0.7777777777777778,
              "#fb9f3a"
             ],
             [
              0.8888888888888888,
              "#fdca26"
             ],
             [
              1,
              "#f0f921"
             ]
            ],
            "type": "heatmap"
           }
          ],
          "heatmapgl": [
           {
            "colorbar": {
             "outlinewidth": 0,
             "ticks": ""
            },
            "colorscale": [
             [
              0,
              "#0d0887"
             ],
             [
              0.1111111111111111,
              "#46039f"
             ],
             [
              0.2222222222222222,
              "#7201a8"
             ],
             [
              0.3333333333333333,
              "#9c179e"
             ],
             [
              0.4444444444444444,
              "#bd3786"
             ],
             [
              0.5555555555555556,
              "#d8576b"
             ],
             [
              0.6666666666666666,
              "#ed7953"
             ],
             [
              0.7777777777777778,
              "#fb9f3a"
             ],
             [
              0.8888888888888888,
              "#fdca26"
             ],
             [
              1,
              "#f0f921"
             ]
            ],
            "type": "heatmapgl"
           }
          ],
          "histogram": [
           {
            "marker": {
             "colorbar": {
              "outlinewidth": 0,
              "ticks": ""
             }
            },
            "type": "histogram"
           }
          ],
          "histogram2d": [
           {
            "colorbar": {
             "outlinewidth": 0,
             "ticks": ""
            },
            "colorscale": [
             [
              0,
              "#0d0887"
             ],
             [
              0.1111111111111111,
              "#46039f"
             ],
             [
              0.2222222222222222,
              "#7201a8"
             ],
             [
              0.3333333333333333,
              "#9c179e"
             ],
             [
              0.4444444444444444,
              "#bd3786"
             ],
             [
              0.5555555555555556,
              "#d8576b"
             ],
             [
              0.6666666666666666,
              "#ed7953"
             ],
             [
              0.7777777777777778,
              "#fb9f3a"
             ],
             [
              0.8888888888888888,
              "#fdca26"
             ],
             [
              1,
              "#f0f921"
             ]
            ],
            "type": "histogram2d"
           }
          ],
          "histogram2dcontour": [
           {
            "colorbar": {
             "outlinewidth": 0,
             "ticks": ""
            },
            "colorscale": [
             [
              0,
              "#0d0887"
             ],
             [
              0.1111111111111111,
              "#46039f"
             ],
             [
              0.2222222222222222,
              "#7201a8"
             ],
             [
              0.3333333333333333,
              "#9c179e"
             ],
             [
              0.4444444444444444,
              "#bd3786"
             ],
             [
              0.5555555555555556,
              "#d8576b"
             ],
             [
              0.6666666666666666,
              "#ed7953"
             ],
             [
              0.7777777777777778,
              "#fb9f3a"
             ],
             [
              0.8888888888888888,
              "#fdca26"
             ],
             [
              1,
              "#f0f921"
             ]
            ],
            "type": "histogram2dcontour"
           }
          ],
          "mesh3d": [
           {
            "colorbar": {
             "outlinewidth": 0,
             "ticks": ""
            },
            "type": "mesh3d"
           }
          ],
          "parcoords": [
           {
            "line": {
             "colorbar": {
              "outlinewidth": 0,
              "ticks": ""
             }
            },
            "type": "parcoords"
           }
          ],
          "pie": [
           {
            "automargin": true,
            "type": "pie"
           }
          ],
          "scatter": [
           {
            "marker": {
             "colorbar": {
              "outlinewidth": 0,
              "ticks": ""
             }
            },
            "type": "scatter"
           }
          ],
          "scatter3d": [
           {
            "line": {
             "colorbar": {
              "outlinewidth": 0,
              "ticks": ""
             }
            },
            "marker": {
             "colorbar": {
              "outlinewidth": 0,
              "ticks": ""
             }
            },
            "type": "scatter3d"
           }
          ],
          "scattercarpet": [
           {
            "marker": {
             "colorbar": {
              "outlinewidth": 0,
              "ticks": ""
             }
            },
            "type": "scattercarpet"
           }
          ],
          "scattergeo": [
           {
            "marker": {
             "colorbar": {
              "outlinewidth": 0,
              "ticks": ""
             }
            },
            "type": "scattergeo"
           }
          ],
          "scattergl": [
           {
            "marker": {
             "colorbar": {
              "outlinewidth": 0,
              "ticks": ""
             }
            },
            "type": "scattergl"
           }
          ],
          "scattermapbox": [
           {
            "marker": {
             "colorbar": {
              "outlinewidth": 0,
              "ticks": ""
             }
            },
            "type": "scattermapbox"
           }
          ],
          "scatterpolar": [
           {
            "marker": {
             "colorbar": {
              "outlinewidth": 0,
              "ticks": ""
             }
            },
            "type": "scatterpolar"
           }
          ],
          "scatterpolargl": [
           {
            "marker": {
             "colorbar": {
              "outlinewidth": 0,
              "ticks": ""
             }
            },
            "type": "scatterpolargl"
           }
          ],
          "scatterternary": [
           {
            "marker": {
             "colorbar": {
              "outlinewidth": 0,
              "ticks": ""
             }
            },
            "type": "scatterternary"
           }
          ],
          "surface": [
           {
            "colorbar": {
             "outlinewidth": 0,
             "ticks": ""
            },
            "colorscale": [
             [
              0,
              "#0d0887"
             ],
             [
              0.1111111111111111,
              "#46039f"
             ],
             [
              0.2222222222222222,
              "#7201a8"
             ],
             [
              0.3333333333333333,
              "#9c179e"
             ],
             [
              0.4444444444444444,
              "#bd3786"
             ],
             [
              0.5555555555555556,
              "#d8576b"
             ],
             [
              0.6666666666666666,
              "#ed7953"
             ],
             [
              0.7777777777777778,
              "#fb9f3a"
             ],
             [
              0.8888888888888888,
              "#fdca26"
             ],
             [
              1,
              "#f0f921"
             ]
            ],
            "type": "surface"
           }
          ],
          "table": [
           {
            "cells": {
             "fill": {
              "color": "#EBF0F8"
             },
             "line": {
              "color": "white"
             }
            },
            "header": {
             "fill": {
              "color": "#C8D4E3"
             },
             "line": {
              "color": "white"
             }
            },
            "type": "table"
           }
          ]
         },
         "layout": {
          "annotationdefaults": {
           "arrowcolor": "#2a3f5f",
           "arrowhead": 0,
           "arrowwidth": 1
          },
          "coloraxis": {
           "colorbar": {
            "outlinewidth": 0,
            "ticks": ""
           }
          },
          "colorscale": {
           "diverging": [
            [
             0,
             "#8e0152"
            ],
            [
             0.1,
             "#c51b7d"
            ],
            [
             0.2,
             "#de77ae"
            ],
            [
             0.3,
             "#f1b6da"
            ],
            [
             0.4,
             "#fde0ef"
            ],
            [
             0.5,
             "#f7f7f7"
            ],
            [
             0.6,
             "#e6f5d0"
            ],
            [
             0.7,
             "#b8e186"
            ],
            [
             0.8,
             "#7fbc41"
            ],
            [
             0.9,
             "#4d9221"
            ],
            [
             1,
             "#276419"
            ]
           ],
           "sequential": [
            [
             0,
             "#0d0887"
            ],
            [
             0.1111111111111111,
             "#46039f"
            ],
            [
             0.2222222222222222,
             "#7201a8"
            ],
            [
             0.3333333333333333,
             "#9c179e"
            ],
            [
             0.4444444444444444,
             "#bd3786"
            ],
            [
             0.5555555555555556,
             "#d8576b"
            ],
            [
             0.6666666666666666,
             "#ed7953"
            ],
            [
             0.7777777777777778,
             "#fb9f3a"
            ],
            [
             0.8888888888888888,
             "#fdca26"
            ],
            [
             1,
             "#f0f921"
            ]
           ],
           "sequentialminus": [
            [
             0,
             "#0d0887"
            ],
            [
             0.1111111111111111,
             "#46039f"
            ],
            [
             0.2222222222222222,
             "#7201a8"
            ],
            [
             0.3333333333333333,
             "#9c179e"
            ],
            [
             0.4444444444444444,
             "#bd3786"
            ],
            [
             0.5555555555555556,
             "#d8576b"
            ],
            [
             0.6666666666666666,
             "#ed7953"
            ],
            [
             0.7777777777777778,
             "#fb9f3a"
            ],
            [
             0.8888888888888888,
             "#fdca26"
            ],
            [
             1,
             "#f0f921"
            ]
           ]
          },
          "colorway": [
           "#636efa",
           "#EF553B",
           "#00cc96",
           "#ab63fa",
           "#FFA15A",
           "#19d3f3",
           "#FF6692",
           "#B6E880",
           "#FF97FF",
           "#FECB52"
          ],
          "font": {
           "color": "#2a3f5f"
          },
          "geo": {
           "bgcolor": "white",
           "lakecolor": "white",
           "landcolor": "#E5ECF6",
           "showlakes": true,
           "showland": true,
           "subunitcolor": "white"
          },
          "hoverlabel": {
           "align": "left"
          },
          "hovermode": "closest",
          "mapbox": {
           "style": "light"
          },
          "paper_bgcolor": "white",
          "plot_bgcolor": "#E5ECF6",
          "polar": {
           "angularaxis": {
            "gridcolor": "white",
            "linecolor": "white",
            "ticks": ""
           },
           "bgcolor": "#E5ECF6",
           "radialaxis": {
            "gridcolor": "white",
            "linecolor": "white",
            "ticks": ""
           }
          },
          "scene": {
           "xaxis": {
            "backgroundcolor": "#E5ECF6",
            "gridcolor": "white",
            "gridwidth": 2,
            "linecolor": "white",
            "showbackground": true,
            "ticks": "",
            "zerolinecolor": "white"
           },
           "yaxis": {
            "backgroundcolor": "#E5ECF6",
            "gridcolor": "white",
            "gridwidth": 2,
            "linecolor": "white",
            "showbackground": true,
            "ticks": "",
            "zerolinecolor": "white"
           },
           "zaxis": {
            "backgroundcolor": "#E5ECF6",
            "gridcolor": "white",
            "gridwidth": 2,
            "linecolor": "white",
            "showbackground": true,
            "ticks": "",
            "zerolinecolor": "white"
           }
          },
          "shapedefaults": {
           "line": {
            "color": "#2a3f5f"
           }
          },
          "ternary": {
           "aaxis": {
            "gridcolor": "white",
            "linecolor": "white",
            "ticks": ""
           },
           "baxis": {
            "gridcolor": "white",
            "linecolor": "white",
            "ticks": ""
           },
           "bgcolor": "#E5ECF6",
           "caxis": {
            "gridcolor": "white",
            "linecolor": "white",
            "ticks": ""
           }
          },
          "title": {
           "x": 0.05
          },
          "xaxis": {
           "automargin": true,
           "gridcolor": "white",
           "linecolor": "white",
           "ticks": "",
           "title": {
            "standoff": 15
           },
           "zerolinecolor": "white",
           "zerolinewidth": 2
          },
          "yaxis": {
           "automargin": true,
           "gridcolor": "white",
           "linecolor": "white",
           "ticks": "",
           "title": {
            "standoff": 15
           },
           "zerolinecolor": "white",
           "zerolinewidth": 2
          }
         }
        },
        "width": 1200,
        "xaxis": {
         "anchor": "y",
         "domain": [
          0,
          0.94
         ]
        },
        "yaxis": {
         "anchor": "x",
         "domain": [
          0,
          1
         ]
        },
        "yaxis2": {
         "anchor": "x",
         "overlaying": "y",
         "side": "right"
        }
       }
      }
     },
     "metadata": {}
    }
   ],
   "source": [
    "# Fig6\n",
    "# chart is zoomable - hover right top\n",
    "fig6 = make_subplots(specs=[[{\"secondary_y\": True}]])\n",
    "fig6.add_trace(go.Candlestick(x=df_exp['start'],\n",
    "                open=df_exp['open'],\n",
    "                high=df_exp['high'],\n",
    "                low=df_exp['low'],\n",
    "                close=df_exp['close'],\n",
    "                increasing_line_color= 'red', decreasing_line_color= 'blue',\n",
    "                name=\"OHLC exp\"))\n",
    "fig6.add_trace(go.Scatter(\n",
    "                x=df_exp['start'],\n",
    "                y=df_exp['mean'],\n",
    "                marker_color=\"purple\",\n",
    "                name=\"bar mean\"))\n",
    "\n",
    "fig6.update_layout(\n",
    "    autosize=False,\n",
    "    width=1200,\n",
    "    height=600,\n",
    "    margin=dict(l=10,r=10,b=10,t=10))\n",
    "fig6.show()"
   ]
  },
  {
   "cell_type": "code",
   "execution_count": null,
   "metadata": {},
   "outputs": [],
   "source": []
  },
  {
   "cell_type": "code",
   "execution_count": null,
   "metadata": {},
   "outputs": [],
   "source": []
  }
 ]
}